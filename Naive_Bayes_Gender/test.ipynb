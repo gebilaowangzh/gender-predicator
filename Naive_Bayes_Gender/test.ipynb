{
 "cells": [
  {
   "cell_type": "code",
   "execution_count": 1,
   "metadata": {},
   "outputs": [],
   "source": [
    "from gender import Gender"
   ]
  },
  {
   "cell_type": "code",
   "execution_count": 2,
   "metadata": {},
   "outputs": [
    {
     "data": {
      "text/plain": [
       "(731622, 731622)"
      ]
     },
     "execution_count": 2,
     "metadata": {},
     "output_type": "execute_result"
    }
   ],
   "source": [
    "#loading test file\n",
    "\n",
    "def test_set(file='data/test_ds.txt'):\n",
    "    names, genders = [], []\n",
    "    f = open(file, 'r')\n",
    "    next(f)\n",
    "    for line in f:\n",
    "        line = line.split('\\t')\n",
    "        # line[2] = full name; line[1] = first name\n",
    "        names.append(line[2])\n",
    "        genders.append(line[3].strip())\n",
    "    \n",
    "    return names, genders\n",
    "\n",
    "\n",
    "names, genders = test_set()\n",
    "len(names), len(genders)"
   ]
  },
  {
   "cell_type": "code",
   "execution_count": 3,
   "metadata": {},
   "outputs": [],
   "source": [
    "# calculating the prediction accuracy \n",
    "\n",
    "def accuracy(method='lap', include_U=True):\n",
    "    global names, genders\n",
    "    def comp(idx):\n",
    "        nonlocal right, mismatch\n",
    "        pred = predict(names[idx], method, False)\n",
    "        real = genders[idx]\n",
    "        if pred[1] == real: right += 1\n",
    "        else: mismatch.append((pred, '<------>', genders[idx]))\n",
    "        \n",
    "    right = 0\n",
    "    mismatch = [('prediction', '<------>', 'observation')]\n",
    "    predict = Gender().predict\n",
    "    sample_size = len(names)\n",
    "    if include_U:\n",
    "        for i in range(len(names)):\n",
    "            comp(i)\n",
    "    else:\n",
    "        for i in range(len(names)):\n",
    "            if genders[i] != 'U': comp(i)\n",
    "            else: sample_size -= 1\n",
    "    return right/sample_size, mismatch"
   ]
  },
  {
   "cell_type": "code",
   "execution_count": null,
   "metadata": {},
   "outputs": [],
   "source": []
  },
  {
   "cell_type": "code",
   "execution_count": 4,
   "metadata": {},
   "outputs": [
    {
     "data": {
      "text/plain": [
       "(0.9371465046157715,\n",
       " [('prediction', '<------>', 'observation'),\n",
       "  (('万宇烟', 'F', 0.6055499573274709), '<------>', 'M'),\n",
       "  (('卞佳臻', 'M', 0.5117781473971769), '<------>', 'F'),\n",
       "  (('索刘敏', 'M', 0.5086917470381878), '<------>', 'F'),\n",
       "  (('付睿', 'M', 0.6372919818456882), '<------>', 'U'),\n",
       "  (('郭连', 'M', 0.5347978585933173), '<------>', 'U'),\n",
       "  (('游丁', 'M', 0.7563559322033898), '<------>', 'U'),\n",
       "  (('梅必霏', 'F', 0.5617018756556652), '<------>', 'M'),\n",
       "  (('林乔', 'M', 0.49097162510748066), '<------>', 'U'),\n",
       "  (('闫韶华', 'M', 0.5934781105033407), '<------>', 'U'),\n",
       "  (('李思宁', 'F', 0.5074970136241429), '<------>', 'M'),\n",
       "  (('钭奕渝', 'F', 0.4845344880455854), '<------>', 'M'),\n",
       "  (('连国萌', 'F', 0.5410949215661441), '<------>', 'M'),\n",
       "  (('刘畏', 'M', 0.7812499999999999), '<------>', 'U'),\n",
       "  (('巢云夕', 'F', 0.48294370286325383), '<------>', 'M'),\n",
       "  (('南英', 'F', 0.8497095739063325), '<------>', 'U'),\n",
       "  (('任善竺', 'F', 0.515157089128229), '<------>', 'M'),\n",
       "  (('容庚', 'M', 0.8711217183770882), '<------>', 'U'),\n",
       "  (('沙洪柳', 'F', 0.573392514338241), '<------>', 'M'),\n",
       "  (('嵇云', 'F', 0.47780957019359555), '<------>', 'U')])"
      ]
     },
     "execution_count": 4,
     "metadata": {},
     "output_type": "execute_result"
    }
   ],
   "source": [
    "# calculating accuracy of laplace method, incuding all genders\n",
    "accu, mismatch = accuracy()\n",
    "# display the accuracy score and some of the mismatched cases\n",
    "accu, mismatch[:20]"
   ]
  },
  {
   "cell_type": "code",
   "execution_count": 5,
   "metadata": {},
   "outputs": [
    {
     "data": {
      "text/plain": [
       "(0.9623151018895784,\n",
       " [('prediction', '<------>', 'observation'),\n",
       "  (('万宇烟', 'F', 0.6055499573274709), '<------>', 'M'),\n",
       "  (('卞佳臻', 'M', 0.5117781473971769), '<------>', 'F'),\n",
       "  (('索刘敏', 'M', 0.5086917470381878), '<------>', 'F'),\n",
       "  (('梅必霏', 'F', 0.5617018756556652), '<------>', 'M'),\n",
       "  (('李思宁', 'F', 0.5074970136241429), '<------>', 'M'),\n",
       "  (('钭奕渝', 'F', 0.4845344880455854), '<------>', 'M'),\n",
       "  (('连国萌', 'F', 0.5410949215661441), '<------>', 'M'),\n",
       "  (('巢云夕', 'F', 0.48294370286325383), '<------>', 'M'),\n",
       "  (('任善竺', 'F', 0.515157089128229), '<------>', 'M'),\n",
       "  (('沙洪柳', 'F', 0.573392514338241), '<------>', 'M'),\n",
       "  (('上官李那', 'F', 0.5988431816367817), '<------>', 'M'),\n",
       "  (('任彦米', 'F', 0.6001639533890436), '<------>', 'M'),\n",
       "  (('司空嘉桐', 'F', 0.4947270082700448), '<------>', 'M'),\n",
       "  (('尤星冉', 'F', 0.5107737217938496), '<------>', 'M'),\n",
       "  (('诸乔楚', 'F', 0.6450424097367288), '<------>', 'M'),\n",
       "  (('苗蕙全', 'F', 0.6018003286852724), '<------>', 'M'),\n",
       "  (('纪会会', 'Undefined', 0.3400954333668674), '<------>', 'F'),\n",
       "  (('毕琳伟', 'F', 0.7100996204211153), '<------>', 'M'),\n",
       "  (('曲晓华', 'M', 0.4005711084999136), '<------>', 'F')])"
      ]
     },
     "execution_count": 5,
     "metadata": {},
     "output_type": "execute_result"
    }
   ],
   "source": [
    "# calculating accuracy of laplace method, excluding undefined genders\n",
    "accu, mismatch = accuracy(include_U=False)\n",
    "# display the accuracy score and some of the mismatched cases\n",
    "accu, mismatch[:20]"
   ]
  },
  {
   "cell_type": "code",
   "execution_count": null,
   "metadata": {},
   "outputs": [],
   "source": []
  },
  {
   "cell_type": "code",
   "execution_count": 6,
   "metadata": {},
   "outputs": [
    {
     "data": {
      "text/plain": [
       "(0.9300936822566844,\n",
       " [('prediction', '<------>', 'observation'),\n",
       "  (('万宇烟', 'F', 0.6571441544919221), '<------>', 'M'),\n",
       "  (('卞佳臻', 'M', 0.512897141401947), '<------>', 'F'),\n",
       "  (('索刘敏', 'M', 0.5094639697360233), '<------>', 'F'),\n",
       "  (('付睿', 'M', 0.6372919818456882), '<------>', 'U'),\n",
       "  (('郭连', 'M', 0.5347978585933173), '<------>', 'U'),\n",
       "  (('游丁', 'M', 0.8612786489746682), '<------>', 'U'),\n",
       "  (('林乔', 'M', 0.49097162510748066), '<------>', 'U'),\n",
       "  (('闫韶华', 'M', 0.5934781105033407), '<------>', 'U'),\n",
       "  (('白榇译', 'M', 0.5307568158065461), '<------>', 'F'),\n",
       "  (('李思宁', 'F', 0.5074970136241429), '<------>', 'M'),\n",
       "  (('钭奕渝', 'F', 0.5743242655385526), '<------>', 'M'),\n",
       "  (('司敬园', 'M', 0.5393666618020849), '<------>', 'F'),\n",
       "  (('连国萌', 'F', 0.7766702031184257), '<------>', 'M'),\n",
       "  (('刘畏', 'M', 0.8627366736693435), '<------>', 'U'),\n",
       "  (('巢云夕', 'F', 0.5254527428157781), '<------>', 'M'),\n",
       "  (('南英', 'F', 0.8497095739063325), '<------>', 'U'),\n",
       "  (('任善竺', 'F', 0.6508855569711229), '<------>', 'M'),\n",
       "  (('容庚', 'M', 0.9418975041328979), '<------>', 'U'),\n",
       "  (('嵇云', 'F', 0.47780957019359555), '<------>', 'U')])"
      ]
     },
     "execution_count": 6,
     "metadata": {},
     "output_type": "execute_result"
    }
   ],
   "source": [
    "# calculating accuracy of good turing method, incuding all genders\n",
    "accu, mismatch = accuracy(method='gt')\n",
    "# display the accuracy score and some of the mismatched cases\n",
    "accu, mismatch[:20]"
   ]
  },
  {
   "cell_type": "code",
   "execution_count": 7,
   "metadata": {},
   "outputs": [
    {
     "data": {
      "text/plain": [
       "(0.9550728644873521,\n",
       " [('prediction', '<------>', 'observation'),\n",
       "  (('万宇烟', 'F', 0.6571441544919221), '<------>', 'M'),\n",
       "  (('卞佳臻', 'M', 0.512897141401947), '<------>', 'F'),\n",
       "  (('索刘敏', 'M', 0.5094639697360233), '<------>', 'F'),\n",
       "  (('白榇译', 'M', 0.5307568158065461), '<------>', 'F'),\n",
       "  (('李思宁', 'F', 0.5074970136241429), '<------>', 'M'),\n",
       "  (('钭奕渝', 'F', 0.5743242655385526), '<------>', 'M'),\n",
       "  (('司敬园', 'M', 0.5393666618020849), '<------>', 'F'),\n",
       "  (('连国萌', 'F', 0.7766702031184257), '<------>', 'M'),\n",
       "  (('巢云夕', 'F', 0.5254527428157781), '<------>', 'M'),\n",
       "  (('任善竺', 'F', 0.6508855569711229), '<------>', 'M'),\n",
       "  (('任彦米', 'F', 0.810353129785596), '<------>', 'M'),\n",
       "  (('司空嘉桐', 'F', 0.5042679439195341), '<------>', 'M'),\n",
       "  (('尤星冉', 'F', 0.5107737217938496), '<------>', 'M'),\n",
       "  (('诸乔楚', 'F', 0.63959665777796), '<------>', 'M'),\n",
       "  (('谷寒宫', 'F', 0.6038967915822041), '<------>', 'M'),\n",
       "  (('纪会会', 'Undefined', 0.3400954333668674), '<------>', 'F'),\n",
       "  (('毕琳伟', 'F', 0.7103688853484734), '<------>', 'M'),\n",
       "  (('曲晓华', 'M', 0.4005711084999136), '<------>', 'F'),\n",
       "  (('卢若熙', 'F', 0.5748285812093373), '<------>', 'M')])"
      ]
     },
     "execution_count": 7,
     "metadata": {},
     "output_type": "execute_result"
    }
   ],
   "source": [
    "# calculating accuracy of good turing method, excluding undefined genders\n",
    "accu, mismatch = accuracy(method='gt', include_U=False)\n",
    "# display the accuracy score and some of the mismatched cases\n",
    "accu, mismatch[:20]"
   ]
  },
  {
   "cell_type": "code",
   "execution_count": null,
   "metadata": {},
   "outputs": [],
   "source": []
  }
 ],
 "metadata": {
  "kernelspec": {
   "display_name": "Python 3",
   "language": "python",
   "name": "python3"
  },
  "language_info": {
   "codemirror_mode": {
    "name": "ipython",
    "version": 3
   },
   "file_extension": ".py",
   "mimetype": "text/x-python",
   "name": "python",
   "nbconvert_exporter": "python",
   "pygments_lexer": "ipython3",
   "version": "3.8.5"
  }
 },
 "nbformat": 4,
 "nbformat_minor": 4
}
