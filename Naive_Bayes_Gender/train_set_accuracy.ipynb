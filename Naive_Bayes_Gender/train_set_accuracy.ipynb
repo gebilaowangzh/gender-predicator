{
 "cells": [
  {
   "cell_type": "code",
   "execution_count": 1,
   "metadata": {},
   "outputs": [],
   "source": [
    "from gender import Gender"
   ]
  },
  {
   "cell_type": "code",
   "execution_count": 2,
   "metadata": {},
   "outputs": [
    {
     "data": {
      "text/plain": [
       "(2926486, 2926486)"
      ]
     },
     "execution_count": 2,
     "metadata": {},
     "output_type": "execute_result"
    }
   ],
   "source": [
    "#loading test file\n",
    "\n",
    "def test_set(file='data/t.txt'):\n",
    "    names, genders = [], []\n",
    "    f = open(file, 'r')\n",
    "    next(f)\n",
    "    for line in f:\n",
    "        line = line.split('\\t')\n",
    "        # line[2] = full name; line[1] = first name\n",
    "        names.append(line[2])\n",
    "        genders.append(line[3].strip())\n",
    "    \n",
    "    return names, genders\n",
    "\n",
    "\n",
    "names, genders = test_set()\n",
    "len(names), len(genders)"
   ]
  },
  {
   "cell_type": "code",
   "execution_count": null,
   "metadata": {},
   "outputs": [],
   "source": []
  },
  {
   "cell_type": "code",
   "execution_count": 3,
   "metadata": {},
   "outputs": [],
   "source": [
    "# calculating the prediction accuracy \n",
    "\n",
    "def accuracy(method='lap', include_U=True):\n",
    "    global names, genders\n",
    "    def comp(idx):\n",
    "        nonlocal right, mismatch\n",
    "        pred = predict(names[idx], method, False)\n",
    "        real = genders[idx]\n",
    "        if pred[1] == real: right += 1\n",
    "        else: mismatch.append((pred, '<------>', genders[idx]))\n",
    "        \n",
    "    right = 0\n",
    "    mismatch = [('prediction', '<------>', 'observation')]\n",
    "    predict = Gender().predict\n",
    "    sample_size = len(names)\n",
    "    if include_U:\n",
    "        for i in range(len(names)):\n",
    "            comp(i)\n",
    "    else:\n",
    "        for i in range(len(names)):\n",
    "            if genders[i] != 'U': comp(i)\n",
    "            else: sample_size -= 1\n",
    "    return right/sample_size, mismatch"
   ]
  },
  {
   "cell_type": "code",
   "execution_count": null,
   "metadata": {},
   "outputs": [],
   "source": []
  },
  {
   "cell_type": "code",
   "execution_count": 4,
   "metadata": {},
   "outputs": [
    {
     "data": {
      "text/plain": [
       "(0.9376819161273965,\n",
       " [('prediction', '<------>', 'observation'),\n",
       "  (('贾晔', 'M', 0.49505494505494513), '<------>', 'U'),\n",
       "  (('秋紫俊', 'F', 0.6188568425156774), '<------>', 'M'),\n",
       "  (('武美啸', 'M', 0.5175399048014521), '<------>', 'F'),\n",
       "  (('林文冰', 'F', 0.5265047592527463), '<------>', 'U'),\n",
       "  (('宋文会', 'M', 0.5966601669895142), '<------>', 'U'),\n",
       "  (('吴乐懿', 'M', 0.6334930288052831), '<------>', 'U'),\n",
       "  (('林水荣', 'M', 0.7984595416770441), '<------>', 'U'),\n",
       "  (('张彩龙', 'F', 0.5669448429175324), '<------>', 'M'),\n",
       "  (('褚飘庆', 'F', 0.6278352387730713), '<------>', 'M'),\n",
       "  (('沈云华', 'M', 0.3768863196945002), '<------>', 'U'),\n",
       "  (('施正漪', 'F', 0.7944377272158326), '<------>', 'M'),\n",
       "  (('吉晗', 'F', 0.6603485838779957), '<------>', 'M'),\n",
       "  (('柯逸', 'M', 0.6708860759493671), '<------>', 'U'),\n",
       "  (('吴宝懿', 'M', 0.684011403531615), '<------>', 'U'),\n",
       "  (('赵珣', 'M', 0.4626865671641791), '<------>', 'U'),\n",
       "  (('魏俊华', 'M', 0.812477928343533), '<------>', 'U'),\n",
       "  (('卞郡', 'F', 0.5093457943925234), '<------>', 'M'),\n",
       "  (('陈游', 'M', 0.7941747572815534), '<------>', 'U'),\n",
       "  (('于树玉', 'M', 0.70110248923013), '<------>', 'U')])"
      ]
     },
     "execution_count": 4,
     "metadata": {},
     "output_type": "execute_result"
    }
   ],
   "source": [
    "# calculating accuracy of laplace method, incuding all genders\n",
    "accu, mismatch = accuracy()\n",
    "# display the accuracy score and some of the mismatched cases\n",
    "accu, mismatch[:20]"
   ]
  },
  {
   "cell_type": "code",
   "execution_count": null,
   "metadata": {},
   "outputs": [],
   "source": []
  },
  {
   "cell_type": "code",
   "execution_count": 5,
   "metadata": {},
   "outputs": [
    {
     "data": {
      "text/plain": [
       "(0.9624090238263583,\n",
       " [('prediction', '<------>', 'observation'),\n",
       "  (('秋紫俊', 'F', 0.6188568425156774), '<------>', 'M'),\n",
       "  (('武美啸', 'M', 0.5175399048014521), '<------>', 'F'),\n",
       "  (('张彩龙', 'F', 0.5669448429175324), '<------>', 'M'),\n",
       "  (('褚飘庆', 'F', 0.6278352387730713), '<------>', 'M'),\n",
       "  (('施正漪', 'F', 0.7944377272158326), '<------>', 'M'),\n",
       "  (('吉晗', 'F', 0.6603485838779957), '<------>', 'M'),\n",
       "  (('卞郡', 'F', 0.5093457943925234), '<------>', 'M'),\n",
       "  (('段常桃', 'F', 0.6254946956457782), '<------>', 'M'),\n",
       "  (('栾德慧', 'F', 0.5536782694266356), '<------>', 'M'),\n",
       "  (('李旭彤', 'M', 0.5467137154925025), '<------>', 'F'),\n",
       "  (('乔海云', 'M', 0.5714315674455618), '<------>', 'F'),\n",
       "  (('王越M', 'Undefined', 0.7078066158956854), '<------>', 'F'),\n",
       "  (('游松菱', 'F', 0.7711401793521472), '<------>', 'M'),\n",
       "  (('饶璃', 'F', 0.5862068965517242), '<------>', 'M'),\n",
       "  (('闻思嘉', 'F', 0.5991541905808809), '<------>', 'M'),\n",
       "  (('杨坷潼', 'F', 0.6194318626785917), '<------>', 'M'),\n",
       "  (('蒲厘杉', 'M', 0.6062027508955053), '<------>', 'F'),\n",
       "  (('徐静龙', 'F', 0.49400336986660304), '<------>', 'M'),\n",
       "  (('张艳忠', 'F', 0.6472623390174008), '<------>', 'M')])"
      ]
     },
     "execution_count": 5,
     "metadata": {},
     "output_type": "execute_result"
    }
   ],
   "source": [
    "# calculating accuracy of laplace method, excluding undefined genders\n",
    "accu, mismatch = accuracy(include_U=False)\n",
    "# display the accuracy score and some of the mismatched cases\n",
    "accu, mismatch[:20]"
   ]
  },
  {
   "cell_type": "code",
   "execution_count": null,
   "metadata": {},
   "outputs": [],
   "source": []
  },
  {
   "cell_type": "code",
   "execution_count": 6,
   "metadata": {},
   "outputs": [
    {
     "data": {
      "text/plain": [
       "(0.9307989171996722,\n",
       " [('prediction', '<------>', 'observation'),\n",
       "  (('贾晔', 'M', 0.49505494505494513), '<------>', 'U'),\n",
       "  (('秋紫俊', 'F', 0.6227565027133336), '<------>', 'M'),\n",
       "  (('武美啸', 'M', 0.7945392799222982), '<------>', 'F'),\n",
       "  (('林文冰', 'F', 0.5265047592527463), '<------>', 'U'),\n",
       "  (('宋文会', 'M', 0.5966601669895142), '<------>', 'U'),\n",
       "  (('吴乐懿', 'M', 0.6174312283858132), '<------>', 'U'),\n",
       "  (('林水荣', 'M', 0.7984595416770441), '<------>', 'U'),\n",
       "  (('张彩龙', 'F', 0.7571218017776794), '<------>', 'M'),\n",
       "  (('沈云华', 'M', 0.3768863196945002), '<------>', 'U'),\n",
       "  (('施正漪', 'F', 0.7621473175264708), '<------>', 'M'),\n",
       "  (('吉晗', 'F', 0.662272396212673), '<------>', 'M'),\n",
       "  (('柯逸', 'M', 0.6708860759493671), '<------>', 'U'),\n",
       "  (('吴宝懿', 'M', 0.662937360224399), '<------>', 'U'),\n",
       "  (('赵珣', 'M', 0.8688826744629464), '<------>', 'U'),\n",
       "  (('魏俊华', 'M', 0.812477928343533), '<------>', 'U'),\n",
       "  (('贾渝', 'F', 0.5544634224943603), '<------>', 'M'),\n",
       "  (('卞郡', 'F', 0.5190476190476191), '<------>', 'M'),\n",
       "  (('陈游', 'M', 0.7529339571987421), '<------>', 'U'),\n",
       "  (('于树玉', 'M', 0.7278694507255835), '<------>', 'U')])"
      ]
     },
     "execution_count": 6,
     "metadata": {},
     "output_type": "execute_result"
    }
   ],
   "source": [
    "# calculating accuracy of good turing method, incuding all genders\n",
    "accu, mismatch = accuracy(method='gt')\n",
    "# display the accuracy score and some of the mismatched cases\n",
    "accu, mismatch[:20]"
   ]
  },
  {
   "cell_type": "code",
   "execution_count": null,
   "metadata": {},
   "outputs": [],
   "source": []
  },
  {
   "cell_type": "code",
   "execution_count": 7,
   "metadata": {},
   "outputs": [
    {
     "data": {
      "text/plain": [
       "(0.955344517019629,\n",
       " [('prediction', '<------>', 'observation'),\n",
       "  (('秋紫俊', 'F', 0.6227565027133336), '<------>', 'M'),\n",
       "  (('武美啸', 'M', 0.7945392799222982), '<------>', 'F'),\n",
       "  (('张彩龙', 'F', 0.7571218017776794), '<------>', 'M'),\n",
       "  (('施正漪', 'F', 0.7621473175264708), '<------>', 'M'),\n",
       "  (('吉晗', 'F', 0.662272396212673), '<------>', 'M'),\n",
       "  (('贾渝', 'F', 0.5544634224943603), '<------>', 'M'),\n",
       "  (('卞郡', 'F', 0.5190476190476191), '<------>', 'M'),\n",
       "  (('段常桃', 'F', 0.6131184187129176), '<------>', 'M'),\n",
       "  (('余舁', 'F', 0.5190522056268192), '<------>', 'M'),\n",
       "  (('姜明瑾', 'M', 0.5441911101311979), '<------>', 'F'),\n",
       "  (('栾德慧', 'F', 0.5536782694266356), '<------>', 'M'),\n",
       "  (('李旭彤', 'M', 0.5475283303662931), '<------>', 'F'),\n",
       "  (('乔海云', 'M', 0.5714315674455618), '<------>', 'F'),\n",
       "  (('王越M', 'Undefined', 0.7078066158956854), '<------>', 'F'),\n",
       "  (('宋悠也', 'M', 0.6709454839161347), '<------>', 'F'),\n",
       "  (('潘珑瑚', 'Undefined', 0.5830852073228867), '<------>', 'F'),\n",
       "  (('游松菱', 'F', 0.754092362381194), '<------>', 'M'),\n",
       "  (('饶璃', 'F', 0.5719935875937088), '<------>', 'M'),\n",
       "  (('闻思嘉', 'F', 0.5991541905808809), '<------>', 'M')])"
      ]
     },
     "execution_count": 7,
     "metadata": {},
     "output_type": "execute_result"
    }
   ],
   "source": [
    "# calculating accuracy of good turing method, excluding undefined genders\n",
    "accu, mismatch = accuracy(method='gt', include_U=False)\n",
    "# display the accuracy score and some of the mismatched cases\n",
    "accu, mismatch[:20]"
   ]
  }
 ],
 "metadata": {
  "kernelspec": {
   "display_name": "Python 3",
   "language": "python",
   "name": "python3"
  },
  "language_info": {
   "codemirror_mode": {
    "name": "ipython",
    "version": 3
   },
   "file_extension": ".py",
   "mimetype": "text/x-python",
   "name": "python",
   "nbconvert_exporter": "python",
   "pygments_lexer": "ipython3",
   "version": "3.8.5"
  }
 },
 "nbformat": 4,
 "nbformat_minor": 4
}
