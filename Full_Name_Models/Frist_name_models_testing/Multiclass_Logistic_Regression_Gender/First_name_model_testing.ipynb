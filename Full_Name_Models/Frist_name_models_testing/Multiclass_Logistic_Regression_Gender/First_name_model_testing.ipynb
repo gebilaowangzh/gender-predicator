{
 "cells": [
  {
   "cell_type": "markdown",
   "id": "787b3ee9",
   "metadata": {},
   "source": [
    "## Overview\n",
    "- [Testing on full names](#test_full)\n",
    "    - [Testing against the train/dev sets](#train_dev)\n",
    "    - [Testing against the test set](#test_set)\n",
    "- [Test on first names](#first_name)\n",
    "    - [Testing against the train/dev sets](#train_dev2)\n",
    "    - [Testing against the test set](#test_set2)"
   ]
  },
  {
   "cell_type": "code",
   "execution_count": 3,
   "id": "a8c20394",
   "metadata": {},
   "outputs": [],
   "source": [
    "from genderLR import GenderLR\n",
    "from utils import *\n",
    "\n",
    "gender = GenderLR()"
   ]
  },
  {
   "cell_type": "code",
   "execution_count": null,
   "id": "a7bd07a9",
   "metadata": {},
   "outputs": [],
   "source": []
  },
  {
   "cell_type": "markdown",
   "id": "c9b938f2",
   "metadata": {},
   "source": [
    "<a name='test_full'></a>\n",
    "## Testing on full names"
   ]
  },
  {
   "cell_type": "markdown",
   "id": "986b17fc",
   "metadata": {},
   "source": [
    "<a name='train_dev'></a>\n",
    "### Testing against the train/dev sets"
   ]
  },
  {
   "cell_type": "code",
   "execution_count": 4,
   "id": "a42cb822",
   "metadata": {},
   "outputs": [
    {
     "data": {
      "text/plain": [
       "(100000,\n",
       " [['阎莹暂', 'F'], ['吕荣辉', 'M'], ['曾泽彬', 'M'], ['董二庄', 'M'], ['华治权', 'M']])"
      ]
     },
     "execution_count": 4,
     "metadata": {},
     "output_type": "execute_result"
    }
   ],
   "source": [
    "train_ds_all = data_loader('data/train_ds.txt')\n",
    "train_ds, train_ds_dev = train_ds_all[:100000], train_ds_all[100000:]\n",
    "len(train_ds), train_ds[:5]"
   ]
  },
  {
   "cell_type": "code",
   "execution_count": 5,
   "id": "a8883aff",
   "metadata": {},
   "outputs": [
    {
     "data": {
      "text/plain": [
       "(0.95492,\n",
       " [['name', 'gender', 'pred', 'prob'],\n",
       "  ['贾晔', 'U', 'M', 0.40640049019849533],\n",
       "  ['林文冰', 'U', 'M', 0.6743175415253797],\n",
       "  ['宋文会', 'U', 'M', 0.6135669859259315],\n",
       "  ['吴乐懿', 'U', 'M', 0.8300395610175295],\n",
       "  ['林水荣', 'U', 'M', 0.9270598936609558],\n",
       "  ['施正漪', 'M', 'F', 0.7704180986894983],\n",
       "  ['吉晗', 'M', 'F', 0.6536717990218155],\n",
       "  ['柯逸', 'U', 'M', 0.7354662573578914],\n",
       "  ['终晨云', 'M', 'F', 0.5007160117983905],\n",
       "  ['张晓华', 'M', 'F', 0.5262898528073406],\n",
       "  ['吴宝懿', 'U', 'M', 0.939861336175106],\n",
       "  ['赵珣', 'U', 'M', 0.47723471469191386],\n",
       "  ['魏俊华', 'U', 'M', 0.8885340496765125],\n",
       "  ['卞郡', 'M', 'F', 0.4492423468024235],\n",
       "  ['陈游', 'U', 'M', 0.8091822301550559],\n",
       "  ['于树玉', 'U', 'M', 0.7308590990958171],\n",
       "  ['段常桃', 'M', 'F', 0.5039338213337725],\n",
       "  ['荷英', 'U', 'F', 0.8609835356439166],\n",
       "  ['黄杨华', 'U', 'M', 0.7864069411425665]])"
      ]
     },
     "execution_count": 5,
     "metadata": {},
     "output_type": "execute_result"
    }
   ],
   "source": [
    "# test the accuracy of the model on the selected train set\n",
    "# including those gender undefined cases\n",
    "accu = gender.accuracy(train_ds, full_name=True)\n",
    "accu, gender.mismatch[:20]"
   ]
  },
  {
   "cell_type": "code",
   "execution_count": null,
   "id": "f7de04a5",
   "metadata": {},
   "outputs": [],
   "source": []
  },
  {
   "cell_type": "code",
   "execution_count": 6,
   "id": "22094c99",
   "metadata": {},
   "outputs": [
    {
     "data": {
      "text/plain": [
       "(0.9773533452256464,\n",
       " [['name', 'gender', 'pred', 'prob'],\n",
       "  ['施正漪', 'M', 'F', 0.7704180986894983],\n",
       "  ['吉晗', 'M', 'F', 0.6536717990218155],\n",
       "  ['终晨云', 'M', 'F', 0.5007160117983905],\n",
       "  ['张晓华', 'M', 'F', 0.5262898528073406],\n",
       "  ['卞郡', 'M', 'F', 0.4492423468024235],\n",
       "  ['段常桃', 'M', 'F', 0.5039338213337725],\n",
       "  ['李旭彤', 'F', 'M', 0.7795938004611246],\n",
       "  ['乔海云', 'F', 'M', 0.6367215582947406],\n",
       "  ['游松菱', 'M', 'F', 0.6828052234934916],\n",
       "  ['闻思嘉', 'M', 'F', 0.529137167730791],\n",
       "  ['卓华昕', 'M', 'F', 0.44526170742995663],\n",
       "  ['张艳忠', 'M', 'F', 0.6786791188738392],\n",
       "  ['郁琦', 'M', 'F', 0.3581180542375616],\n",
       "  ['边新捧', 'F', 'M', 0.5762718239593515],\n",
       "  ['池寿丹', 'M', 'F', 0.8798694099727873],\n",
       "  ['苗云清', 'M', 'U', 0.3532734617770906],\n",
       "  ['李桂阳', 'F', 'M', 0.5339663638265105],\n",
       "  ['曾祥英', 'F', 'M', 0.6135133617781545],\n",
       "  ['关晶源', 'F', 'M', 0.5065397044341299]])"
      ]
     },
     "execution_count": 6,
     "metadata": {},
     "output_type": "execute_result"
    }
   ],
   "source": [
    "# test the accuracy of the model on the selected train set\n",
    "# excluding those gender undefined cases\n",
    "accu = gender.accuracy(train_ds, full_name=True, exclude_U=True)\n",
    "accu, gender.mismatch[:20]"
   ]
  },
  {
   "cell_type": "code",
   "execution_count": null,
   "id": "dae441d6",
   "metadata": {},
   "outputs": [],
   "source": []
  },
  {
   "cell_type": "markdown",
   "id": "42d1c6dc",
   "metadata": {},
   "source": [
    "**For the rest of the original train set**"
   ]
  },
  {
   "cell_type": "code",
   "execution_count": 7,
   "id": "871fd9a2",
   "metadata": {},
   "outputs": [
    {
     "data": {
      "text/plain": [
       "(0.9466896351158294,\n",
       " [['name', 'gender', 'pred', 'prob'],\n",
       "  ['刘博今', 'U', 'M', 0.9707047450933136],\n",
       "  ['德春', 'F', 'M', 0.37994922908444184],\n",
       "  ['王水', 'U', 'M', 0.7747237307066903],\n",
       "  ['白若清', 'M', 'F', 0.5148961424899021],\n",
       "  ['萧丁', 'U', 'M', 0.7661898310914489],\n",
       "  ['果叶', 'U', 'F', 0.742756560737446],\n",
       "  ['张玉乐', 'U', 'M', 0.45458259843519183],\n",
       "  ['聂秀国', 'M', 'F', 0.5478546574622881],\n",
       "  ['卓礼萱', 'M', 'F', 0.5602594339563255],\n",
       "  ['巩亚卓', 'M', 'F', 0.5366690277861579],\n",
       "  ['公羊云平', 'M', 'U', 0.5071093333990999],\n",
       "  ['邱春荣', 'F', 'M', 0.7478654961817557],\n",
       "  ['王一晓', 'U', 'M', 0.7286339835935126],\n",
       "  ['倪钰滋', 'M', 'F', 0.5048349551733823],\n",
       "  ['潘潇汝', 'F', 'M', 0.5003482503014777],\n",
       "  ['汤煊怡', 'F', 'M', 0.5415553325343744],\n",
       "  ['濮阳晓晓', 'F', 'U', 0.47603372050175013],\n",
       "  ['林清荣', 'U', 'M', 0.8549075931670357],\n",
       "  ['黎喜', 'U', 'M', 0.790668723733955]])"
      ]
     },
     "execution_count": 7,
     "metadata": {},
     "output_type": "execute_result"
    }
   ],
   "source": [
    "# test the accuracy of the model on the rest of the original train set\n",
    "# including those gender undefined cases\n",
    "\n",
    "accu = gender.accuracy(train_ds_dev, full_name=True)\n",
    "accu, gender.mismatch[:20]"
   ]
  },
  {
   "cell_type": "code",
   "execution_count": null,
   "id": "f22404e0",
   "metadata": {},
   "outputs": [],
   "source": []
  },
  {
   "cell_type": "code",
   "execution_count": 8,
   "id": "fa40c891",
   "metadata": {},
   "outputs": [
    {
     "data": {
      "text/plain": [
       "(0.9702947322091952,\n",
       " [['name', 'gender', 'pred', 'prob'],\n",
       "  ['德春', 'F', 'M', 0.37994922908444184],\n",
       "  ['白若清', 'M', 'F', 0.5148961424899021],\n",
       "  ['聂秀国', 'M', 'F', 0.5478546574622881],\n",
       "  ['卓礼萱', 'M', 'F', 0.5602594339563255],\n",
       "  ['巩亚卓', 'M', 'F', 0.5366690277861579],\n",
       "  ['公羊云平', 'M', 'U', 0.5071093333990999],\n",
       "  ['邱春荣', 'F', 'M', 0.7478654961817557],\n",
       "  ['倪钰滋', 'M', 'F', 0.5048349551733823],\n",
       "  ['潘潇汝', 'F', 'M', 0.5003482503014777],\n",
       "  ['汤煊怡', 'F', 'M', 0.5415553325343744],\n",
       "  ['濮阳晓晓', 'F', 'U', 0.47603372050175013],\n",
       "  ['邵舒阳', 'M', 'F', 0.5277071334916746],\n",
       "  ['广雨辰', 'F', 'M', 0.858384099403983],\n",
       "  ['齐金玉', 'M', 'F', 0.6371652871900674],\n",
       "  ['李璞', 'F', 'M', 0.8078102328127373],\n",
       "  ['郝春华', 'M', 'F', 0.3646456564000686],\n",
       "  ['耿义雅', 'M', 'F', 0.6583017865288876],\n",
       "  ['溥卓诗', 'M', 'F', 0.5504687395587152],\n",
       "  ['明群', 'M', 'U', 0.5271229497252596]])"
      ]
     },
     "execution_count": 8,
     "metadata": {},
     "output_type": "execute_result"
    }
   ],
   "source": [
    "# test the accuracy of the model on the rest of the original train set\n",
    "# excluding those gender undefined cases\n",
    "\n",
    "accu = gender.accuracy(train_ds_dev, full_name=True, exclude_U=True)\n",
    "accu, gender.mismatch[:20]"
   ]
  },
  {
   "cell_type": "code",
   "execution_count": null,
   "id": "da57c990",
   "metadata": {},
   "outputs": [],
   "source": []
  },
  {
   "cell_type": "markdown",
   "id": "3678ccea",
   "metadata": {},
   "source": [
    "**For the original dev set**"
   ]
  },
  {
   "cell_type": "code",
   "execution_count": 10,
   "id": "23d53792",
   "metadata": {},
   "outputs": [
    {
     "data": {
      "text/plain": [
       "(365811,\n",
       " [['冯瑞琳', 'F'], ['曹凯棋', 'M'], ['危义祥', 'M'], ['强识闻', 'M'], ['钮缤鲃', 'M']])"
      ]
     },
     "execution_count": 10,
     "metadata": {},
     "output_type": "execute_result"
    }
   ],
   "source": [
    "# loading the original dev set\n",
    "dev_ds = data_loader('data/dev_ds.txt')\n",
    "len(dev_ds), dev_ds[:5]"
   ]
  },
  {
   "cell_type": "code",
   "execution_count": 11,
   "id": "84e54c25",
   "metadata": {},
   "outputs": [
    {
     "data": {
      "text/plain": [
       "(0.94644502215625,\n",
       " [['name', 'gender', 'pred', 'prob'],\n",
       "  ['付睿', 'U', 'M', 0.8311858450077128],\n",
       "  ['郭连', 'U', 'F', 0.6128853366948264],\n",
       "  ['游丁', 'U', 'M', 0.7661898310914489],\n",
       "  ['林乔', 'U', 'M', 0.46442977434012034],\n",
       "  ['闫韶华', 'U', 'M', 0.8835874436603273],\n",
       "  ['李思宁', 'M', 'F', 0.5513951408603314],\n",
       "  ['祝詹晨', 'M', 'U', 0.4289339476065103],\n",
       "  ['车萃卜', 'F', 'M', 0.5218822803705685],\n",
       "  ['刘畏', 'U', 'M', 0.5632632879903952],\n",
       "  ['巢云夕', 'M', 'F', 0.5139186479273077],\n",
       "  ['南英', 'U', 'F', 0.8609835356439166],\n",
       "  ['武亭', 'F', 'M', 0.5835804599462253],\n",
       "  ['汤云瑞', 'M', 'F', 0.5278466163026296],\n",
       "  ['容庚', 'U', 'M', 0.7025191336050127],\n",
       "  ['李润培', 'U', 'M', 0.948242222916413],\n",
       "  ['潘雪明', 'U', 'F', 0.5222983314582598],\n",
       "  ['罗九', 'U', 'M', 0.8759067846656167],\n",
       "  ['杨棣华', 'U', 'M', 0.7546019635927789],\n",
       "  ['隋文', 'U', 'M', 0.6451627573058977]])"
      ]
     },
     "execution_count": 11,
     "metadata": {},
     "output_type": "execute_result"
    }
   ],
   "source": [
    "# test the accuracy of the model on the original dev set\n",
    "# including those gender undefined cases\n",
    "\n",
    "accu = gender.accuracy(dev_ds, full_name=True)\n",
    "accu, gender.mismatch[:20]"
   ]
  },
  {
   "cell_type": "code",
   "execution_count": null,
   "id": "120a1334",
   "metadata": {},
   "outputs": [],
   "source": []
  },
  {
   "cell_type": "code",
   "execution_count": 12,
   "id": "353e5c05",
   "metadata": {},
   "outputs": [
    {
     "data": {
      "text/plain": [
       "(0.9705512482947177,\n",
       " [['name', 'gender', 'pred', 'prob'],\n",
       "  ['李思宁', 'M', 'F', 0.5513951408603314],\n",
       "  ['祝詹晨', 'M', 'U', 0.4289339476065103],\n",
       "  ['车萃卜', 'F', 'M', 0.5218822803705685],\n",
       "  ['巢云夕', 'M', 'F', 0.5139186479273077],\n",
       "  ['武亭', 'F', 'M', 0.5835804599462253],\n",
       "  ['汤云瑞', 'M', 'F', 0.5278466163026296],\n",
       "  ['孙坤玥', 'M', 'F', 0.5255140277152626],\n",
       "  ['诸乔楚', 'M', 'F', 0.5397862223520067],\n",
       "  ['宗继红', 'M', 'F', 0.5753134922560033],\n",
       "  ['纪会会', 'F', 'U', 0.5074093787912801],\n",
       "  ['毕琳伟', 'M', 'F', 0.7279461459535833],\n",
       "  ['孙军红', 'F', 'M', 0.9009563144219227],\n",
       "  ['张文瑜', 'M', 'F', 0.6038500746856287],\n",
       "  ['龙佳桤', 'M', 'F', 0.7706763303877168],\n",
       "  ['严滠芳', 'M', 'F', 0.9982434513411969],\n",
       "  ['毛银', 'F', 'M', 0.6033869728115671],\n",
       "  ['鲍晗', 'M', 'F', 0.6536717990218155],\n",
       "  ['祝舍明', 'M', 'U', 0.5650848281413636],\n",
       "  ['汪砰', 'M', 'U', 0.554112070901956]])"
      ]
     },
     "execution_count": 12,
     "metadata": {},
     "output_type": "execute_result"
    }
   ],
   "source": [
    "# test the accuracy of the model on the original dev set\n",
    "# excluding those gender undefined cases\n",
    "\n",
    "accu = gender.accuracy(dev_ds, full_name=True, exclude_U=True)\n",
    "accu, gender.mismatch[:20]"
   ]
  },
  {
   "cell_type": "code",
   "execution_count": null,
   "id": "b5de3f0f",
   "metadata": {},
   "outputs": [],
   "source": []
  },
  {
   "cell_type": "markdown",
   "id": "bf528ae2",
   "metadata": {},
   "source": [
    "<a name='test_set'></a>\n",
    "## Testing against the test set"
   ]
  },
  {
   "cell_type": "code",
   "execution_count": 13,
   "id": "cfa6e7da",
   "metadata": {},
   "outputs": [
    {
     "data": {
      "text/plain": [
       "(365811,\n",
       " [['邬爱清', 'F'], ['杜文吕', 'M'], ['任千焱', 'M'], ['鲍梦冉', 'F'], ['薛俊霖', 'M']])"
      ]
     },
     "execution_count": 13,
     "metadata": {},
     "output_type": "execute_result"
    }
   ],
   "source": [
    "# loading the original test set\n",
    "# please note that the test set contains full names\n",
    "test_ds = data_loader('data/test_ds.txt')\n",
    "len(test_ds), test_ds[:5]"
   ]
  },
  {
   "cell_type": "code",
   "execution_count": 14,
   "id": "9ce0775b",
   "metadata": {},
   "outputs": [
    {
     "data": {
      "text/plain": [
       "(0.9462728020753887,\n",
       " [['name', 'gender', 'pred', 'prob'],\n",
       "  ['顾仁疋', 'F', 'M', 0.951494650027016],\n",
       "  ['幸路', 'U', 'M', 0.7046140119549571],\n",
       "  ['商禹', 'U', 'M', 0.9143276590605068],\n",
       "  ['易宛其', 'M', 'F', 0.7085827978822331],\n",
       "  ['蔚韦君', 'M', 'F', 0.7219030270992229],\n",
       "  ['任爰好', 'M', 'F', 0.7521378056877494],\n",
       "  ['童仕君', 'U', 'M', 0.8478630748258673],\n",
       "  ['杨晓一', 'U', 'M', 0.7286339835935126],\n",
       "  ['舒海华', 'U', 'M', 0.7885843833905349],\n",
       "  ['卢少冰', 'U', 'M', 0.7701917415910329],\n",
       "  ['范文佳', 'M', 'F', 0.45505228616429405],\n",
       "  ['史梵', 'M', 'F', 0.39515143017123255],\n",
       "  ['吴昕阳', 'U', 'M', 0.9279654532438039],\n",
       "  ['王春清', 'F', 'M', 0.7151642962315684],\n",
       "  ['农月部', 'M', 'F', 0.9903755821554568],\n",
       "  ['淳于文灵', 'M', 'F', 0.5427887968864502],\n",
       "  ['井建华', 'U', 'M', 0.8129042376544283],\n",
       "  ['辜永红', 'F', 'M', 0.702495246245912],\n",
       "  ['安彬', 'U', 'M', 0.8379973144736247]])"
      ]
     },
     "execution_count": 14,
     "metadata": {},
     "output_type": "execute_result"
    }
   ],
   "source": [
    "# test the accuracy of the model on the original test set\n",
    "# including those gender undefined cases\n",
    "\n",
    "accu = gender.accuracy(test_ds, full_name=True)\n",
    "accu, gender.mismatch[:20]"
   ]
  },
  {
   "cell_type": "code",
   "execution_count": null,
   "id": "11423419",
   "metadata": {},
   "outputs": [],
   "source": []
  },
  {
   "cell_type": "code",
   "execution_count": 15,
   "id": "adef6a48",
   "metadata": {},
   "outputs": [
    {
     "data": {
      "text/plain": [
       "(0.970174685114852,\n",
       " [['name', 'gender', 'pred', 'prob'],\n",
       "  ['顾仁疋', 'F', 'M', 0.951494650027016],\n",
       "  ['易宛其', 'M', 'F', 0.7085827978822331],\n",
       "  ['蔚韦君', 'M', 'F', 0.7219030270992229],\n",
       "  ['任爰好', 'M', 'F', 0.7521378056877494],\n",
       "  ['范文佳', 'M', 'F', 0.45505228616429405],\n",
       "  ['史梵', 'M', 'F', 0.39515143017123255],\n",
       "  ['王春清', 'F', 'M', 0.7151642962315684],\n",
       "  ['农月部', 'M', 'F', 0.9903755821554568],\n",
       "  ['淳于文灵', 'M', 'F', 0.5427887968864502],\n",
       "  ['辜永红', 'F', 'M', 0.702495246245912],\n",
       "  ['聂驯侘', 'M', 'U', 0.554112070901956],\n",
       "  ['李来月', 'F', 'M', 0.788230634374804],\n",
       "  ['宁文蔚', 'M', 'F', 0.5391734909647223],\n",
       "  ['常海仪', 'M', 'F', 0.7240201061900376],\n",
       "  ['蓝柳扬', 'F', 'M', 0.5368824575412814],\n",
       "  ['尹昕', 'F', 'M', 0.4691869057902933],\n",
       "  ['查群', 'F', 'U', 0.5271229497252596],\n",
       "  ['雷琦琦', 'M', 'F', 0.3581180542375616],\n",
       "  ['家雅凯', 'M', 'F', 0.6117890475114353]])"
      ]
     },
     "execution_count": 15,
     "metadata": {},
     "output_type": "execute_result"
    }
   ],
   "source": [
    "# test the accuracy of the model on the original test set\n",
    "# excluding those gender undefined cases\n",
    "\n",
    "accu = gender.accuracy(test_ds, full_name=True, exclude_U=True)\n",
    "accu, gender.mismatch[:20]"
   ]
  },
  {
   "cell_type": "code",
   "execution_count": null,
   "id": "407fac3d",
   "metadata": {},
   "outputs": [],
   "source": []
  },
  {
   "cell_type": "markdown",
   "id": "e7c66a3a",
   "metadata": {},
   "source": [
    "<a name='first_name'></a>\n",
    "## Test on first names\n",
    "\n",
    "Rerun the above algorithms again, including splitting the train set into train_ds and train_dev"
   ]
  },
  {
   "cell_type": "code",
   "execution_count": 16,
   "id": "043db079",
   "metadata": {},
   "outputs": [
    {
     "data": {
      "text/plain": [
       "(100000, [['莹暂', 'F'], ['荣辉', 'M'], ['泽彬', 'M'], ['二庄', 'M'], ['治权', 'M']])"
      ]
     },
     "execution_count": 16,
     "metadata": {},
     "output_type": "execute_result"
    }
   ],
   "source": [
    "train_ds_all = data_loader('data/train_ds.txt', full_name=False)\n",
    "train_ds, train_ds_dev = train_ds_all[:100000], train_ds_all[100000:]\n",
    "len(train_ds), train_ds[:5]"
   ]
  },
  {
   "cell_type": "code",
   "execution_count": 17,
   "id": "85c1845f",
   "metadata": {},
   "outputs": [
    {
     "data": {
      "text/plain": [
       "(0.8571,\n",
       " [['name', 'gender', 'pred', 'prob'],\n",
       "  ['晔', 'U', 'M', 0.40640049019849533],\n",
       "  ['洪君', 'M', 'U', 0.5206657693467208],\n",
       "  ['俊', 'M', 'U', 0.554112070901956],\n",
       "  ['苗利', 'F', 'M', 0.5620270927619253],\n",
       "  ['达', 'M', 'U', 0.554112070901956],\n",
       "  ['忠华', 'M', 'U', 0.5883437014656338],\n",
       "  ['美啸', 'F', 'M', 0.8481864322051416],\n",
       "  ['文冰', 'U', 'F', 0.5127995647795527],\n",
       "  ['磊', 'M', 'U', 0.554112070901956],\n",
       "  ['墨', 'M', 'U', 0.554112070901956],\n",
       "  ['斐然', 'F', 'M', 0.5523766287348633],\n",
       "  ['乐懿', 'U', 'F', 0.5040915502527811],\n",
       "  ['水荣', 'U', 'M', 0.6172585693920711],\n",
       "  ['玉青', 'F', 'U', 0.4250337695369403],\n",
       "  ['正漪', 'M', 'F', 0.9992333658673426],\n",
       "  ['晗', 'M', 'F', 0.6536717990218155],\n",
       "  ['逸', 'U', 'M', 0.7354662573578914],\n",
       "  ['丹彬', 'F', 'M', 0.8379973144736247],\n",
       "  ['庆', 'M', 'U', 0.554112070901956]])"
      ]
     },
     "execution_count": 17,
     "metadata": {},
     "output_type": "execute_result"
    }
   ],
   "source": [
    "# test the accuracy of the model on the selected train set\n",
    "# including those gender undefined cases\n",
    "accu = gender.accuracy(train_ds, full_name=True)\n",
    "accu, gender.mismatch[:20]"
   ]
  },
  {
   "cell_type": "code",
   "execution_count": null,
   "id": "ad43a4a0",
   "metadata": {},
   "outputs": [],
   "source": []
  },
  {
   "cell_type": "code",
   "execution_count": 18,
   "id": "c88162c1",
   "metadata": {},
   "outputs": [
    {
     "data": {
      "text/plain": [
       "(0.8686822086895901,\n",
       " [['name', 'gender', 'pred', 'prob'],\n",
       "  ['洪君', 'M', 'U', 0.5206657693467208],\n",
       "  ['俊', 'M', 'U', 0.554112070901956],\n",
       "  ['苗利', 'F', 'M', 0.5620270927619253],\n",
       "  ['达', 'M', 'U', 0.554112070901956],\n",
       "  ['忠华', 'M', 'U', 0.5883437014656338],\n",
       "  ['美啸', 'F', 'M', 0.8481864322051416],\n",
       "  ['磊', 'M', 'U', 0.554112070901956],\n",
       "  ['墨', 'M', 'U', 0.554112070901956],\n",
       "  ['斐然', 'F', 'M', 0.5523766287348633],\n",
       "  ['玉青', 'F', 'U', 0.4250337695369403],\n",
       "  ['正漪', 'M', 'F', 0.9992333658673426],\n",
       "  ['晗', 'M', 'F', 0.6536717990218155],\n",
       "  ['丹彬', 'F', 'M', 0.8379973144736247],\n",
       "  ['庆', 'M', 'U', 0.554112070901956],\n",
       "  ['晨云', 'M', 'U', 0.5925564159943968],\n",
       "  ['雪逸', 'F', 'M', 0.7354662573578914],\n",
       "  ['晓华', 'M', 'U', 0.5883437014656338],\n",
       "  ['兴敏', 'M', 'F', 0.5106319045316918],\n",
       "  ['乐', 'M', 'U', 0.554112070901956]])"
      ]
     },
     "execution_count": 18,
     "metadata": {},
     "output_type": "execute_result"
    }
   ],
   "source": [
    "# test the accuracy of the model on the selected train set\n",
    "# excluding those gender undefined cases\n",
    "\n",
    "accu = gender.accuracy(train_ds, full_name=True, exclude_U=True)\n",
    "accu, gender.mismatch[:20]"
   ]
  },
  {
   "cell_type": "code",
   "execution_count": null,
   "id": "8a5d0f57",
   "metadata": {},
   "outputs": [],
   "source": []
  },
  {
   "cell_type": "code",
   "execution_count": 19,
   "id": "2987876c",
   "metadata": {},
   "outputs": [
    {
     "data": {
      "text/plain": [
       "(0.8493090006460319,\n",
       " [['name', 'gender', 'pred', 'prob'],\n",
       "  ['禹含', 'M', 'F', 0.9142187596403223],\n",
       "  ['娜', 'F', 'U', 0.554112070901956],\n",
       "  ['改青', 'F', 'U', 0.4250337695369403],\n",
       "  ['勇', 'M', 'U', 0.554112070901956],\n",
       "  ['天音', 'M', 'F', 0.9789635578956217],\n",
       "  ['春', 'F', 'U', 0.554112070901956],\n",
       "  ['岩', 'M', 'U', 0.554112070901956],\n",
       "  ['月严', 'F', 'M', 0.7863604765607316],\n",
       "  ['翦敏', 'M', 'F', 0.5106319045316918],\n",
       "  ['东冬', 'M', 'F', 0.47053096641042813],\n",
       "  ['子', 'M', 'U', 0.554112070901956],\n",
       "  ['韶', 'M', 'U', 0.554112070901956],\n",
       "  ['玉珂', 'F', 'M', 0.5488373229938105],\n",
       "  ['丽峰', 'F', 'M', 0.7735170873161514],\n",
       "  ['路', 'M', 'U', 0.554112070901956],\n",
       "  ['雪平', 'F', 'M', 0.5839001827674885],\n",
       "  ['坚', 'M', 'U', 0.554112070901956],\n",
       "  ['玉乐', 'U', 'M', 0.783239266426579],\n",
       "  ['朱雨', 'M', 'F', 0.4070793987584367]])"
      ]
     },
     "execution_count": 19,
     "metadata": {},
     "output_type": "execute_result"
    }
   ],
   "source": [
    "# test the accuracy of the model on the rest of the original train set\n",
    "# including those gender undefined cases\n",
    "\n",
    "accu = gender.accuracy(train_ds_dev, full_name=True)\n",
    "accu, gender.mismatch[:20]"
   ]
  },
  {
   "cell_type": "code",
   "execution_count": null,
   "id": "bd7ca9e8",
   "metadata": {},
   "outputs": [],
   "source": []
  },
  {
   "cell_type": "code",
   "execution_count": 20,
   "id": "15a2e291",
   "metadata": {},
   "outputs": [
    {
     "data": {
      "text/plain": [
       "(0.861629252286152,\n",
       " [['name', 'gender', 'pred', 'prob'],\n",
       "  ['禹含', 'M', 'F', 0.9142187596403223],\n",
       "  ['娜', 'F', 'U', 0.554112070901956],\n",
       "  ['改青', 'F', 'U', 0.4250337695369403],\n",
       "  ['勇', 'M', 'U', 0.554112070901956],\n",
       "  ['天音', 'M', 'F', 0.9789635578956217],\n",
       "  ['春', 'F', 'U', 0.554112070901956],\n",
       "  ['岩', 'M', 'U', 0.554112070901956],\n",
       "  ['月严', 'F', 'M', 0.7863604765607316],\n",
       "  ['翦敏', 'M', 'F', 0.5106319045316918],\n",
       "  ['东冬', 'M', 'F', 0.47053096641042813],\n",
       "  ['子', 'M', 'U', 0.554112070901956],\n",
       "  ['韶', 'M', 'U', 0.554112070901956],\n",
       "  ['玉珂', 'F', 'M', 0.5488373229938105],\n",
       "  ['丽峰', 'F', 'M', 0.7735170873161514],\n",
       "  ['路', 'M', 'U', 0.554112070901956],\n",
       "  ['雪平', 'F', 'M', 0.5839001827674885],\n",
       "  ['坚', 'M', 'U', 0.554112070901956],\n",
       "  ['朱雨', 'M', 'F', 0.4070793987584367],\n",
       "  ['红遥', 'F', 'M', 0.4614531905281432]])"
      ]
     },
     "execution_count": 20,
     "metadata": {},
     "output_type": "execute_result"
    }
   ],
   "source": [
    "# test the accuracy of the model on the rest of the original train set\n",
    "# excluding those gender undefined cases\n",
    "accu = gender.accuracy(train_ds_dev, full_name=True, exclude_U=True)\n",
    "accu, gender.mismatch[:20]"
   ]
  },
  {
   "cell_type": "code",
   "execution_count": null,
   "id": "d4f6be9a",
   "metadata": {},
   "outputs": [],
   "source": []
  },
  {
   "cell_type": "markdown",
   "id": "cd4fe70d",
   "metadata": {},
   "source": [
    "**For the original dev set**"
   ]
  },
  {
   "cell_type": "code",
   "execution_count": 21,
   "id": "5b0b0f5d",
   "metadata": {},
   "outputs": [
    {
     "data": {
      "text/plain": [
       "(365811, [['瑞琳', 'F'], ['凯棋', 'M'], ['义祥', 'M'], ['识闻', 'M'], ['缤鲃', 'M']])"
      ]
     },
     "execution_count": 21,
     "metadata": {},
     "output_type": "execute_result"
    }
   ],
   "source": [
    "# loading the original dev set\n",
    "dev_ds = data_loader('data/dev_ds.txt', full_name=False)\n",
    "len(dev_ds), dev_ds[:5]"
   ]
  },
  {
   "cell_type": "code",
   "execution_count": 22,
   "id": "1d6a2faa",
   "metadata": {},
   "outputs": [
    {
     "data": {
      "text/plain": [
       "(0.850081052784088,\n",
       " [['name', 'gender', 'pred', 'prob'],\n",
       "  ['梅云', 'F', 'U', 0.5925564159943968],\n",
       "  ['穗君', 'F', 'U', 0.5206657693467208],\n",
       "  ['梦饶', 'F', 'M', 0.5512089884475259],\n",
       "  ['佳嘉', 'F', 'M', 0.6504799666787816],\n",
       "  ['玉墨', 'F', 'M', 0.6682442165247393],\n",
       "  ['承隍', 'M', 'U', 0.554112070901956],\n",
       "  ['艳砚', 'F', 'M', 0.5814055986164764],\n",
       "  ['天秘', 'M', 'F', 0.5832588205825965],\n",
       "  ['凤辰', 'F', 'M', 0.7723805377370389],\n",
       "  ['子懿', 'M', 'F', 0.5040915502527811],\n",
       "  ['宇烟', 'M', 'F', 0.9808327176375053],\n",
       "  ['奇', 'M', 'U', 0.554112070901956],\n",
       "  ['佳臻', 'F', 'M', 0.7452530112063541],\n",
       "  ['明华', 'M', 'U', 0.5883437014656338],\n",
       "  ['凤桐', 'F', 'M', 0.5139461732815358],\n",
       "  ['智', 'M', 'U', 0.554112070901956],\n",
       "  ['睿', 'U', 'M', 0.8311858450077128],\n",
       "  ['磊', 'M', 'U', 0.554112070901956],\n",
       "  ['文藻', 'M', 'U', 0.6607274090794647]])"
      ]
     },
     "execution_count": 22,
     "metadata": {},
     "output_type": "execute_result"
    }
   ],
   "source": [
    "# test the accuracy of the model on the original dev set\n",
    "# including those gender undefined cases\n",
    "\n",
    "accu = gender.accuracy(dev_ds, full_name=True)\n",
    "accu, gender.mismatch[:20]"
   ]
  },
  {
   "cell_type": "code",
   "execution_count": null,
   "id": "6ddc7dc6",
   "metadata": {},
   "outputs": [],
   "source": []
  },
  {
   "cell_type": "code",
   "execution_count": 23,
   "id": "5ccb6e3e",
   "metadata": {},
   "outputs": [
    {
     "data": {
      "text/plain": [
       "(0.8624882805701678,\n",
       " [['name', 'gender', 'pred', 'prob'],\n",
       "  ['梅云', 'F', 'U', 0.5925564159943968],\n",
       "  ['穗君', 'F', 'U', 0.5206657693467208],\n",
       "  ['梦饶', 'F', 'M', 0.5512089884475259],\n",
       "  ['佳嘉', 'F', 'M', 0.6504799666787816],\n",
       "  ['玉墨', 'F', 'M', 0.6682442165247393],\n",
       "  ['承隍', 'M', 'U', 0.554112070901956],\n",
       "  ['艳砚', 'F', 'M', 0.5814055986164764],\n",
       "  ['天秘', 'M', 'F', 0.5832588205825965],\n",
       "  ['凤辰', 'F', 'M', 0.7723805377370389],\n",
       "  ['子懿', 'M', 'F', 0.5040915502527811],\n",
       "  ['宇烟', 'M', 'F', 0.9808327176375053],\n",
       "  ['奇', 'M', 'U', 0.554112070901956],\n",
       "  ['佳臻', 'F', 'M', 0.7452530112063541],\n",
       "  ['明华', 'M', 'U', 0.5883437014656338],\n",
       "  ['凤桐', 'F', 'M', 0.5139461732815358],\n",
       "  ['智', 'M', 'U', 0.554112070901956],\n",
       "  ['磊', 'M', 'U', 0.554112070901956],\n",
       "  ['文藻', 'M', 'U', 0.6607274090794647],\n",
       "  ['平', 'M', 'U', 0.554112070901956]])"
      ]
     },
     "execution_count": 23,
     "metadata": {},
     "output_type": "execute_result"
    }
   ],
   "source": [
    "# test the accuracy of the model on the original dev set\n",
    "# excluding those gender undefined cases\n",
    "\n",
    "accu = gender.accuracy(dev_ds, full_name=True, exclude_U=True)\n",
    "accu, gender.mismatch[:20]"
   ]
  },
  {
   "cell_type": "code",
   "execution_count": null,
   "id": "df450387",
   "metadata": {},
   "outputs": [],
   "source": []
  },
  {
   "cell_type": "markdown",
   "id": "9e27a2bb",
   "metadata": {},
   "source": [
    "<a name='test_set'></a>\n",
    "## Testing against the test set"
   ]
  },
  {
   "cell_type": "code",
   "execution_count": 24,
   "id": "8f11f6d5",
   "metadata": {},
   "outputs": [
    {
     "data": {
      "text/plain": [
       "(365811, [['爱清', 'F'], ['文吕', 'M'], ['千焱', 'M'], ['梦冉', 'F'], ['俊霖', 'M']])"
      ]
     },
     "execution_count": 24,
     "metadata": {},
     "output_type": "execute_result"
    }
   ],
   "source": [
    "# loading the original test set\n",
    "test_ds = data_loader('data/test_ds.txt', full_name=False)\n",
    "len(test_ds), test_ds[:5]"
   ]
  },
  {
   "cell_type": "code",
   "execution_count": null,
   "id": "c3d6ce79",
   "metadata": {},
   "outputs": [],
   "source": []
  },
  {
   "cell_type": "code",
   "execution_count": 25,
   "id": "fb667563",
   "metadata": {},
   "outputs": [
    {
     "data": {
      "text/plain": [
       "(0.8480636175511398,\n",
       " [['name', 'gender', 'pred', 'prob'],\n",
       "  ['爱清', 'F', 'M', 0.6147397168213984],\n",
       "  ['俊酆', 'M', 'U', 0.5326388489406404],\n",
       "  ['白', 'F', 'U', 0.554112070901956],\n",
       "  ['紫乔', 'F', 'M', 0.46442977434012034],\n",
       "  ['令群', 'M', 'U', 0.5271229497252596],\n",
       "  ['年华', 'M', 'U', 0.5883437014656338],\n",
       "  ['建', 'M', 'U', 0.554112070901956],\n",
       "  ['芮姚', 'F', 'M', 0.35295753964074583],\n",
       "  ['松', 'M', 'U', 0.554112070901956],\n",
       "  ['静文', 'F', 'M', 0.6451627573058977],\n",
       "  ['玄琪', 'M', 'F', 0.5650839376409527],\n",
       "  ['文郡', 'M', 'F', 0.4492423468024235],\n",
       "  ['美文', 'F', 'M', 0.6451627573058977],\n",
       "  ['韦君', 'M', 'U', 0.5206657693467208],\n",
       "  ['苍', 'M', 'U', 0.554112070901956],\n",
       "  ['凤营', 'F', 'M', 0.8360031558027466],\n",
       "  ['惠勤', 'F', 'U', 0.4593824165096386],\n",
       "  ['贺白', 'M', 'F', 0.6910497310419871],\n",
       "  ['萧', 'F', 'U', 0.554112070901956]])"
      ]
     },
     "execution_count": 25,
     "metadata": {},
     "output_type": "execute_result"
    }
   ],
   "source": [
    "# test the accuracy of the model on the original test set\n",
    "# including those gender undefined cases\n",
    "\n",
    "accu = gender.accuracy(test_ds, full_name=True)\n",
    "accu, gender.mismatch[:20]"
   ]
  },
  {
   "cell_type": "code",
   "execution_count": null,
   "id": "e6fcfa9c",
   "metadata": {},
   "outputs": [],
   "source": []
  },
  {
   "cell_type": "code",
   "execution_count": 26,
   "id": "8c84b783",
   "metadata": {},
   "outputs": [
    {
     "data": {
      "text/plain": [
       "(0.860473668106703,\n",
       " [['name', 'gender', 'pred', 'prob'],\n",
       "  ['爱清', 'F', 'M', 0.6147397168213984],\n",
       "  ['俊酆', 'M', 'U', 0.5326388489406404],\n",
       "  ['白', 'F', 'U', 0.554112070901956],\n",
       "  ['紫乔', 'F', 'M', 0.46442977434012034],\n",
       "  ['令群', 'M', 'U', 0.5271229497252596],\n",
       "  ['年华', 'M', 'U', 0.5883437014656338],\n",
       "  ['建', 'M', 'U', 0.554112070901956],\n",
       "  ['芮姚', 'F', 'M', 0.35295753964074583],\n",
       "  ['松', 'M', 'U', 0.554112070901956],\n",
       "  ['静文', 'F', 'M', 0.6451627573058977],\n",
       "  ['玄琪', 'M', 'F', 0.5650839376409527],\n",
       "  ['文郡', 'M', 'F', 0.4492423468024235],\n",
       "  ['美文', 'F', 'M', 0.6451627573058977],\n",
       "  ['韦君', 'M', 'U', 0.5206657693467208],\n",
       "  ['苍', 'M', 'U', 0.554112070901956],\n",
       "  ['凤营', 'F', 'M', 0.8360031558027466],\n",
       "  ['惠勤', 'F', 'U', 0.4593824165096386],\n",
       "  ['贺白', 'M', 'F', 0.6910497310419871],\n",
       "  ['萧', 'F', 'U', 0.554112070901956]])"
      ]
     },
     "execution_count": 26,
     "metadata": {},
     "output_type": "execute_result"
    }
   ],
   "source": [
    "# test the accuracy of the model on the original test set\n",
    "# excluding those gender undefined cases\n",
    "\n",
    "accu = gender.accuracy(test_ds, full_name=True, exclude_U=True)\n",
    "accu, gender.mismatch[:20]"
   ]
  },
  {
   "cell_type": "code",
   "execution_count": null,
   "id": "0e759030",
   "metadata": {},
   "outputs": [],
   "source": []
  }
 ],
 "metadata": {
  "kernelspec": {
   "display_name": "Python 3",
   "language": "python",
   "name": "python3"
  },
  "language_info": {
   "codemirror_mode": {
    "name": "ipython",
    "version": 3
   },
   "file_extension": ".py",
   "mimetype": "text/x-python",
   "name": "python",
   "nbconvert_exporter": "python",
   "pygments_lexer": "ipython3",
   "version": "3.8.8"
  }
 },
 "nbformat": 4,
 "nbformat_minor": 5
}
