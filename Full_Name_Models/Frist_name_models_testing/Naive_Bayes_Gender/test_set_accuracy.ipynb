{
 "cells": [
  {
   "cell_type": "code",
   "execution_count": 1,
   "metadata": {},
   "outputs": [],
   "source": [
    "from gender import Gender"
   ]
  },
  {
   "cell_type": "code",
   "execution_count": 2,
   "metadata": {},
   "outputs": [
    {
     "data": {
      "text/plain": [
       "(731622, 731622)"
      ]
     },
     "execution_count": 2,
     "metadata": {},
     "output_type": "execute_result"
    }
   ],
   "source": [
    "#loading test file\n",
    "\n",
    "def test_set(file='data/test_ds.txt', full_name=True):\n",
    "    names, genders = [], []\n",
    "    f = open(file, 'r')\n",
    "    next(f)\n",
    "    for line in f:\n",
    "        line = line.split('\\t')\n",
    "        try:\n",
    "            if full_name:\n",
    "            # line[2] = full name; line[1] = first name\n",
    "                names.append(line[2])\n",
    "            else:\n",
    "                names.append(line[1])\n",
    "            genders.append(line[3].strip())\n",
    "        except:\n",
    "            pass\n",
    "    return names, genders\n",
    "\n",
    "\n",
    "names, genders = test_set()\n",
    "len(names), len(genders)"
   ]
  },
  {
   "cell_type": "code",
   "execution_count": null,
   "metadata": {},
   "outputs": [],
   "source": []
  },
  {
   "cell_type": "code",
   "execution_count": 3,
   "metadata": {},
   "outputs": [],
   "source": [
    "# calculating the prediction accuracy based on full names\n",
    "\n",
    "def accuracy(method='lap', include_U=True):\n",
    "    global names, genders\n",
    "    def comp(idx):\n",
    "        nonlocal right, mismatch\n",
    "        pred = predict(names[idx], method, False)\n",
    "        real = genders[idx]\n",
    "        if pred[1] == real: right += 1\n",
    "        else: mismatch.append((pred, '<------>', genders[idx]))\n",
    "        \n",
    "    right = 0\n",
    "    mismatch = [('prediction', '<------>', 'observation')]\n",
    "    predict = Gender().predict\n",
    "    sample_size = len(names)\n",
    "    if include_U:\n",
    "        for i in range(len(names)):\n",
    "            comp(i)\n",
    "    else:\n",
    "        for i in range(len(names)):\n",
    "            if genders[i] != 'U': comp(i)\n",
    "            else: sample_size -= 1\n",
    "    return right/sample_size, mismatch"
   ]
  },
  {
   "cell_type": "markdown",
   "metadata": {},
   "source": [
    "## Test against full names"
   ]
  },
  {
   "cell_type": "code",
   "execution_count": 4,
   "metadata": {},
   "outputs": [
    {
     "data": {
      "text/plain": [
       "(0.9371465046157715,\n",
       " [('prediction', '<------>', 'observation'),\n",
       "  (('万宇烟', 'F', 0.6055499573274709), '<------>', 'M'),\n",
       "  (('卞佳臻', 'M', 0.5117781473971769), '<------>', 'F'),\n",
       "  (('索刘敏', 'M', 0.5086917470381878), '<------>', 'F'),\n",
       "  (('付睿', 'M', 0.6372919818456882), '<------>', 'U'),\n",
       "  (('郭连', 'M', 0.5347978585933173), '<------>', 'U'),\n",
       "  (('游丁', 'M', 0.7563559322033898), '<------>', 'U'),\n",
       "  (('梅必霏', 'F', 0.5617018756556652), '<------>', 'M'),\n",
       "  (('林乔', 'M', 0.49097162510748066), '<------>', 'U'),\n",
       "  (('闫韶华', 'M', 0.5934781105033407), '<------>', 'U'),\n",
       "  (('李思宁', 'F', 0.5074970136241429), '<------>', 'M'),\n",
       "  (('钭奕渝', 'F', 0.4845344880455854), '<------>', 'M'),\n",
       "  (('连国萌', 'F', 0.5410949215661441), '<------>', 'M'),\n",
       "  (('刘畏', 'M', 0.7812499999999999), '<------>', 'U'),\n",
       "  (('巢云夕', 'F', 0.48294370286325383), '<------>', 'M'),\n",
       "  (('南英', 'F', 0.8497095739063325), '<------>', 'U'),\n",
       "  (('任善竺', 'F', 0.515157089128229), '<------>', 'M'),\n",
       "  (('容庚', 'M', 0.8711217183770882), '<------>', 'U'),\n",
       "  (('沙洪柳', 'F', 0.573392514338241), '<------>', 'M'),\n",
       "  (('嵇云', 'F', 0.47780957019359555), '<------>', 'U')])"
      ]
     },
     "execution_count": 4,
     "metadata": {},
     "output_type": "execute_result"
    }
   ],
   "source": [
    "# calculating accuracy of laplace method, incuding all genders\n",
    "accu, mismatch = accuracy()\n",
    "# display the accuracy score and some of the mismatched cases\n",
    "accu, mismatch[:20]"
   ]
  },
  {
   "cell_type": "code",
   "execution_count": null,
   "metadata": {},
   "outputs": [],
   "source": []
  },
  {
   "cell_type": "code",
   "execution_count": 5,
   "metadata": {},
   "outputs": [
    {
     "data": {
      "text/plain": [
       "(0.9623151018895784,\n",
       " [('prediction', '<------>', 'observation'),\n",
       "  (('万宇烟', 'F', 0.6055499573274709), '<------>', 'M'),\n",
       "  (('卞佳臻', 'M', 0.5117781473971769), '<------>', 'F'),\n",
       "  (('索刘敏', 'M', 0.5086917470381878), '<------>', 'F'),\n",
       "  (('梅必霏', 'F', 0.5617018756556652), '<------>', 'M'),\n",
       "  (('李思宁', 'F', 0.5074970136241429), '<------>', 'M'),\n",
       "  (('钭奕渝', 'F', 0.4845344880455854), '<------>', 'M'),\n",
       "  (('连国萌', 'F', 0.5410949215661441), '<------>', 'M'),\n",
       "  (('巢云夕', 'F', 0.48294370286325383), '<------>', 'M'),\n",
       "  (('任善竺', 'F', 0.515157089128229), '<------>', 'M'),\n",
       "  (('沙洪柳', 'F', 0.573392514338241), '<------>', 'M'),\n",
       "  (('上官李那', 'F', 0.5988431816367817), '<------>', 'M'),\n",
       "  (('任彦米', 'F', 0.6001639533890436), '<------>', 'M'),\n",
       "  (('司空嘉桐', 'F', 0.4947270082700448), '<------>', 'M'),\n",
       "  (('尤星冉', 'F', 0.5107737217938496), '<------>', 'M'),\n",
       "  (('诸乔楚', 'F', 0.6450424097367288), '<------>', 'M'),\n",
       "  (('苗蕙全', 'F', 0.6018003286852724), '<------>', 'M'),\n",
       "  (('纪会会', 'Undefined', 0.3400954333668674), '<------>', 'F'),\n",
       "  (('毕琳伟', 'F', 0.7100996204211153), '<------>', 'M'),\n",
       "  (('曲晓华', 'M', 0.4005711084999136), '<------>', 'F')])"
      ]
     },
     "execution_count": 5,
     "metadata": {},
     "output_type": "execute_result"
    }
   ],
   "source": [
    "# calculating accuracy of laplace method, excluding undefined genders\n",
    "accu, mismatch = accuracy(include_U=False)\n",
    "# display the accuracy score and some of the mismatched cases\n",
    "accu, mismatch[:20]"
   ]
  },
  {
   "cell_type": "code",
   "execution_count": null,
   "metadata": {},
   "outputs": [],
   "source": []
  },
  {
   "cell_type": "code",
   "execution_count": 6,
   "metadata": {},
   "outputs": [
    {
     "data": {
      "text/plain": [
       "(0.9300936822566844,\n",
       " [('prediction', '<------>', 'observation'),\n",
       "  (('万宇烟', 'F', 0.6571441544919221), '<------>', 'M'),\n",
       "  (('卞佳臻', 'M', 0.512897141401947), '<------>', 'F'),\n",
       "  (('索刘敏', 'M', 0.5094639697360233), '<------>', 'F'),\n",
       "  (('付睿', 'M', 0.6372919818456882), '<------>', 'U'),\n",
       "  (('郭连', 'M', 0.5347978585933173), '<------>', 'U'),\n",
       "  (('游丁', 'M', 0.8612786489746682), '<------>', 'U'),\n",
       "  (('林乔', 'M', 0.49097162510748066), '<------>', 'U'),\n",
       "  (('闫韶华', 'M', 0.5934781105033407), '<------>', 'U'),\n",
       "  (('白榇译', 'M', 0.5307568158065461), '<------>', 'F'),\n",
       "  (('李思宁', 'F', 0.5074970136241429), '<------>', 'M'),\n",
       "  (('钭奕渝', 'F', 0.5743242655385526), '<------>', 'M'),\n",
       "  (('司敬园', 'M', 0.5393666618020849), '<------>', 'F'),\n",
       "  (('连国萌', 'F', 0.7766702031184257), '<------>', 'M'),\n",
       "  (('刘畏', 'M', 0.8627366736693435), '<------>', 'U'),\n",
       "  (('巢云夕', 'F', 0.5254527428157781), '<------>', 'M'),\n",
       "  (('南英', 'F', 0.8497095739063325), '<------>', 'U'),\n",
       "  (('任善竺', 'F', 0.6508855569711229), '<------>', 'M'),\n",
       "  (('容庚', 'M', 0.9418975041328979), '<------>', 'U'),\n",
       "  (('嵇云', 'F', 0.47780957019359555), '<------>', 'U')])"
      ]
     },
     "execution_count": 6,
     "metadata": {},
     "output_type": "execute_result"
    }
   ],
   "source": [
    "# calculating accuracy of good turing method, incuding all genders\n",
    "accu, mismatch = accuracy(method='gt')\n",
    "# display the accuracy score and some of the mismatched cases\n",
    "accu, mismatch[:20]"
   ]
  },
  {
   "cell_type": "code",
   "execution_count": null,
   "metadata": {},
   "outputs": [],
   "source": []
  },
  {
   "cell_type": "code",
   "execution_count": 7,
   "metadata": {},
   "outputs": [
    {
     "data": {
      "text/plain": [
       "(0.9550728644873521,\n",
       " [('prediction', '<------>', 'observation'),\n",
       "  (('万宇烟', 'F', 0.6571441544919221), '<------>', 'M'),\n",
       "  (('卞佳臻', 'M', 0.512897141401947), '<------>', 'F'),\n",
       "  (('索刘敏', 'M', 0.5094639697360233), '<------>', 'F'),\n",
       "  (('白榇译', 'M', 0.5307568158065461), '<------>', 'F'),\n",
       "  (('李思宁', 'F', 0.5074970136241429), '<------>', 'M'),\n",
       "  (('钭奕渝', 'F', 0.5743242655385526), '<------>', 'M'),\n",
       "  (('司敬园', 'M', 0.5393666618020849), '<------>', 'F'),\n",
       "  (('连国萌', 'F', 0.7766702031184257), '<------>', 'M'),\n",
       "  (('巢云夕', 'F', 0.5254527428157781), '<------>', 'M'),\n",
       "  (('任善竺', 'F', 0.6508855569711229), '<------>', 'M'),\n",
       "  (('任彦米', 'F', 0.810353129785596), '<------>', 'M'),\n",
       "  (('司空嘉桐', 'F', 0.5042679439195341), '<------>', 'M'),\n",
       "  (('尤星冉', 'F', 0.5107737217938496), '<------>', 'M'),\n",
       "  (('诸乔楚', 'F', 0.63959665777796), '<------>', 'M'),\n",
       "  (('谷寒宫', 'F', 0.6038967915822041), '<------>', 'M'),\n",
       "  (('纪会会', 'Undefined', 0.3400954333668674), '<------>', 'F'),\n",
       "  (('毕琳伟', 'F', 0.7103688853484734), '<------>', 'M'),\n",
       "  (('曲晓华', 'M', 0.4005711084999136), '<------>', 'F'),\n",
       "  (('卢若熙', 'F', 0.5748285812093373), '<------>', 'M')])"
      ]
     },
     "execution_count": 7,
     "metadata": {},
     "output_type": "execute_result"
    }
   ],
   "source": [
    "# calculating accuracy of good turing method, excluding undefined genders\n",
    "accu, mismatch = accuracy(method='gt', include_U=False)\n",
    "# display the accuracy score and some of the mismatched cases\n",
    "accu, mismatch[:20]"
   ]
  },
  {
   "cell_type": "code",
   "execution_count": null,
   "metadata": {},
   "outputs": [],
   "source": []
  },
  {
   "cell_type": "markdown",
   "metadata": {},
   "source": [
    "## Test against first names"
   ]
  },
  {
   "cell_type": "code",
   "execution_count": 8,
   "metadata": {},
   "outputs": [
    {
     "data": {
      "text/plain": [
       "(731622, 731622)"
      ]
     },
     "execution_count": 8,
     "metadata": {},
     "output_type": "execute_result"
    }
   ],
   "source": [
    "# load names as first names\n",
    "\n",
    "names, genders = test_set(full_name=False)\n",
    "len(names), len(genders)"
   ]
  },
  {
   "cell_type": "markdown",
   "metadata": {},
   "source": [
    "**Repeat the above procedure**"
   ]
  },
  {
   "cell_type": "code",
   "execution_count": 9,
   "metadata": {},
   "outputs": [
    {
     "data": {
      "text/plain": [
       "(0.8806200469641426,\n",
       " [('prediction', '<------>', 'observation'),\n",
       "  (('唱又', 'M', 0.5145985401459855), '<------>', 'F'),\n",
       "  (('梦饶', 'M', 0.7037037037037037), '<------>', 'F'),\n",
       "  (('佳嘉', 'M', 0.5583882187523126), '<------>', 'F'),\n",
       "  (('玉墨', 'M', 0.5746924428822495), '<------>', 'F'),\n",
       "  (('艳砚', 'M', 0.543956043956044), '<------>', 'F'),\n",
       "  (('凤辰', 'M', 0.7418631949631843), '<------>', 'F'),\n",
       "  (('子懿', 'F', 0.5717213114754098), '<------>', 'M'),\n",
       "  (('宇烟', 'F', 0.8636363636363636), '<------>', 'M'),\n",
       "  (('佳臻', 'M', 0.7533197139938713), '<------>', 'F'),\n",
       "  (('睿', 'M', 0.6372919818456882), '<------>', 'U'),\n",
       "  (('柳淳', 'M', 0.7773780975219824), '<------>', 'F'),\n",
       "  (('丽清', 'M', 0.601304347826087), '<------>', 'F'),\n",
       "  (('舒童', 'M', 0.5118628141883956), '<------>', 'F'),\n",
       "  (('秋华', 'M', 0.6056708097239992), '<------>', 'F'),\n",
       "  (('连', 'M', 0.5593406362595233), '<------>', 'U'),\n",
       "  (('丁', 'M', 0.5593406362595233), '<------>', 'U'),\n",
       "  (('学敏', 'F', 0.6382878398910253), '<------>', 'M'),\n",
       "  (('凤荣', 'M', 0.7442228401572538), '<------>', 'F'),\n",
       "  (('苏', 'M', 0.5593406362595233), '<------>', 'F')])"
      ]
     },
     "execution_count": 9,
     "metadata": {},
     "output_type": "execute_result"
    }
   ],
   "source": [
    "# calculating accuracy of laplace method, incuding all genders\n",
    "accu, mismatch = accuracy()\n",
    "# display the accuracy score and some of the mismatched cases\n",
    "accu, mismatch[:20]"
   ]
  },
  {
   "cell_type": "code",
   "execution_count": null,
   "metadata": {},
   "outputs": [],
   "source": []
  },
  {
   "cell_type": "code",
   "execution_count": 10,
   "metadata": {},
   "outputs": [
    {
     "data": {
      "text/plain": [
       "(0.904270534058867,\n",
       " [('prediction', '<------>', 'observation'),\n",
       "  (('唱又', 'M', 0.5145985401459855), '<------>', 'F'),\n",
       "  (('梦饶', 'M', 0.7037037037037037), '<------>', 'F'),\n",
       "  (('佳嘉', 'M', 0.5583882187523126), '<------>', 'F'),\n",
       "  (('玉墨', 'M', 0.5746924428822495), '<------>', 'F'),\n",
       "  (('艳砚', 'M', 0.543956043956044), '<------>', 'F'),\n",
       "  (('凤辰', 'M', 0.7418631949631843), '<------>', 'F'),\n",
       "  (('子懿', 'F', 0.5717213114754098), '<------>', 'M'),\n",
       "  (('宇烟', 'F', 0.8636363636363636), '<------>', 'M'),\n",
       "  (('佳臻', 'M', 0.7533197139938713), '<------>', 'F'),\n",
       "  (('柳淳', 'M', 0.7773780975219824), '<------>', 'F'),\n",
       "  (('丽清', 'M', 0.601304347826087), '<------>', 'F'),\n",
       "  (('舒童', 'M', 0.5118628141883956), '<------>', 'F'),\n",
       "  (('秋华', 'M', 0.6056708097239992), '<------>', 'F'),\n",
       "  (('学敏', 'F', 0.6382878398910253), '<------>', 'M'),\n",
       "  (('凤荣', 'M', 0.7442228401572538), '<------>', 'F'),\n",
       "  (('苏', 'M', 0.5593406362595233), '<------>', 'F'),\n",
       "  (('必霏', 'F', 0.5617018756556652), '<------>', 'M'),\n",
       "  (('邦皖', 'F', 0.4807692307692309), '<------>', 'M'),\n",
       "  (('博函', 'F', 0.7852744997434582), '<------>', 'M')])"
      ]
     },
     "execution_count": 10,
     "metadata": {},
     "output_type": "execute_result"
    }
   ],
   "source": [
    "# calculating accuracy of laplace method, excluding undefined genders\n",
    "accu, mismatch = accuracy(include_U=False)\n",
    "# display the accuracy score and some of the mismatched cases\n",
    "accu, mismatch[:20]"
   ]
  },
  {
   "cell_type": "code",
   "execution_count": null,
   "metadata": {},
   "outputs": [],
   "source": []
  },
  {
   "cell_type": "code",
   "execution_count": 11,
   "metadata": {},
   "outputs": [
    {
     "data": {
      "text/plain": [
       "(0.8764402929381566,\n",
       " [('prediction', '<------>', 'observation'),\n",
       "  (('梦饶', 'M', 0.6841197868278862), '<------>', 'F'),\n",
       "  (('佳嘉', 'M', 0.5583882187523126), '<------>', 'F'),\n",
       "  (('玉墨', 'M', 0.5746924428822495), '<------>', 'F'),\n",
       "  (('艳砚', 'M', 0.5663615560640732), '<------>', 'F'),\n",
       "  (('凤辰', 'M', 0.7418631949631843), '<------>', 'F'),\n",
       "  (('子懿', 'F', 0.5571745562130178), '<------>', 'M'),\n",
       "  (('宇烟', 'F', 0.8825944809870393), '<------>', 'M'),\n",
       "  (('佳臻', 'M', 0.7543310106757015), '<------>', 'F'),\n",
       "  (('睿', 'M', 0.6372919818456882), '<------>', 'U'),\n",
       "  (('柳淳', 'M', 0.7780327592740747), '<------>', 'F'),\n",
       "  (('丽清', 'M', 0.601304347826087), '<------>', 'F'),\n",
       "  (('舒童', 'M', 0.5255034366333052), '<------>', 'F'),\n",
       "  (('秋华', 'M', 0.6056708097239992), '<------>', 'F'),\n",
       "  (('连', 'M', 0.5593406362595233), '<------>', 'U'),\n",
       "  (('丁', 'M', 0.5593406362595233), '<------>', 'U'),\n",
       "  (('学敏', 'F', 0.6382878398910253), '<------>', 'M'),\n",
       "  (('凤荣', 'M', 0.7442228401572538), '<------>', 'F'),\n",
       "  (('苏', 'M', 0.5593406362595233), '<------>', 'F'),\n",
       "  (('邦皖', 'F', 0.6098446348192246), '<------>', 'M')])"
      ]
     },
     "execution_count": 11,
     "metadata": {},
     "output_type": "execute_result"
    }
   ],
   "source": [
    "# calculating accuracy of good turing method, incuding all genders\n",
    "accu, mismatch = accuracy(method='gt')\n",
    "# display the accuracy score and some of the mismatched cases\n",
    "accu, mismatch[:20]"
   ]
  },
  {
   "cell_type": "code",
   "execution_count": null,
   "metadata": {},
   "outputs": [],
   "source": []
  },
  {
   "cell_type": "code",
   "execution_count": 12,
   "metadata": {},
   "outputs": [
    {
     "data": {
      "text/plain": [
       "(0.8999785259239818,\n",
       " [('prediction', '<------>', 'observation'),\n",
       "  (('梦饶', 'M', 0.6841197868278862), '<------>', 'F'),\n",
       "  (('佳嘉', 'M', 0.5583882187523126), '<------>', 'F'),\n",
       "  (('玉墨', 'M', 0.5746924428822495), '<------>', 'F'),\n",
       "  (('艳砚', 'M', 0.5663615560640732), '<------>', 'F'),\n",
       "  (('凤辰', 'M', 0.7418631949631843), '<------>', 'F'),\n",
       "  (('子懿', 'F', 0.5571745562130178), '<------>', 'M'),\n",
       "  (('宇烟', 'F', 0.8825944809870393), '<------>', 'M'),\n",
       "  (('佳臻', 'M', 0.7543310106757015), '<------>', 'F'),\n",
       "  (('柳淳', 'M', 0.7780327592740747), '<------>', 'F'),\n",
       "  (('丽清', 'M', 0.601304347826087), '<------>', 'F'),\n",
       "  (('舒童', 'M', 0.5255034366333052), '<------>', 'F'),\n",
       "  (('秋华', 'M', 0.6056708097239992), '<------>', 'F'),\n",
       "  (('学敏', 'F', 0.6382878398910253), '<------>', 'M'),\n",
       "  (('凤荣', 'M', 0.7442228401572538), '<------>', 'F'),\n",
       "  (('苏', 'M', 0.5593406362595233), '<------>', 'F'),\n",
       "  (('邦皖', 'F', 0.6098446348192246), '<------>', 'M'),\n",
       "  (('博函', 'F', 0.7854653989519744), '<------>', 'M'),\n",
       "  (('榇译', 'M', 0.5307568158065461), '<------>', 'F'),\n",
       "  (('丽东', 'M', 0.9267227938883693), '<------>', 'F')])"
      ]
     },
     "execution_count": 12,
     "metadata": {},
     "output_type": "execute_result"
    }
   ],
   "source": [
    "# calculating accuracy of good turing method, excluding undefined genders\n",
    "accu, mismatch = accuracy(method='gt', include_U=False)\n",
    "# display the accuracy score and some of the mismatched cases\n",
    "accu, mismatch[:20]"
   ]
  },
  {
   "cell_type": "code",
   "execution_count": null,
   "metadata": {},
   "outputs": [],
   "source": []
  },
  {
   "cell_type": "markdown",
   "metadata": {},
   "source": [
    "## Test again first/full names (randomly)"
   ]
  },
  {
   "cell_type": "code",
   "execution_count": 13,
   "metadata": {},
   "outputs": [
    {
     "data": {
      "text/plain": [
       "(731622, 731622)"
      ]
     },
     "execution_count": 13,
     "metadata": {},
     "output_type": "execute_result"
    }
   ],
   "source": [
    "#loading test file\n",
    "from random import random, seed\n",
    "\n",
    "\n",
    "def test_set(file='data/test_ds.txt', seed_=0):\n",
    "    names, genders = [], []\n",
    "    f = open(file, 'r')\n",
    "    next(f)\n",
    "    seed(seed_)\n",
    "    for line in f:\n",
    "        line = line.split('\\t')\n",
    "        try:\n",
    "            # line[2] = full name; line[1] = first name\n",
    "            name = line[2] if random() >= 0.5 else line[1]\n",
    "            names.append(name)\n",
    "            genders.append(line[3].strip())\n",
    "        except:\n",
    "            pass\n",
    "    return names, genders\n",
    "\n",
    "\n",
    "names, genders = test_set()\n",
    "len(names), len(genders)"
   ]
  },
  {
   "cell_type": "code",
   "execution_count": 14,
   "metadata": {},
   "outputs": [
    {
     "data": {
      "text/plain": [
       "['冯瑞琳',\n",
       " '曹凯棋',\n",
       " '义祥',\n",
       " '识闻',\n",
       " '钮缤鲃',\n",
       " '颖函',\n",
       " '尹唱又',\n",
       " '竺歌',\n",
       " '博辰',\n",
       " '舒梅云',\n",
       " '钱穗君',\n",
       " '张继燕',\n",
       " '维娜',\n",
       " '冯梦饶',\n",
       " '曹瑞鹏',\n",
       " '倩璐',\n",
       " '姚蕴珈',\n",
       " '薛俊英',\n",
       " '李倩雅',\n",
       " '肖井刚']"
      ]
     },
     "execution_count": 14,
     "metadata": {},
     "output_type": "execute_result"
    }
   ],
   "source": [
    "# check the names\n",
    "names[:20]"
   ]
  },
  {
   "cell_type": "markdown",
   "metadata": {},
   "source": [
    "**Repeat the above procedure**"
   ]
  },
  {
   "cell_type": "code",
   "execution_count": 15,
   "metadata": {},
   "outputs": [
    {
     "data": {
      "text/plain": [
       "(0.9090226920458926,\n",
       " [('prediction', '<------>', 'observation'),\n",
       "  (('玉墨', 'M', 0.5746924428822495), '<------>', 'F'),\n",
       "  (('凤辰', 'M', 0.7418631949631843), '<------>', 'F'),\n",
       "  (('子懿', 'F', 0.5717213114754098), '<------>', 'M'),\n",
       "  (('万宇烟', 'F', 0.6055499573274709), '<------>', 'M'),\n",
       "  (('卞佳臻', 'M', 0.5117781473971769), '<------>', 'F'),\n",
       "  (('索刘敏', 'M', 0.5086917470381878), '<------>', 'F'),\n",
       "  (('付睿', 'M', 0.6372919818456882), '<------>', 'U'),\n",
       "  (('丽清', 'M', 0.601304347826087), '<------>', 'F'),\n",
       "  (('舒童', 'M', 0.5118628141883956), '<------>', 'F'),\n",
       "  (('秋华', 'M', 0.6056708097239992), '<------>', 'F'),\n",
       "  (('郭连', 'M', 0.5347978585933173), '<------>', 'U'),\n",
       "  (('丁', 'M', 0.5593406362595233), '<------>', 'U'),\n",
       "  (('凤荣', 'M', 0.7442228401572538), '<------>', 'F'),\n",
       "  (('苏', 'M', 0.5593406362595233), '<------>', 'F'),\n",
       "  (('必霏', 'F', 0.5617018756556652), '<------>', 'M'),\n",
       "  (('乔', 'M', 0.5593406362595233), '<------>', 'U'),\n",
       "  (('闫韶华', 'M', 0.5934781105033407), '<------>', 'U'),\n",
       "  (('李思宁', 'F', 0.5074970136241429), '<------>', 'M'),\n",
       "  (('丽东', 'M', 0.9267227938883693), '<------>', 'F')])"
      ]
     },
     "execution_count": 15,
     "metadata": {},
     "output_type": "execute_result"
    }
   ],
   "source": [
    "# calculating accuracy of laplace method, incuding all genders\n",
    "accu, mismatch = accuracy()\n",
    "# display the accuracy score and some of the mismatched cases\n",
    "accu, mismatch[:20]"
   ]
  },
  {
   "cell_type": "code",
   "execution_count": null,
   "metadata": {},
   "outputs": [],
   "source": []
  },
  {
   "cell_type": "code",
   "execution_count": 16,
   "metadata": {},
   "outputs": [
    {
     "data": {
      "text/plain": [
       "(0.9334359784810109,\n",
       " [('prediction', '<------>', 'observation'),\n",
       "  (('玉墨', 'M', 0.5746924428822495), '<------>', 'F'),\n",
       "  (('凤辰', 'M', 0.7418631949631843), '<------>', 'F'),\n",
       "  (('子懿', 'F', 0.5717213114754098), '<------>', 'M'),\n",
       "  (('万宇烟', 'F', 0.6055499573274709), '<------>', 'M'),\n",
       "  (('卞佳臻', 'M', 0.5117781473971769), '<------>', 'F'),\n",
       "  (('索刘敏', 'M', 0.5086917470381878), '<------>', 'F'),\n",
       "  (('丽清', 'M', 0.601304347826087), '<------>', 'F'),\n",
       "  (('舒童', 'M', 0.5118628141883956), '<------>', 'F'),\n",
       "  (('秋华', 'M', 0.6056708097239992), '<------>', 'F'),\n",
       "  (('凤荣', 'M', 0.7442228401572538), '<------>', 'F'),\n",
       "  (('苏', 'M', 0.5593406362595233), '<------>', 'F'),\n",
       "  (('必霏', 'F', 0.5617018756556652), '<------>', 'M'),\n",
       "  (('李思宁', 'F', 0.5074970136241429), '<------>', 'M'),\n",
       "  (('丽东', 'M', 0.9267227938883693), '<------>', 'F'),\n",
       "  (('钭奕渝', 'F', 0.4845344880455854), '<------>', 'M'),\n",
       "  (('烟', 'M', 0.5593406362595233), '<------>', 'F'),\n",
       "  (('舜玉', 'F', 0.5987675363838993), '<------>', 'M'),\n",
       "  (('连国萌', 'F', 0.5410949215661441), '<------>', 'M'),\n",
       "  (('任善竺', 'F', 0.515157089128229), '<------>', 'M')])"
      ]
     },
     "execution_count": 16,
     "metadata": {},
     "output_type": "execute_result"
    }
   ],
   "source": [
    "# calculating accuracy of laplace method, excluding undefined genders\n",
    "accu, mismatch = accuracy(include_U=False)\n",
    "# display the accuracy score and some of the mismatched cases\n",
    "accu, mismatch[:20]"
   ]
  },
  {
   "cell_type": "code",
   "execution_count": null,
   "metadata": {},
   "outputs": [],
   "source": []
  },
  {
   "cell_type": "code",
   "execution_count": 17,
   "metadata": {},
   "outputs": [
    {
     "data": {
      "text/plain": [
       "(0.9034337403741276,\n",
       " [('prediction', '<------>', 'observation'),\n",
       "  (('玉墨', 'M', 0.5746924428822495), '<------>', 'F'),\n",
       "  (('凤辰', 'M', 0.7418631949631843), '<------>', 'F'),\n",
       "  (('子懿', 'F', 0.5571745562130178), '<------>', 'M'),\n",
       "  (('万宇烟', 'F', 0.6571441544919221), '<------>', 'M'),\n",
       "  (('卞佳臻', 'M', 0.512897141401947), '<------>', 'F'),\n",
       "  (('索刘敏', 'M', 0.5094639697360233), '<------>', 'F'),\n",
       "  (('付睿', 'M', 0.6372919818456882), '<------>', 'U'),\n",
       "  (('丽清', 'M', 0.601304347826087), '<------>', 'F'),\n",
       "  (('舒童', 'M', 0.5255034366333052), '<------>', 'F'),\n",
       "  (('秋华', 'M', 0.6056708097239992), '<------>', 'F'),\n",
       "  (('郭连', 'M', 0.5347978585933173), '<------>', 'U'),\n",
       "  (('丁', 'M', 0.5593406362595233), '<------>', 'U'),\n",
       "  (('凤荣', 'M', 0.7442228401572538), '<------>', 'F'),\n",
       "  (('苏', 'M', 0.5593406362595233), '<------>', 'F'),\n",
       "  (('乔', 'M', 0.5593406362595233), '<------>', 'U'),\n",
       "  (('闫韶华', 'M', 0.5934781105033407), '<------>', 'U'),\n",
       "  (('榇译', 'M', 0.5307568158065461), '<------>', 'F'),\n",
       "  (('李思宁', 'F', 0.5074970136241429), '<------>', 'M'),\n",
       "  (('丽东', 'M', 0.9267227938883693), '<------>', 'F')])"
      ]
     },
     "execution_count": 17,
     "metadata": {},
     "output_type": "execute_result"
    }
   ],
   "source": [
    "# calculating accuracy of good turing method, incuding all genders\n",
    "accu, mismatch = accuracy(method='gt')\n",
    "# display the accuracy score and some of the mismatched cases\n",
    "accu, mismatch[:20]"
   ]
  },
  {
   "cell_type": "code",
   "execution_count": null,
   "metadata": {},
   "outputs": [],
   "source": []
  },
  {
   "cell_type": "code",
   "execution_count": 18,
   "metadata": {},
   "outputs": [
    {
     "data": {
      "text/plain": [
       "(0.9276969264000606,\n",
       " [('prediction', '<------>', 'observation'),\n",
       "  (('玉墨', 'M', 0.5746924428822495), '<------>', 'F'),\n",
       "  (('凤辰', 'M', 0.7418631949631843), '<------>', 'F'),\n",
       "  (('子懿', 'F', 0.5571745562130178), '<------>', 'M'),\n",
       "  (('万宇烟', 'F', 0.6571441544919221), '<------>', 'M'),\n",
       "  (('卞佳臻', 'M', 0.512897141401947), '<------>', 'F'),\n",
       "  (('索刘敏', 'M', 0.5094639697360233), '<------>', 'F'),\n",
       "  (('丽清', 'M', 0.601304347826087), '<------>', 'F'),\n",
       "  (('舒童', 'M', 0.5255034366333052), '<------>', 'F'),\n",
       "  (('秋华', 'M', 0.6056708097239992), '<------>', 'F'),\n",
       "  (('凤荣', 'M', 0.7442228401572538), '<------>', 'F'),\n",
       "  (('苏', 'M', 0.5593406362595233), '<------>', 'F'),\n",
       "  (('榇译', 'M', 0.5307568158065461), '<------>', 'F'),\n",
       "  (('李思宁', 'F', 0.5074970136241429), '<------>', 'M'),\n",
       "  (('丽东', 'M', 0.9267227938883693), '<------>', 'F'),\n",
       "  (('钭奕渝', 'F', 0.5743242655385526), '<------>', 'M'),\n",
       "  (('司敬园', 'M', 0.5393666618020849), '<------>', 'F'),\n",
       "  (('烟', 'M', 0.5593406362595233), '<------>', 'F'),\n",
       "  (('舜玉', 'F', 0.5987675363838993), '<------>', 'M'),\n",
       "  (('连国萌', 'F', 0.7766702031184257), '<------>', 'M')])"
      ]
     },
     "execution_count": 18,
     "metadata": {},
     "output_type": "execute_result"
    }
   ],
   "source": [
    "# calculating accuracy of good turing method, excluding undefined genders\n",
    "accu, mismatch = accuracy(method='gt', include_U=False)\n",
    "# display the accuracy score and some of the mismatched cases\n",
    "accu, mismatch[:20]"
   ]
  },
  {
   "cell_type": "code",
   "execution_count": null,
   "metadata": {},
   "outputs": [],
   "source": []
  }
 ],
 "metadata": {
  "kernelspec": {
   "display_name": "Python 3",
   "language": "python",
   "name": "python3"
  },
  "language_info": {
   "codemirror_mode": {
    "name": "ipython",
    "version": 3
   },
   "file_extension": ".py",
   "mimetype": "text/x-python",
   "name": "python",
   "nbconvert_exporter": "python",
   "pygments_lexer": "ipython3",
   "version": "3.8.8"
  }
 },
 "nbformat": 4,
 "nbformat_minor": 4
}
