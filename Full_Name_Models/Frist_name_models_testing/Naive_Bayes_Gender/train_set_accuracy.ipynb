{
 "cells": [
  {
   "cell_type": "code",
   "execution_count": 1,
   "metadata": {},
   "outputs": [],
   "source": [
    "from gender import Gender"
   ]
  },
  {
   "cell_type": "code",
   "execution_count": 2,
   "metadata": {},
   "outputs": [
    {
     "data": {
      "text/plain": [
       "(2926486, 2926486)"
      ]
     },
     "execution_count": 2,
     "metadata": {},
     "output_type": "execute_result"
    }
   ],
   "source": [
    "#loading test file\n",
    "\n",
    "def test_set(file='data/train_ds.txt', full_name=True):\n",
    "    names, genders = [], []\n",
    "    f = open(file, 'r')\n",
    "    next(f)\n",
    "    for line in f:\n",
    "        line = line.split('\\t')\n",
    "        try:\n",
    "            if full_name:\n",
    "            # line[2] = full name; line[1] = first name\n",
    "                names.append(line[2])\n",
    "            else:\n",
    "                names.append(line[1])\n",
    "            genders.append(line[3].strip())\n",
    "        except:\n",
    "            pass\n",
    "    return names, genders\n",
    "\n",
    "\n",
    "names, genders = test_set()\n",
    "len(names), len(genders)"
   ]
  },
  {
   "cell_type": "code",
   "execution_count": null,
   "metadata": {},
   "outputs": [],
   "source": []
  },
  {
   "cell_type": "code",
   "execution_count": 3,
   "metadata": {},
   "outputs": [],
   "source": [
    "# calculating the prediction accuracy based on full names\n",
    "\n",
    "def accuracy(method='lap', include_U=True):\n",
    "    global names, genders\n",
    "    def comp(idx):\n",
    "        nonlocal right, mismatch\n",
    "        pred = predict(names[idx], method, False)\n",
    "        real = genders[idx]\n",
    "        if pred[1] == real: right += 1\n",
    "        else: mismatch.append((pred, '<------>', genders[idx]))\n",
    "        \n",
    "    right = 0\n",
    "    mismatch = [('prediction', '<------>', 'observation')]\n",
    "    predict = Gender().predict\n",
    "    sample_size = len(names)\n",
    "    if include_U:\n",
    "        for i in range(len(names)):\n",
    "            comp(i)\n",
    "    else:\n",
    "        for i in range(len(names)):\n",
    "            if genders[i] != 'U': comp(i)\n",
    "            else: sample_size -= 1\n",
    "    return right/sample_size, mismatch"
   ]
  },
  {
   "cell_type": "markdown",
   "metadata": {},
   "source": [
    "## Test against full names"
   ]
  },
  {
   "cell_type": "code",
   "execution_count": 4,
   "metadata": {},
   "outputs": [
    {
     "data": {
      "text/plain": [
       "(0.9376819161273965,\n",
       " [('prediction', '<------>', 'observation'),\n",
       "  (('贾晔', 'M', 0.49505494505494513), '<------>', 'U'),\n",
       "  (('秋紫俊', 'F', 0.6188568425156774), '<------>', 'M'),\n",
       "  (('武美啸', 'M', 0.5175399048014521), '<------>', 'F'),\n",
       "  (('林文冰', 'F', 0.5265047592527463), '<------>', 'U'),\n",
       "  (('宋文会', 'M', 0.5966601669895142), '<------>', 'U'),\n",
       "  (('吴乐懿', 'M', 0.6334930288052831), '<------>', 'U'),\n",
       "  (('林水荣', 'M', 0.7984595416770441), '<------>', 'U'),\n",
       "  (('张彩龙', 'F', 0.5669448429175324), '<------>', 'M'),\n",
       "  (('褚飘庆', 'F', 0.6278352387730713), '<------>', 'M'),\n",
       "  (('沈云华', 'M', 0.3768863196945002), '<------>', 'U'),\n",
       "  (('施正漪', 'F', 0.7944377272158326), '<------>', 'M'),\n",
       "  (('吉晗', 'F', 0.6603485838779957), '<------>', 'M'),\n",
       "  (('柯逸', 'M', 0.6708860759493671), '<------>', 'U'),\n",
       "  (('吴宝懿', 'M', 0.684011403531615), '<------>', 'U'),\n",
       "  (('赵珣', 'M', 0.4626865671641791), '<------>', 'U'),\n",
       "  (('魏俊华', 'M', 0.812477928343533), '<------>', 'U'),\n",
       "  (('卞郡', 'F', 0.5093457943925234), '<------>', 'M'),\n",
       "  (('陈游', 'M', 0.7941747572815534), '<------>', 'U'),\n",
       "  (('于树玉', 'M', 0.70110248923013), '<------>', 'U')])"
      ]
     },
     "execution_count": 4,
     "metadata": {},
     "output_type": "execute_result"
    }
   ],
   "source": [
    "# calculating accuracy of laplace method, incuding all genders\n",
    "accu, mismatch = accuracy()\n",
    "# display the accuracy score and some of the mismatched cases\n",
    "accu, mismatch[:20]"
   ]
  },
  {
   "cell_type": "code",
   "execution_count": null,
   "metadata": {},
   "outputs": [],
   "source": []
  },
  {
   "cell_type": "code",
   "execution_count": 5,
   "metadata": {},
   "outputs": [
    {
     "data": {
      "text/plain": [
       "(0.9624090238263583,\n",
       " [('prediction', '<------>', 'observation'),\n",
       "  (('秋紫俊', 'F', 0.6188568425156774), '<------>', 'M'),\n",
       "  (('武美啸', 'M', 0.5175399048014521), '<------>', 'F'),\n",
       "  (('张彩龙', 'F', 0.5669448429175324), '<------>', 'M'),\n",
       "  (('褚飘庆', 'F', 0.6278352387730713), '<------>', 'M'),\n",
       "  (('施正漪', 'F', 0.7944377272158326), '<------>', 'M'),\n",
       "  (('吉晗', 'F', 0.6603485838779957), '<------>', 'M'),\n",
       "  (('卞郡', 'F', 0.5093457943925234), '<------>', 'M'),\n",
       "  (('段常桃', 'F', 0.6254946956457782), '<------>', 'M'),\n",
       "  (('栾德慧', 'F', 0.5536782694266356), '<------>', 'M'),\n",
       "  (('李旭彤', 'M', 0.5467137154925025), '<------>', 'F'),\n",
       "  (('乔海云', 'M', 0.5714315674455618), '<------>', 'F'),\n",
       "  (('王越M', 'Undefined', 0.7078066158956854), '<------>', 'F'),\n",
       "  (('游松菱', 'F', 0.7711401793521472), '<------>', 'M'),\n",
       "  (('饶璃', 'F', 0.5862068965517242), '<------>', 'M'),\n",
       "  (('闻思嘉', 'F', 0.5991541905808809), '<------>', 'M'),\n",
       "  (('杨坷潼', 'F', 0.6194318626785917), '<------>', 'M'),\n",
       "  (('蒲厘杉', 'M', 0.6062027508955053), '<------>', 'F'),\n",
       "  (('徐静龙', 'F', 0.49400336986660304), '<------>', 'M'),\n",
       "  (('张艳忠', 'F', 0.6472623390174008), '<------>', 'M')])"
      ]
     },
     "execution_count": 5,
     "metadata": {},
     "output_type": "execute_result"
    }
   ],
   "source": [
    "# calculating accuracy of laplace method, excluding undefined genders\n",
    "accu, mismatch = accuracy(include_U=False)\n",
    "# display the accuracy score and some of the mismatched cases\n",
    "accu, mismatch[:20]"
   ]
  },
  {
   "cell_type": "code",
   "execution_count": null,
   "metadata": {},
   "outputs": [],
   "source": []
  },
  {
   "cell_type": "code",
   "execution_count": 6,
   "metadata": {},
   "outputs": [
    {
     "data": {
      "text/plain": [
       "(0.9307989171996722,\n",
       " [('prediction', '<------>', 'observation'),\n",
       "  (('贾晔', 'M', 0.49505494505494513), '<------>', 'U'),\n",
       "  (('秋紫俊', 'F', 0.6227565027133336), '<------>', 'M'),\n",
       "  (('武美啸', 'M', 0.7945392799222982), '<------>', 'F'),\n",
       "  (('林文冰', 'F', 0.5265047592527463), '<------>', 'U'),\n",
       "  (('宋文会', 'M', 0.5966601669895142), '<------>', 'U'),\n",
       "  (('吴乐懿', 'M', 0.6174312283858132), '<------>', 'U'),\n",
       "  (('林水荣', 'M', 0.7984595416770441), '<------>', 'U'),\n",
       "  (('张彩龙', 'F', 0.7571218017776794), '<------>', 'M'),\n",
       "  (('沈云华', 'M', 0.3768863196945002), '<------>', 'U'),\n",
       "  (('施正漪', 'F', 0.7621473175264708), '<------>', 'M'),\n",
       "  (('吉晗', 'F', 0.662272396212673), '<------>', 'M'),\n",
       "  (('柯逸', 'M', 0.6708860759493671), '<------>', 'U'),\n",
       "  (('吴宝懿', 'M', 0.662937360224399), '<------>', 'U'),\n",
       "  (('赵珣', 'M', 0.8688826744629464), '<------>', 'U'),\n",
       "  (('魏俊华', 'M', 0.812477928343533), '<------>', 'U'),\n",
       "  (('贾渝', 'F', 0.5544634224943603), '<------>', 'M'),\n",
       "  (('卞郡', 'F', 0.5190476190476191), '<------>', 'M'),\n",
       "  (('陈游', 'M', 0.7529339571987421), '<------>', 'U'),\n",
       "  (('于树玉', 'M', 0.7278694507255835), '<------>', 'U')])"
      ]
     },
     "execution_count": 6,
     "metadata": {},
     "output_type": "execute_result"
    }
   ],
   "source": [
    "# calculating accuracy of good turing method, incuding all genders\n",
    "accu, mismatch = accuracy(method='gt')\n",
    "# display the accuracy score and some of the mismatched cases\n",
    "accu, mismatch[:20]"
   ]
  },
  {
   "cell_type": "code",
   "execution_count": null,
   "metadata": {},
   "outputs": [],
   "source": []
  },
  {
   "cell_type": "code",
   "execution_count": 7,
   "metadata": {},
   "outputs": [
    {
     "data": {
      "text/plain": [
       "(0.955344517019629,\n",
       " [('prediction', '<------>', 'observation'),\n",
       "  (('秋紫俊', 'F', 0.6227565027133336), '<------>', 'M'),\n",
       "  (('武美啸', 'M', 0.7945392799222982), '<------>', 'F'),\n",
       "  (('张彩龙', 'F', 0.7571218017776794), '<------>', 'M'),\n",
       "  (('施正漪', 'F', 0.7621473175264708), '<------>', 'M'),\n",
       "  (('吉晗', 'F', 0.662272396212673), '<------>', 'M'),\n",
       "  (('贾渝', 'F', 0.5544634224943603), '<------>', 'M'),\n",
       "  (('卞郡', 'F', 0.5190476190476191), '<------>', 'M'),\n",
       "  (('段常桃', 'F', 0.6131184187129176), '<------>', 'M'),\n",
       "  (('余舁', 'F', 0.5190522056268192), '<------>', 'M'),\n",
       "  (('姜明瑾', 'M', 0.5441911101311979), '<------>', 'F'),\n",
       "  (('栾德慧', 'F', 0.5536782694266356), '<------>', 'M'),\n",
       "  (('李旭彤', 'M', 0.5475283303662931), '<------>', 'F'),\n",
       "  (('乔海云', 'M', 0.5714315674455618), '<------>', 'F'),\n",
       "  (('王越M', 'Undefined', 0.7078066158956854), '<------>', 'F'),\n",
       "  (('宋悠也', 'M', 0.6709454839161347), '<------>', 'F'),\n",
       "  (('潘珑瑚', 'Undefined', 0.5830852073228867), '<------>', 'F'),\n",
       "  (('游松菱', 'F', 0.754092362381194), '<------>', 'M'),\n",
       "  (('饶璃', 'F', 0.5719935875937088), '<------>', 'M'),\n",
       "  (('闻思嘉', 'F', 0.5991541905808809), '<------>', 'M')])"
      ]
     },
     "execution_count": 7,
     "metadata": {},
     "output_type": "execute_result"
    }
   ],
   "source": [
    "# calculating accuracy of good turing method, excluding undefined genders\n",
    "accu, mismatch = accuracy(method='gt', include_U=False)\n",
    "# display the accuracy score and some of the mismatched cases\n",
    "accu, mismatch[:20]"
   ]
  },
  {
   "cell_type": "code",
   "execution_count": null,
   "metadata": {},
   "outputs": [],
   "source": []
  },
  {
   "cell_type": "markdown",
   "metadata": {},
   "source": [
    "## Test against first names"
   ]
  },
  {
   "cell_type": "code",
   "execution_count": 8,
   "metadata": {},
   "outputs": [
    {
     "data": {
      "text/plain": [
       "(2926486, 2926486)"
      ]
     },
     "execution_count": 8,
     "metadata": {},
     "output_type": "execute_result"
    }
   ],
   "source": [
    "# load names as first names\n",
    "\n",
    "names, genders = test_set(full_name=False)\n",
    "len(names), len(genders)"
   ]
  },
  {
   "cell_type": "markdown",
   "metadata": {},
   "source": [
    "**Repeat the above procedure**"
   ]
  },
  {
   "cell_type": "code",
   "execution_count": 9,
   "metadata": {},
   "outputs": [
    {
     "data": {
      "text/plain": [
       "(0.8816987335664684,\n",
       " [('prediction', '<------>', 'observation'),\n",
       "  (('晔', 'M', 0.49505494505494513), '<------>', 'U'),\n",
       "  (('洪君', 'F', 0.5167110483125917), '<------>', 'M'),\n",
       "  (('佳故', 'M', 0.6799999999999999), '<------>', 'F'),\n",
       "  (('苗利', 'M', 0.6120908683305932), '<------>', 'F'),\n",
       "  (('美啸', 'M', 0.9722753346080306), '<------>', 'F'),\n",
       "  (('文冰', 'F', 0.7104938856763675), '<------>', 'U'),\n",
       "  (('斐然', 'M', 0.5373563218390804), '<------>', 'F'),\n",
       "  (('文会', 'M', 0.48157606712878515), '<------>', 'U'),\n",
       "  (('乐懿', 'F', 0.5717213114754098), '<------>', 'U'),\n",
       "  (('水荣', 'M', 0.7442228401572538), '<------>', 'U'),\n",
       "  (('飘庆', 'F', 0.6278352387730713), '<------>', 'M'),\n",
       "  (('云华', 'M', 0.6056708097239992), '<------>', 'U'),\n",
       "  (('正漪', 'F', 0.9671931956257594), '<------>', 'M'),\n",
       "  (('晗', 'F', 0.6603485838779957), '<------>', 'M'),\n",
       "  (('逸', 'M', 0.6708860759493671), '<------>', 'U'),\n",
       "  (('君烨', 'M', 0.5495184444848265), '<------>', 'F'),\n",
       "  (('丹彬', 'M', 0.8731220657276995), '<------>', 'F'),\n",
       "  (('晨云', 'F', 0.47780957019359555), '<------>', 'M'),\n",
       "  (('雪逸', 'M', 0.6708860759493671), '<------>', 'F')])"
      ]
     },
     "execution_count": 9,
     "metadata": {},
     "output_type": "execute_result"
    }
   ],
   "source": [
    "# calculating accuracy of laplace method, incuding all genders\n",
    "accu, mismatch = accuracy()\n",
    "# display the accuracy score and some of the mismatched cases\n",
    "accu, mismatch[:20]"
   ]
  },
  {
   "cell_type": "code",
   "execution_count": null,
   "metadata": {},
   "outputs": [],
   "source": []
  },
  {
   "cell_type": "code",
   "execution_count": 10,
   "metadata": {},
   "outputs": [
    {
     "data": {
      "text/plain": [
       "(0.9049495387360695,\n",
       " [('prediction', '<------>', 'observation'),\n",
       "  (('洪君', 'F', 0.5167110483125917), '<------>', 'M'),\n",
       "  (('佳故', 'M', 0.6799999999999999), '<------>', 'F'),\n",
       "  (('苗利', 'M', 0.6120908683305932), '<------>', 'F'),\n",
       "  (('美啸', 'M', 0.9722753346080306), '<------>', 'F'),\n",
       "  (('斐然', 'M', 0.5373563218390804), '<------>', 'F'),\n",
       "  (('飘庆', 'F', 0.6278352387730713), '<------>', 'M'),\n",
       "  (('正漪', 'F', 0.9671931956257594), '<------>', 'M'),\n",
       "  (('晗', 'F', 0.6603485838779957), '<------>', 'M'),\n",
       "  (('君烨', 'M', 0.5495184444848265), '<------>', 'F'),\n",
       "  (('丹彬', 'M', 0.8731220657276995), '<------>', 'F'),\n",
       "  (('晨云', 'F', 0.47780957019359555), '<------>', 'M'),\n",
       "  (('雪逸', 'M', 0.6708860759493671), '<------>', 'F'),\n",
       "  (('兴敏', 'F', 0.6382878398910253), '<------>', 'M'),\n",
       "  (('树君', 'F', 0.5167110483125917), '<------>', 'M'),\n",
       "  (('雪嘉', 'M', 0.5583882187523126), '<------>', 'F'),\n",
       "  (('素卿', 'M', 0.5344497607655502), '<------>', 'F'),\n",
       "  (('张昕', 'F', 0.5725490196078431), '<------>', 'M'),\n",
       "  (('凯瑜', 'F', 0.7490205116386265), '<------>', 'M'),\n",
       "  (('一诺', 'F', 0.6630982367758185), '<------>', 'M')])"
      ]
     },
     "execution_count": 10,
     "metadata": {},
     "output_type": "execute_result"
    }
   ],
   "source": [
    "# calculating accuracy of laplace method, excluding undefined genders\n",
    "accu, mismatch = accuracy(include_U=False)\n",
    "# display the accuracy score and some of the mismatched cases\n",
    "accu, mismatch[:20]"
   ]
  },
  {
   "cell_type": "code",
   "execution_count": null,
   "metadata": {},
   "outputs": [],
   "source": []
  },
  {
   "cell_type": "code",
   "execution_count": 11,
   "metadata": {},
   "outputs": [
    {
     "data": {
      "text/plain": [
       "(0.8776351569766607,\n",
       " [('prediction', '<------>', 'observation'),\n",
       "  (('晔', 'M', 0.49505494505494513), '<------>', 'U'),\n",
       "  (('洪君', 'F', 0.5167110483125917), '<------>', 'M'),\n",
       "  (('佳故', 'M', 0.6887939560667892), '<------>', 'F'),\n",
       "  (('德幸', 'F', 0.552486187845304), '<------>', 'M'),\n",
       "  (('苗利', 'M', 0.6120908683305932), '<------>', 'F'),\n",
       "  (('美啸', 'M', 0.9821908438599142), '<------>', 'F'),\n",
       "  (('文冰', 'F', 0.7104938856763675), '<------>', 'U'),\n",
       "  (('斐然', 'M', 0.5373563218390804), '<------>', 'F'),\n",
       "  (('文会', 'M', 0.48157606712878515), '<------>', 'U'),\n",
       "  (('乐懿', 'F', 0.5571745562130178), '<------>', 'U'),\n",
       "  (('水荣', 'M', 0.7442228401572538), '<------>', 'U'),\n",
       "  (('云华', 'M', 0.6056708097239992), '<------>', 'U'),\n",
       "  (('正漪', 'F', 0.9611189107631795), '<------>', 'M'),\n",
       "  (('晗', 'F', 0.662272396212673), '<------>', 'M'),\n",
       "  (('逸', 'M', 0.6708860759493671), '<------>', 'U'),\n",
       "  (('君烨', 'M', 0.5495184444848265), '<------>', 'F'),\n",
       "  (('丹彬', 'M', 0.9245587869748942), '<------>', 'F'),\n",
       "  (('晨云', 'F', 0.47780957019359555), '<------>', 'M'),\n",
       "  (('雪逸', 'M', 0.6708860759493671), '<------>', 'F')])"
      ]
     },
     "execution_count": 11,
     "metadata": {},
     "output_type": "execute_result"
    }
   ],
   "source": [
    "# calculating accuracy of good turing method, incuding all genders\n",
    "accu, mismatch = accuracy(method='gt')\n",
    "# display the accuracy score and some of the mismatched cases\n",
    "accu, mismatch[:20]"
   ]
  },
  {
   "cell_type": "code",
   "execution_count": null,
   "metadata": {},
   "outputs": [],
   "source": []
  },
  {
   "cell_type": "code",
   "execution_count": 12,
   "metadata": {},
   "outputs": [
    {
     "data": {
      "text/plain": [
       "(0.9007788037439817,\n",
       " [('prediction', '<------>', 'observation'),\n",
       "  (('洪君', 'F', 0.5167110483125917), '<------>', 'M'),\n",
       "  (('佳故', 'M', 0.6887939560667892), '<------>', 'F'),\n",
       "  (('德幸', 'F', 0.552486187845304), '<------>', 'M'),\n",
       "  (('苗利', 'M', 0.6120908683305932), '<------>', 'F'),\n",
       "  (('美啸', 'M', 0.9821908438599142), '<------>', 'F'),\n",
       "  (('斐然', 'M', 0.5373563218390804), '<------>', 'F'),\n",
       "  (('正漪', 'F', 0.9611189107631795), '<------>', 'M'),\n",
       "  (('晗', 'F', 0.662272396212673), '<------>', 'M'),\n",
       "  (('君烨', 'M', 0.5495184444848265), '<------>', 'F'),\n",
       "  (('丹彬', 'M', 0.9245587869748942), '<------>', 'F'),\n",
       "  (('晨云', 'F', 0.47780957019359555), '<------>', 'M'),\n",
       "  (('雪逸', 'M', 0.6708860759493671), '<------>', 'F'),\n",
       "  (('兴敏', 'F', 0.6382878398910253), '<------>', 'M'),\n",
       "  (('树君', 'F', 0.5167110483125917), '<------>', 'M'),\n",
       "  (('雪嘉', 'M', 0.5583882187523126), '<------>', 'F'),\n",
       "  (('崇杜', 'F', 0.6783042394014962), '<------>', 'M'),\n",
       "  (('素卿', 'M', 0.6513119533527697), '<------>', 'F'),\n",
       "  (('张昕', 'F', 0.5657270173399206), '<------>', 'M'),\n",
       "  (('凯瑜', 'F', 0.7490205116386265), '<------>', 'M')])"
      ]
     },
     "execution_count": 12,
     "metadata": {},
     "output_type": "execute_result"
    }
   ],
   "source": [
    "# calculating accuracy of good turing method, excluding undefined genders\n",
    "accu, mismatch = accuracy(method='gt', include_U=False)\n",
    "# display the accuracy score and some of the mismatched cases\n",
    "accu, mismatch[:20]"
   ]
  },
  {
   "cell_type": "code",
   "execution_count": null,
   "metadata": {},
   "outputs": [],
   "source": []
  },
  {
   "cell_type": "markdown",
   "metadata": {},
   "source": [
    "## Test again first/full names (randomly)"
   ]
  },
  {
   "cell_type": "code",
   "execution_count": 13,
   "metadata": {},
   "outputs": [
    {
     "data": {
      "text/plain": [
       "(2926486, 2926486)"
      ]
     },
     "execution_count": 13,
     "metadata": {},
     "output_type": "execute_result"
    }
   ],
   "source": [
    "#loading test file\n",
    "from random import random, seed\n",
    "\n",
    "\n",
    "def test_set(file='data/train_ds.txt', seed_=0):\n",
    "    names, genders = [], []\n",
    "    f = open(file, 'r')\n",
    "    next(f)\n",
    "    seed(seed_)\n",
    "    for line in f:\n",
    "        line = line.split('\\t')\n",
    "        try:\n",
    "            # line[2] = full name; line[1] = first name\n",
    "            name = line[2] if random() >= 0.5 else line[1]\n",
    "            names.append(name)\n",
    "            genders.append(line[3].strip())\n",
    "        except:\n",
    "            pass\n",
    "    return names, genders\n",
    "\n",
    "\n",
    "names, genders = test_set()\n",
    "len(names), len(genders)"
   ]
  },
  {
   "cell_type": "code",
   "execution_count": 14,
   "metadata": {},
   "outputs": [
    {
     "data": {
      "text/plain": [
       "['阎莹暂',\n",
       " '吕荣辉',\n",
       " '泽彬',\n",
       " '二庄',\n",
       " '华治权',\n",
       " '哧天',\n",
       " '荣彦成',\n",
       " '其荷',\n",
       " '志峰',\n",
       " '王治诚',\n",
       " '贾晔',\n",
       " '秋紫俊',\n",
       " '絮雨',\n",
       " '黄洪君',\n",
       " '戴世荣',\n",
       " '佳讯',\n",
       " '翟谨德',\n",
       " '蒋会川',\n",
       " '阮彦嘉',\n",
       " '耿艺贤']"
      ]
     },
     "execution_count": 14,
     "metadata": {},
     "output_type": "execute_result"
    }
   ],
   "source": [
    "# check the names\n",
    "names[:20]"
   ]
  },
  {
   "cell_type": "markdown",
   "metadata": {},
   "source": [
    "**Repeat the above procedure**"
   ]
  },
  {
   "cell_type": "code",
   "execution_count": 15,
   "metadata": {},
   "outputs": [
    {
     "data": {
      "text/plain": [
       "(0.9097282542954246,\n",
       " [('prediction', '<------>', 'observation'),\n",
       "  (('贾晔', 'M', 0.49505494505494513), '<------>', 'U'),\n",
       "  (('秋紫俊', 'F', 0.6188568425156774), '<------>', 'M'),\n",
       "  (('美啸', 'M', 0.9722753346080306), '<------>', 'F'),\n",
       "  (('林文冰', 'F', 0.5265047592527463), '<------>', 'U'),\n",
       "  (('斐然', 'M', 0.5373563218390804), '<------>', 'F'),\n",
       "  (('宋文会', 'M', 0.5966601669895142), '<------>', 'U'),\n",
       "  (('乐懿', 'F', 0.5717213114754098), '<------>', 'U'),\n",
       "  (('林水荣', 'M', 0.7984595416770441), '<------>', 'U'),\n",
       "  (('张彩龙', 'F', 0.5669448429175324), '<------>', 'M'),\n",
       "  (('飘庆', 'F', 0.6278352387730713), '<------>', 'M'),\n",
       "  (('云华', 'M', 0.6056708097239992), '<------>', 'U'),\n",
       "  (('正漪', 'F', 0.9671931956257594), '<------>', 'M'),\n",
       "  (('吉晗', 'F', 0.6603485838779957), '<------>', 'M'),\n",
       "  (('逸', 'M', 0.6708860759493671), '<------>', 'U'),\n",
       "  (('丹彬', 'M', 0.8731220657276995), '<------>', 'F'),\n",
       "  (('树君', 'F', 0.5167110483125917), '<------>', 'M'),\n",
       "  (('雪嘉', 'M', 0.5583882187523126), '<------>', 'F'),\n",
       "  (('吴宝懿', 'M', 0.684011403531615), '<------>', 'U'),\n",
       "  (('珣', 'M', 0.4626865671641791), '<------>', 'U')])"
      ]
     },
     "execution_count": 15,
     "metadata": {},
     "output_type": "execute_result"
    }
   ],
   "source": [
    "# calculating accuracy of laplace method, incuding all genders\n",
    "accu, mismatch = accuracy()\n",
    "# display the accuracy score and some of the mismatched cases\n",
    "accu, mismatch[:20]"
   ]
  },
  {
   "cell_type": "code",
   "execution_count": null,
   "metadata": {},
   "outputs": [],
   "source": []
  },
  {
   "cell_type": "code",
   "execution_count": 16,
   "metadata": {},
   "outputs": [
    {
     "data": {
      "text/plain": [
       "(0.9337182109468817,\n",
       " [('prediction', '<------>', 'observation'),\n",
       "  (('秋紫俊', 'F', 0.6188568425156774), '<------>', 'M'),\n",
       "  (('美啸', 'M', 0.9722753346080306), '<------>', 'F'),\n",
       "  (('斐然', 'M', 0.5373563218390804), '<------>', 'F'),\n",
       "  (('张彩龙', 'F', 0.5669448429175324), '<------>', 'M'),\n",
       "  (('飘庆', 'F', 0.6278352387730713), '<------>', 'M'),\n",
       "  (('正漪', 'F', 0.9671931956257594), '<------>', 'M'),\n",
       "  (('吉晗', 'F', 0.6603485838779957), '<------>', 'M'),\n",
       "  (('丹彬', 'M', 0.8731220657276995), '<------>', 'F'),\n",
       "  (('树君', 'F', 0.5167110483125917), '<------>', 'M'),\n",
       "  (('雪嘉', 'M', 0.5583882187523126), '<------>', 'F'),\n",
       "  (('凯瑜', 'F', 0.7490205116386265), '<------>', 'M'),\n",
       "  (('一诺', 'F', 0.6630982367758185), '<------>', 'M'),\n",
       "  (('卞郡', 'F', 0.5093457943925234), '<------>', 'M'),\n",
       "  (('美银', 'M', 0.5146726862302483), '<------>', 'F'),\n",
       "  (('俊君', 'F', 0.5167110483125917), '<------>', 'M'),\n",
       "  (('段常桃', 'F', 0.6254946956457782), '<------>', 'M'),\n",
       "  (('孝涵', 'F', 0.6990136671237119), '<------>', 'M'),\n",
       "  (('德慧', 'F', 0.9068868926881097), '<------>', 'M'),\n",
       "  (('旭彤', 'M', 0.5467137154925025), '<------>', 'F')])"
      ]
     },
     "execution_count": 16,
     "metadata": {},
     "output_type": "execute_result"
    }
   ],
   "source": [
    "# calculating accuracy of laplace method, excluding undefined genders\n",
    "accu, mismatch = accuracy(include_U=False)\n",
    "# display the accuracy score and some of the mismatched cases\n",
    "accu, mismatch[:20]"
   ]
  },
  {
   "cell_type": "code",
   "execution_count": null,
   "metadata": {},
   "outputs": [],
   "source": []
  },
  {
   "cell_type": "code",
   "execution_count": 17,
   "metadata": {},
   "outputs": [
    {
     "data": {
      "text/plain": [
       "(0.9042267757303469,\n",
       " [('prediction', '<------>', 'observation'),\n",
       "  (('贾晔', 'M', 0.49505494505494513), '<------>', 'U'),\n",
       "  (('秋紫俊', 'F', 0.6227565027133336), '<------>', 'M'),\n",
       "  (('德幸', 'F', 0.552486187845304), '<------>', 'M'),\n",
       "  (('美啸', 'M', 0.9821908438599142), '<------>', 'F'),\n",
       "  (('林文冰', 'F', 0.5265047592527463), '<------>', 'U'),\n",
       "  (('斐然', 'M', 0.5373563218390804), '<------>', 'F'),\n",
       "  (('宋文会', 'M', 0.5966601669895142), '<------>', 'U'),\n",
       "  (('乐懿', 'F', 0.5571745562130178), '<------>', 'U'),\n",
       "  (('林水荣', 'M', 0.7984595416770441), '<------>', 'U'),\n",
       "  (('张彩龙', 'F', 0.7571218017776794), '<------>', 'M'),\n",
       "  (('云华', 'M', 0.6056708097239992), '<------>', 'U'),\n",
       "  (('正漪', 'F', 0.9611189107631795), '<------>', 'M'),\n",
       "  (('吉晗', 'F', 0.662272396212673), '<------>', 'M'),\n",
       "  (('逸', 'M', 0.6708860759493671), '<------>', 'U'),\n",
       "  (('丹彬', 'M', 0.9245587869748942), '<------>', 'F'),\n",
       "  (('树君', 'F', 0.5167110483125917), '<------>', 'M'),\n",
       "  (('雪嘉', 'M', 0.5583882187523126), '<------>', 'F'),\n",
       "  (('吴宝懿', 'M', 0.662937360224399), '<------>', 'U'),\n",
       "  (('珣', 'M', 0.8688826744629464), '<------>', 'U')])"
      ]
     },
     "execution_count": 17,
     "metadata": {},
     "output_type": "execute_result"
    }
   ],
   "source": [
    "# calculating accuracy of good turing method, incuding all genders\n",
    "accu, mismatch = accuracy(method='gt')\n",
    "# display the accuracy score and some of the mismatched cases\n",
    "accu, mismatch[:20]"
   ]
  },
  {
   "cell_type": "code",
   "execution_count": null,
   "metadata": {},
   "outputs": [],
   "source": []
  },
  {
   "cell_type": "code",
   "execution_count": 18,
   "metadata": {},
   "outputs": [
    {
     "data": {
      "text/plain": [
       "(0.9280716558365039,\n",
       " [('prediction', '<------>', 'observation'),\n",
       "  (('秋紫俊', 'F', 0.6227565027133336), '<------>', 'M'),\n",
       "  (('德幸', 'F', 0.552486187845304), '<------>', 'M'),\n",
       "  (('美啸', 'M', 0.9821908438599142), '<------>', 'F'),\n",
       "  (('斐然', 'M', 0.5373563218390804), '<------>', 'F'),\n",
       "  (('张彩龙', 'F', 0.7571218017776794), '<------>', 'M'),\n",
       "  (('正漪', 'F', 0.9611189107631795), '<------>', 'M'),\n",
       "  (('吉晗', 'F', 0.662272396212673), '<------>', 'M'),\n",
       "  (('丹彬', 'M', 0.9245587869748942), '<------>', 'F'),\n",
       "  (('树君', 'F', 0.5167110483125917), '<------>', 'M'),\n",
       "  (('雪嘉', 'M', 0.5583882187523126), '<------>', 'F'),\n",
       "  (('崇杜', 'F', 0.6783042394014962), '<------>', 'M'),\n",
       "  (('凯瑜', 'F', 0.7490205116386265), '<------>', 'M'),\n",
       "  (('一诺', 'F', 0.6673003802281369), '<------>', 'M'),\n",
       "  (('贾渝', 'F', 0.5544634224943603), '<------>', 'M'),\n",
       "  (('卞郡', 'F', 0.5190476190476191), '<------>', 'M'),\n",
       "  (('美银', 'M', 0.5146726862302483), '<------>', 'F'),\n",
       "  (('俊君', 'F', 0.5167110483125917), '<------>', 'M'),\n",
       "  (('家荥', 'F', 0.7592572689023014), '<------>', 'M'),\n",
       "  (('段常桃', 'F', 0.6131184187129176), '<------>', 'M')])"
      ]
     },
     "execution_count": 18,
     "metadata": {},
     "output_type": "execute_result"
    }
   ],
   "source": [
    "# calculating accuracy of good turing method, excluding undefined genders\n",
    "accu, mismatch = accuracy(method='gt', include_U=False)\n",
    "# display the accuracy score and some of the mismatched cases\n",
    "accu, mismatch[:20]"
   ]
  },
  {
   "cell_type": "code",
   "execution_count": null,
   "metadata": {},
   "outputs": [],
   "source": []
  }
 ],
 "metadata": {
  "kernelspec": {
   "display_name": "Python 3",
   "language": "python",
   "name": "python3"
  },
  "language_info": {
   "codemirror_mode": {
    "name": "ipython",
    "version": 3
   },
   "file_extension": ".py",
   "mimetype": "text/x-python",
   "name": "python",
   "nbconvert_exporter": "python",
   "pygments_lexer": "ipython3",
   "version": "3.8.8"
  }
 },
 "nbformat": 4,
 "nbformat_minor": 4
}
