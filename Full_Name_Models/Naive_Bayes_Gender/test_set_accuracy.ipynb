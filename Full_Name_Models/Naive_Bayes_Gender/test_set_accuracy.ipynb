{
 "cells": [
  {
   "cell_type": "code",
   "execution_count": 1,
   "metadata": {},
   "outputs": [],
   "source": [
    "from gender import Gender"
   ]
  },
  {
   "cell_type": "code",
   "execution_count": 2,
   "metadata": {},
   "outputs": [
    {
     "data": {
      "text/plain": [
       "(731622, 731622)"
      ]
     },
     "execution_count": 2,
     "metadata": {},
     "output_type": "execute_result"
    }
   ],
   "source": [
    "#loading test file\n",
    "\n",
    "def test_set(file='data/test_ds.txt', full_name=True):\n",
    "    names, genders = [], []\n",
    "    f = open(file, 'r')\n",
    "    next(f)\n",
    "    for line in f:\n",
    "        line = line.split('\\t')\n",
    "        try:\n",
    "            if full_name:\n",
    "            # line[2] = full name; line[1] = first name\n",
    "                names.append(line[2])\n",
    "            else:\n",
    "                names.append(line[1])\n",
    "            genders.append(line[3].strip())\n",
    "        except:\n",
    "            pass\n",
    "    return names, genders\n",
    "\n",
    "\n",
    "names, genders = test_set()\n",
    "len(names), len(genders)"
   ]
  },
  {
   "cell_type": "code",
   "execution_count": null,
   "metadata": {},
   "outputs": [],
   "source": []
  },
  {
   "cell_type": "code",
   "execution_count": 3,
   "metadata": {},
   "outputs": [],
   "source": [
    "# calculating the prediction accuracy based on full names\n",
    "\n",
    "def accuracy(method='lap', include_U=True):\n",
    "    global names, genders\n",
    "    def comp(idx):\n",
    "        nonlocal right, mismatch\n",
    "        pred = predict(names[idx], method, False)\n",
    "        real = genders[idx]\n",
    "        if pred[1] == real: right += 1\n",
    "        else: mismatch.append((pred, '<------>', genders[idx]))\n",
    "        \n",
    "    right = 0\n",
    "    mismatch = [('prediction', '<------>', 'observation')]\n",
    "    predict = Gender().predict\n",
    "    sample_size = len(names)\n",
    "    if include_U:\n",
    "        for i in range(len(names)):\n",
    "            comp(i)\n",
    "    else:\n",
    "        for i in range(len(names)):\n",
    "            if genders[i] != 'U': comp(i)\n",
    "            else: sample_size -= 1\n",
    "    return right/sample_size, mismatch"
   ]
  },
  {
   "cell_type": "markdown",
   "metadata": {},
   "source": [
    "## Test against full names"
   ]
  },
  {
   "cell_type": "code",
   "execution_count": 4,
   "metadata": {},
   "outputs": [
    {
     "data": {
      "text/plain": [
       "(0.9207117883278524,\n",
       " [('prediction', '<------>', 'observation'),\n",
       "  (('张继燕', 'M', 0.5078611344330047), '<------>', 'F'),\n",
       "  (('万宇烟', 'F', 0.5654871460207109), '<------>', 'M'),\n",
       "  (('阮涵之', 'F', 0.5438453662196723), '<------>', 'M'),\n",
       "  (('卞佳臻', 'M', 0.5893905285861586), '<------>', 'F'),\n",
       "  (('付睿', 'M', 0.712606419452691), '<------>', 'U'),\n",
       "  (('班柳淳', 'M', 0.5678185646975151), '<------>', 'F'),\n",
       "  (('郭连', 'M', 0.5720968653852523), '<------>', 'U'),\n",
       "  (('游丁', 'M', 0.5942377411017877), '<------>', 'U'),\n",
       "  (('贝学敏', 'F', 0.65171017063093), '<------>', 'M'),\n",
       "  (('童雨杨', 'F', 0.5681692397642859), '<------>', 'M'),\n",
       "  (('梅必霏', 'F', 0.8899741213824529), '<------>', 'M'),\n",
       "  (('林乔', 'M', 0.6775205089690965), '<------>', 'U'),\n",
       "  (('闫韶华', 'Undefined', 0.5292034726456268), '<------>', 'U'),\n",
       "  (('季纯融', 'F', 0.5706811701507302), '<------>', 'M'),\n",
       "  (('盛建梅', 'M', 0.597223876622354), '<------>', 'F'),\n",
       "  (('奚雷筠', 'F', 0.8758288485000173), '<------>', 'M'),\n",
       "  (('连国萌', 'F', 0.6067968034998574), '<------>', 'M'),\n",
       "  (('刘畏', 'M', 0.6206374916510611), '<------>', 'U'),\n",
       "  (('南英', 'F', 0.5773779630914516), '<------>', 'U')])"
      ]
     },
     "execution_count": 4,
     "metadata": {},
     "output_type": "execute_result"
    }
   ],
   "source": [
    "# used to be: 0.9371465046157715 (trained on first names)\n",
    "\n",
    "# calculating accuracy of laplace method, incuding all genders\n",
    "accu, mismatch = accuracy()\n",
    "# display the accuracy score and some of the mismatched cases\n",
    "accu, mismatch[:20]"
   ]
  },
  {
   "cell_type": "code",
   "execution_count": null,
   "metadata": {},
   "outputs": [],
   "source": []
  },
  {
   "cell_type": "code",
   "execution_count": 5,
   "metadata": {},
   "outputs": [
    {
     "data": {
      "text/plain": [
       "(0.9454390045011347,\n",
       " [('prediction', '<------>', 'observation'),\n",
       "  (('张继燕', 'M', 0.5078611344330047), '<------>', 'F'),\n",
       "  (('万宇烟', 'F', 0.5654871460207109), '<------>', 'M'),\n",
       "  (('阮涵之', 'F', 0.5438453662196723), '<------>', 'M'),\n",
       "  (('卞佳臻', 'M', 0.5893905285861586), '<------>', 'F'),\n",
       "  (('班柳淳', 'M', 0.5678185646975151), '<------>', 'F'),\n",
       "  (('贝学敏', 'F', 0.65171017063093), '<------>', 'M'),\n",
       "  (('童雨杨', 'F', 0.5681692397642859), '<------>', 'M'),\n",
       "  (('梅必霏', 'F', 0.8899741213824529), '<------>', 'M'),\n",
       "  (('季纯融', 'F', 0.5706811701507302), '<------>', 'M'),\n",
       "  (('盛建梅', 'M', 0.597223876622354), '<------>', 'F'),\n",
       "  (('奚雷筠', 'F', 0.8758288485000173), '<------>', 'M'),\n",
       "  (('连国萌', 'F', 0.6067968034998574), '<------>', 'M'),\n",
       "  (('武亭', 'M', 0.5524695604437723), '<------>', 'F'),\n",
       "  (('汤云瑞', 'F', 0.45723945764495905), '<------>', 'M'),\n",
       "  (('王敏利', 'Undefined', 0.5732817087884837), '<------>', 'F'),\n",
       "  (('梁颜', 'M', 0.5044711197801947), '<------>', 'F'),\n",
       "  (('司空嘉桐', 'F', 0.5071564461314124), '<------>', 'M'),\n",
       "  (('诸乔楚', 'F', 0.5988092872838239), '<------>', 'M'),\n",
       "  (('谷寒宫', 'F', 0.5826050738823664), '<------>', 'M')])"
      ]
     },
     "execution_count": 5,
     "metadata": {},
     "output_type": "execute_result"
    }
   ],
   "source": [
    "# used to be: 0.9623151018895784 (trained on first names)\n",
    "\n",
    "\n",
    "# calculating accuracy of laplace method, excluding undefined genders\n",
    "accu, mismatch = accuracy(include_U=False)\n",
    "# display the accuracy score and some of the mismatched cases\n",
    "accu, mismatch[:20]"
   ]
  },
  {
   "cell_type": "code",
   "execution_count": null,
   "metadata": {},
   "outputs": [],
   "source": []
  },
  {
   "cell_type": "code",
   "execution_count": 6,
   "metadata": {},
   "outputs": [
    {
     "data": {
      "text/plain": [
       "(0.91423303290497,\n",
       " [('prediction', '<------>', 'observation'),\n",
       "  (('钱穗君', 'M', 0.423255170201506), '<------>', 'F'),\n",
       "  (('张继燕', 'M', 0.5147383902924803), '<------>', 'F'),\n",
       "  (('万宇烟', 'F', 0.7834142743741946), '<------>', 'M'),\n",
       "  (('阮涵之', 'F', 0.5459413805222921), '<------>', 'M'),\n",
       "  (('卞佳臻', 'M', 0.7434085763069487), '<------>', 'F'),\n",
       "  (('付睿', 'M', 0.712606419452691), '<------>', 'U'),\n",
       "  (('班柳淳', 'M', 0.5680285349769285), '<------>', 'F'),\n",
       "  (('纪嵫', 'F', 0.5140797010713717), '<------>', 'M'),\n",
       "  (('郭连', 'M', 0.5720968653852523), '<------>', 'U'),\n",
       "  (('游丁', 'M', 0.605408830931151), '<------>', 'U'),\n",
       "  (('贝学敏', 'F', 0.6493241711705547), '<------>', 'M'),\n",
       "  (('童雨杨', 'F', 0.5681692397642859), '<------>', 'M'),\n",
       "  (('梅必霏', 'F', 0.9151787042813125), '<------>', 'M'),\n",
       "  (('林乔', 'M', 0.6775205089690965), '<------>', 'U'),\n",
       "  (('邵子奕', 'F', 0.4869604261972831), '<------>', 'M'),\n",
       "  (('闫韶华', 'Undefined', 0.4836621778927178), '<------>', 'U'),\n",
       "  (('许刀鸾', 'M', 0.6512152768217652), '<------>', 'F'),\n",
       "  (('季纯融', 'F', 0.5715775824437949), '<------>', 'M'),\n",
       "  (('白榇译', 'M', 0.5138879955890765), '<------>', 'F')])"
      ]
     },
     "execution_count": 6,
     "metadata": {},
     "output_type": "execute_result"
    }
   ],
   "source": [
    "# used to be: 0.9300936822566844 (trained on first names)\n",
    "\n",
    "# calculating accuracy of good turing method, incuding all genders\n",
    "accu, mismatch = accuracy(method='gt')\n",
    "# display the accuracy score and some of the mismatched cases\n",
    "accu, mismatch[:20]"
   ]
  },
  {
   "cell_type": "code",
   "execution_count": null,
   "metadata": {},
   "outputs": [],
   "source": []
  },
  {
   "cell_type": "code",
   "execution_count": 7,
   "metadata": {},
   "outputs": [
    {
     "data": {
      "text/plain": [
       "(0.9387862515386246,\n",
       " [('prediction', '<------>', 'observation'),\n",
       "  (('钱穗君', 'M', 0.423255170201506), '<------>', 'F'),\n",
       "  (('张继燕', 'M', 0.5147383902924803), '<------>', 'F'),\n",
       "  (('万宇烟', 'F', 0.7834142743741946), '<------>', 'M'),\n",
       "  (('阮涵之', 'F', 0.5459413805222921), '<------>', 'M'),\n",
       "  (('卞佳臻', 'M', 0.7434085763069487), '<------>', 'F'),\n",
       "  (('班柳淳', 'M', 0.5680285349769285), '<------>', 'F'),\n",
       "  (('纪嵫', 'F', 0.5140797010713717), '<------>', 'M'),\n",
       "  (('贝学敏', 'F', 0.6493241711705547), '<------>', 'M'),\n",
       "  (('童雨杨', 'F', 0.5681692397642859), '<------>', 'M'),\n",
       "  (('梅必霏', 'F', 0.9151787042813125), '<------>', 'M'),\n",
       "  (('邵子奕', 'F', 0.4869604261972831), '<------>', 'M'),\n",
       "  (('许刀鸾', 'M', 0.6512152768217652), '<------>', 'F'),\n",
       "  (('季纯融', 'F', 0.5715775824437949), '<------>', 'M'),\n",
       "  (('白榇译', 'M', 0.5138879955890765), '<------>', 'F'),\n",
       "  (('盛建梅', 'M', 0.5999932821925059), '<------>', 'F'),\n",
       "  (('钭奕渝', 'F', 0.9298705240593117), '<------>', 'M'),\n",
       "  (('奚雷筠', 'F', 0.702070718579464), '<------>', 'M'),\n",
       "  (('连国萌', 'F', 0.7536643578050461), '<------>', 'M'),\n",
       "  (('武亭', 'M', 0.5610238742348022), '<------>', 'F')])"
      ]
     },
     "execution_count": 7,
     "metadata": {},
     "output_type": "execute_result"
    }
   ],
   "source": [
    "# used to be: 0.9550728644873521 (trained on first names)\n",
    "\n",
    "\n",
    "# calculating accuracy of good turing method, excluding undefined genders\n",
    "accu, mismatch = accuracy(method='gt', include_U=False)\n",
    "# display the accuracy score and some of the mismatched cases\n",
    "accu, mismatch[:20]"
   ]
  },
  {
   "cell_type": "code",
   "execution_count": null,
   "metadata": {},
   "outputs": [],
   "source": []
  },
  {
   "cell_type": "markdown",
   "metadata": {},
   "source": [
    "## Test against first names"
   ]
  },
  {
   "cell_type": "code",
   "execution_count": 8,
   "metadata": {},
   "outputs": [
    {
     "data": {
      "text/plain": [
       "(731622, 731622)"
      ]
     },
     "execution_count": 8,
     "metadata": {},
     "output_type": "execute_result"
    }
   ],
   "source": [
    "# load names as first names\n",
    "\n",
    "names, genders = test_set(full_name=False)\n",
    "len(names), len(genders)"
   ]
  },
  {
   "cell_type": "markdown",
   "metadata": {},
   "source": [
    "**Repeat the above procedure**"
   ]
  },
  {
   "cell_type": "code",
   "execution_count": 9,
   "metadata": {},
   "outputs": [
    {
     "data": {
      "text/plain": [
       "(0.9268215007203173,\n",
       " [('prediction', '<------>', 'observation'),\n",
       "  (('宇烟', 'F', 0.613008130470299), '<------>', 'M'),\n",
       "  (('佳臻', 'M', 0.5110809349392665), '<------>', 'F'),\n",
       "  (('睿', 'M', 0.6372919818456882), '<------>', 'U'),\n",
       "  (('雁林', 'F', 0.4971546052901239), '<------>', 'M'),\n",
       "  (('连', 'M', 0.5639068463275956), '<------>', 'U'),\n",
       "  (('丁', 'M', 0.5716382443388314), '<------>', 'U'),\n",
       "  (('雨杨', 'F', 0.5171689917383303), '<------>', 'M'),\n",
       "  (('必霏', 'F', 0.5628201585717663), '<------>', 'M'),\n",
       "  (('乔', 'M', 0.5002984056611817), '<------>', 'U'),\n",
       "  (('韶华', 'M', 0.6117234847115117), '<------>', 'U'),\n",
       "  (('纯融', 'F', 0.5276217216421958), '<------>', 'M'),\n",
       "  (('建梅', 'M', 0.5072885264113434), '<------>', 'F'),\n",
       "  (('思宁', 'F', 0.5542480753756921), '<------>', 'M'),\n",
       "  (('奕渝', 'F', 0.486317054198091), '<------>', 'M'),\n",
       "  (('雷筠', 'F', 0.8898538716579548), '<------>', 'M'),\n",
       "  (('国萌', 'F', 0.6109439118463438), '<------>', 'M'),\n",
       "  (('畏', 'M', 0.78125), '<------>', 'U'),\n",
       "  (('云夕', 'F', 0.47663201243602304), '<------>', 'M'),\n",
       "  (('英', 'F', 0.8478313642984301), '<------>', 'U')])"
      ]
     },
     "execution_count": 9,
     "metadata": {},
     "output_type": "execute_result"
    }
   ],
   "source": [
    "# corresponding full name model = 0.9207117883278524\n",
    "\n",
    "# calculating accuracy of laplace method, incuding all genders\n",
    "accu, mismatch = accuracy()\n",
    "# display the accuracy score and some of the mismatched cases\n",
    "accu, mismatch[:20]"
   ]
  },
  {
   "cell_type": "code",
   "execution_count": null,
   "metadata": {},
   "outputs": [],
   "source": []
  },
  {
   "cell_type": "code",
   "execution_count": 10,
   "metadata": {},
   "outputs": [
    {
     "data": {
      "text/plain": [
       "(0.9517128031809703,\n",
       " [('prediction', '<------>', 'observation'),\n",
       "  (('宇烟', 'F', 0.613008130470299), '<------>', 'M'),\n",
       "  (('佳臻', 'M', 0.5110809349392665), '<------>', 'F'),\n",
       "  (('雁林', 'F', 0.4971546052901239), '<------>', 'M'),\n",
       "  (('雨杨', 'F', 0.5171689917383303), '<------>', 'M'),\n",
       "  (('必霏', 'F', 0.5628201585717663), '<------>', 'M'),\n",
       "  (('纯融', 'F', 0.5276217216421958), '<------>', 'M'),\n",
       "  (('建梅', 'M', 0.5072885264113434), '<------>', 'F'),\n",
       "  (('思宁', 'F', 0.5542480753756921), '<------>', 'M'),\n",
       "  (('奕渝', 'F', 0.486317054198091), '<------>', 'M'),\n",
       "  (('雷筠', 'F', 0.8898538716579548), '<------>', 'M'),\n",
       "  (('国萌', 'F', 0.6109439118463438), '<------>', 'M'),\n",
       "  (('云夕', 'F', 0.47663201243602304), '<------>', 'M'),\n",
       "  (('嘉桐', 'F', 0.49647584866570316), '<------>', 'M'),\n",
       "  (('乔楚', 'F', 0.6271522217742468), '<------>', 'M'),\n",
       "  (('寒宫', 'F', 0.5741479704400875), '<------>', 'M'),\n",
       "  (('蕙全', 'F', 0.9188883716698855), '<------>', 'M'),\n",
       "  (('琳伟', 'F', 0.7119658359552217), '<------>', 'M'),\n",
       "  (('若熙', 'F', 0.5760600868714112), '<------>', 'M'),\n",
       "  (('洛冰', 'F', 0.48937285617381754), '<------>', 'M')])"
      ]
     },
     "execution_count": 10,
     "metadata": {},
     "output_type": "execute_result"
    }
   ],
   "source": [
    "# corresponding full name model = 0.9454390045011347\n",
    "\n",
    "# calculating accuracy of laplace method, excluding undefined genders\n",
    "accu, mismatch = accuracy(include_U=False)\n",
    "# display the accuracy score and some of the mismatched cases\n",
    "accu, mismatch[:20]"
   ]
  },
  {
   "cell_type": "code",
   "execution_count": null,
   "metadata": {},
   "outputs": [],
   "source": []
  },
  {
   "cell_type": "code",
   "execution_count": 11,
   "metadata": {},
   "outputs": [
    {
     "data": {
      "text/plain": [
       "(0.920558703811531,\n",
       " [('prediction', '<------>', 'observation'),\n",
       "  (('宇烟', 'F', 0.7961985689456496), '<------>', 'M'),\n",
       "  (('佳臻', 'M', 0.6743927726548445), '<------>', 'F'),\n",
       "  (('睿', 'M', 0.6372919818456882), '<------>', 'U'),\n",
       "  (('雁林', 'F', 0.4971546052901239), '<------>', 'M'),\n",
       "  (('连', 'M', 0.5639068463275956), '<------>', 'U'),\n",
       "  (('丁', 'M', 0.5716382443388314), '<------>', 'U'),\n",
       "  (('雨杨', 'F', 0.5171689917383303), '<------>', 'M'),\n",
       "  (('必霏', 'F', 0.6319644944483971), '<------>', 'M'),\n",
       "  (('乔', 'M', 0.5002984056611817), '<------>', 'U'),\n",
       "  (('韶华', 'M', 0.6365399569496712), '<------>', 'U'),\n",
       "  (('刀鸾', 'M', 0.6437430130782102), '<------>', 'F'),\n",
       "  (('纯融', 'F', 0.5285534138911746), '<------>', 'M'),\n",
       "  (('榇译', 'M', 0.5846302505197468), '<------>', 'F'),\n",
       "  (('建梅', 'M', 0.5096760450675578), '<------>', 'F'),\n",
       "  (('思宁', 'F', 0.5542480753756921), '<------>', 'M'),\n",
       "  (('奕渝', 'F', 0.7007850699524022), '<------>', 'M'),\n",
       "  (('雷筠', 'F', 0.7311327420073551), '<------>', 'M'),\n",
       "  (('国萌', 'F', 0.7568867258219952), '<------>', 'M'),\n",
       "  (('畏', 'M', 0.8452182081736224), '<------>', 'U')])"
      ]
     },
     "execution_count": 11,
     "metadata": {},
     "output_type": "execute_result"
    }
   ],
   "source": [
    "# corresponding full name model = 0.91423303290497\n",
    "\n",
    "\n",
    "# calculating accuracy of good turing method, incuding all genders\n",
    "accu, mismatch = accuracy(method='gt')\n",
    "# display the accuracy score and some of the mismatched cases\n",
    "accu, mismatch[:20]"
   ]
  },
  {
   "cell_type": "code",
   "execution_count": null,
   "metadata": {},
   "outputs": [],
   "source": []
  },
  {
   "cell_type": "code",
   "execution_count": 12,
   "metadata": {},
   "outputs": [
    {
     "data": {
      "text/plain": [
       "(0.9452818086505438,\n",
       " [('prediction', '<------>', 'observation'),\n",
       "  (('宇烟', 'F', 0.7961985689456496), '<------>', 'M'),\n",
       "  (('佳臻', 'M', 0.6743927726548445), '<------>', 'F'),\n",
       "  (('雁林', 'F', 0.4971546052901239), '<------>', 'M'),\n",
       "  (('雨杨', 'F', 0.5171689917383303), '<------>', 'M'),\n",
       "  (('必霏', 'F', 0.6319644944483971), '<------>', 'M'),\n",
       "  (('刀鸾', 'M', 0.6437430130782102), '<------>', 'F'),\n",
       "  (('纯融', 'F', 0.5285534138911746), '<------>', 'M'),\n",
       "  (('榇译', 'M', 0.5846302505197468), '<------>', 'F'),\n",
       "  (('建梅', 'M', 0.5096760450675578), '<------>', 'F'),\n",
       "  (('思宁', 'F', 0.5542480753756921), '<------>', 'M'),\n",
       "  (('奕渝', 'F', 0.7007850699524022), '<------>', 'M'),\n",
       "  (('雷筠', 'F', 0.7311327420073551), '<------>', 'M'),\n",
       "  (('国萌', 'F', 0.7568867258219952), '<------>', 'M'),\n",
       "  (('云夕', 'F', 0.4833743005472063), '<------>', 'M'),\n",
       "  (('嘉桐', 'F', 0.49647584866570316), '<------>', 'M'),\n",
       "  (('乔楚', 'F', 0.6271522217742468), '<------>', 'M'),\n",
       "  (('寒宫', 'F', 0.5755866213099856), '<------>', 'M'),\n",
       "  (('蕙全', 'F', 0.9578810315828459), '<------>', 'M'),\n",
       "  (('誉晓', 'F', 0.6182474880432586), '<------>', 'M')])"
      ]
     },
     "execution_count": 12,
     "metadata": {},
     "output_type": "execute_result"
    }
   ],
   "source": [
    "# corresponding full name model = 0.9387862515386246\n",
    "\n",
    "# calculating accuracy of good turing method, excluding undefined genders\n",
    "accu, mismatch = accuracy(method='gt', include_U=False)\n",
    "# display the accuracy score and some of the mismatched cases\n",
    "accu, mismatch[:20]"
   ]
  },
  {
   "cell_type": "code",
   "execution_count": null,
   "metadata": {},
   "outputs": [],
   "source": []
  },
  {
   "cell_type": "markdown",
   "metadata": {},
   "source": [
    "## Test again first/full names (randomly)"
   ]
  },
  {
   "cell_type": "code",
   "execution_count": 13,
   "metadata": {},
   "outputs": [
    {
     "data": {
      "text/plain": [
       "(731622, 731622)"
      ]
     },
     "execution_count": 13,
     "metadata": {},
     "output_type": "execute_result"
    }
   ],
   "source": [
    "#loading test file\n",
    "from random import random, seed\n",
    "\n",
    "\n",
    "def test_set(file='data/test_ds.txt', seed_=0):\n",
    "    names, genders = [], []\n",
    "    f = open(file, 'r')\n",
    "    next(f)\n",
    "    seed(seed_)\n",
    "    for line in f:\n",
    "        line = line.split('\\t')\n",
    "        try:\n",
    "            # line[2] = full name; line[1] = first name\n",
    "            name = line[2] if random() >= 0.5 else line[1]\n",
    "            names.append(name)\n",
    "            genders.append(line[3].strip())\n",
    "        except:\n",
    "            pass\n",
    "    return names, genders\n",
    "\n",
    "\n",
    "names, genders = test_set()\n",
    "len(names), len(genders)"
   ]
  },
  {
   "cell_type": "code",
   "execution_count": 14,
   "metadata": {},
   "outputs": [
    {
     "data": {
      "text/plain": [
       "['冯瑞琳',\n",
       " '曹凯棋',\n",
       " '义祥',\n",
       " '识闻',\n",
       " '钮缤鲃',\n",
       " '颖函',\n",
       " '尹唱又',\n",
       " '竺歌',\n",
       " '博辰',\n",
       " '舒梅云',\n",
       " '钱穗君',\n",
       " '张继燕',\n",
       " '维娜',\n",
       " '冯梦饶',\n",
       " '曹瑞鹏',\n",
       " '倩璐',\n",
       " '姚蕴珈',\n",
       " '薛俊英',\n",
       " '李倩雅',\n",
       " '肖井刚']"
      ]
     },
     "execution_count": 14,
     "metadata": {},
     "output_type": "execute_result"
    }
   ],
   "source": [
    "# check the names\n",
    "names[:20]"
   ]
  },
  {
   "cell_type": "markdown",
   "metadata": {},
   "source": [
    "**Repeat the above procedure**"
   ]
  },
  {
   "cell_type": "code",
   "execution_count": 15,
   "metadata": {},
   "outputs": [
    {
     "data": {
      "text/plain": [
       "(0.9238910256935958,\n",
       " [('prediction', '<------>', 'observation'),\n",
       "  (('张继燕', 'M', 0.5078611344330047), '<------>', 'F'),\n",
       "  (('万宇烟', 'F', 0.5654871460207109), '<------>', 'M'),\n",
       "  (('卞佳臻', 'M', 0.5893905285861586), '<------>', 'F'),\n",
       "  (('付睿', 'M', 0.712606419452691), '<------>', 'U'),\n",
       "  (('班柳淳', 'M', 0.5678185646975151), '<------>', 'F'),\n",
       "  (('郭连', 'M', 0.5720968653852523), '<------>', 'U'),\n",
       "  (('丁', 'M', 0.5716382443388314), '<------>', 'U'),\n",
       "  (('贝学敏', 'F', 0.65171017063093), '<------>', 'M'),\n",
       "  (('童雨杨', 'F', 0.5681692397642859), '<------>', 'M'),\n",
       "  (('必霏', 'F', 0.5628201585717663), '<------>', 'M'),\n",
       "  (('乔', 'M', 0.5002984056611817), '<------>', 'U'),\n",
       "  (('闫韶华', 'Undefined', 0.5292034726456268), '<------>', 'U'),\n",
       "  (('纯融', 'F', 0.5276217216421958), '<------>', 'M'),\n",
       "  (('建梅', 'M', 0.5072885264113434), '<------>', 'F'),\n",
       "  (('奚雷筠', 'F', 0.8758288485000173), '<------>', 'M'),\n",
       "  (('连国萌', 'F', 0.6067968034998574), '<------>', 'M'),\n",
       "  (('刘畏', 'M', 0.6206374916510611), '<------>', 'U'),\n",
       "  (('云夕', 'F', 0.47663201243602304), '<------>', 'M'),\n",
       "  (('英', 'F', 0.8478313642984301), '<------>', 'U')])"
      ]
     },
     "execution_count": 15,
     "metadata": {},
     "output_type": "execute_result"
    }
   ],
   "source": [
    "# corresponding full name model = 0.9207117883278524\n",
    "# corresponding first name model = 0.9268215007203173\n",
    "\n",
    "# calculating accuracy of laplace method, incuding all genders\n",
    "accu, mismatch = accuracy()\n",
    "# display the accuracy score and some of the mismatched cases\n",
    "accu, mismatch[:20]"
   ]
  },
  {
   "cell_type": "code",
   "execution_count": null,
   "metadata": {},
   "outputs": [],
   "source": []
  },
  {
   "cell_type": "code",
   "execution_count": 16,
   "metadata": {},
   "outputs": [
    {
     "data": {
      "text/plain": [
       "(0.9487036254696577,\n",
       " [('prediction', '<------>', 'observation'),\n",
       "  (('张继燕', 'M', 0.5078611344330047), '<------>', 'F'),\n",
       "  (('万宇烟', 'F', 0.5654871460207109), '<------>', 'M'),\n",
       "  (('卞佳臻', 'M', 0.5893905285861586), '<------>', 'F'),\n",
       "  (('班柳淳', 'M', 0.5678185646975151), '<------>', 'F'),\n",
       "  (('贝学敏', 'F', 0.65171017063093), '<------>', 'M'),\n",
       "  (('童雨杨', 'F', 0.5681692397642859), '<------>', 'M'),\n",
       "  (('必霏', 'F', 0.5628201585717663), '<------>', 'M'),\n",
       "  (('纯融', 'F', 0.5276217216421958), '<------>', 'M'),\n",
       "  (('建梅', 'M', 0.5072885264113434), '<------>', 'F'),\n",
       "  (('奚雷筠', 'F', 0.8758288485000173), '<------>', 'M'),\n",
       "  (('连国萌', 'F', 0.6067968034998574), '<------>', 'M'),\n",
       "  (('云夕', 'F', 0.47663201243602304), '<------>', 'M'),\n",
       "  (('武亭', 'M', 0.5524695604437723), '<------>', 'F'),\n",
       "  (('王敏利', 'Undefined', 0.5732817087884837), '<------>', 'F'),\n",
       "  (('司空嘉桐', 'F', 0.5071564461314124), '<------>', 'M'),\n",
       "  (('诸乔楚', 'F', 0.5988092872838239), '<------>', 'M'),\n",
       "  (('寒宫', 'F', 0.5741479704400875), '<------>', 'M'),\n",
       "  (('蕙全', 'F', 0.9188883716698855), '<------>', 'M'),\n",
       "  (('琳伟', 'F', 0.7119658359552217), '<------>', 'M')])"
      ]
     },
     "execution_count": 16,
     "metadata": {},
     "output_type": "execute_result"
    }
   ],
   "source": [
    "# corresponding full name model = 0.9454390045011347\n",
    "# corresponding first name model = 0.9517128031809703\n",
    "\n",
    "# calculating accuracy of laplace method, excluding undefined genders\n",
    "accu, mismatch = accuracy(include_U=False)\n",
    "# display the accuracy score and some of the mismatched cases\n",
    "accu, mismatch[:20]"
   ]
  },
  {
   "cell_type": "code",
   "execution_count": null,
   "metadata": {},
   "outputs": [],
   "source": []
  },
  {
   "cell_type": "code",
   "execution_count": 17,
   "metadata": {},
   "outputs": [
    {
     "data": {
      "text/plain": [
       "(0.9174628428341411,\n",
       " [('prediction', '<------>', 'observation'),\n",
       "  (('钱穗君', 'M', 0.423255170201506), '<------>', 'F'),\n",
       "  (('张继燕', 'M', 0.5147383902924803), '<------>', 'F'),\n",
       "  (('万宇烟', 'F', 0.7834142743741946), '<------>', 'M'),\n",
       "  (('卞佳臻', 'M', 0.7434085763069487), '<------>', 'F'),\n",
       "  (('付睿', 'M', 0.712606419452691), '<------>', 'U'),\n",
       "  (('班柳淳', 'M', 0.5680285349769285), '<------>', 'F'),\n",
       "  (('郭连', 'M', 0.5720968653852523), '<------>', 'U'),\n",
       "  (('丁', 'M', 0.5716382443388314), '<------>', 'U'),\n",
       "  (('贝学敏', 'F', 0.6493241711705547), '<------>', 'M'),\n",
       "  (('童雨杨', 'F', 0.5681692397642859), '<------>', 'M'),\n",
       "  (('必霏', 'F', 0.6319644944483971), '<------>', 'M'),\n",
       "  (('乔', 'M', 0.5002984056611817), '<------>', 'U'),\n",
       "  (('邵子奕', 'F', 0.4869604261972831), '<------>', 'M'),\n",
       "  (('闫韶华', 'Undefined', 0.4836621778927178), '<------>', 'U'),\n",
       "  (('刀鸾', 'M', 0.6437430130782102), '<------>', 'F'),\n",
       "  (('纯融', 'F', 0.5285534138911746), '<------>', 'M'),\n",
       "  (('榇译', 'M', 0.5846302505197468), '<------>', 'F'),\n",
       "  (('建梅', 'M', 0.5096760450675578), '<------>', 'F'),\n",
       "  (('钭奕渝', 'F', 0.9298705240593117), '<------>', 'M')])"
      ]
     },
     "execution_count": 17,
     "metadata": {},
     "output_type": "execute_result"
    }
   ],
   "source": [
    "# corresponding full name model = 0.91423303290497\n",
    "# corresponding first name model = 0.91423303290497\n",
    "\n",
    "# calculating accuracy of good turing method, incuding all genders\n",
    "accu, mismatch = accuracy(method='gt')\n",
    "# display the accuracy score and some of the mismatched cases\n",
    "accu, mismatch[:20]"
   ]
  },
  {
   "cell_type": "code",
   "execution_count": null,
   "metadata": {},
   "outputs": [],
   "source": []
  },
  {
   "cell_type": "code",
   "execution_count": 18,
   "metadata": {},
   "outputs": [
    {
     "data": {
      "text/plain": [
       "(0.9421028032792177,\n",
       " [('prediction', '<------>', 'observation'),\n",
       "  (('钱穗君', 'M', 0.423255170201506), '<------>', 'F'),\n",
       "  (('张继燕', 'M', 0.5147383902924803), '<------>', 'F'),\n",
       "  (('万宇烟', 'F', 0.7834142743741946), '<------>', 'M'),\n",
       "  (('卞佳臻', 'M', 0.7434085763069487), '<------>', 'F'),\n",
       "  (('班柳淳', 'M', 0.5680285349769285), '<------>', 'F'),\n",
       "  (('贝学敏', 'F', 0.6493241711705547), '<------>', 'M'),\n",
       "  (('童雨杨', 'F', 0.5681692397642859), '<------>', 'M'),\n",
       "  (('必霏', 'F', 0.6319644944483971), '<------>', 'M'),\n",
       "  (('邵子奕', 'F', 0.4869604261972831), '<------>', 'M'),\n",
       "  (('刀鸾', 'M', 0.6437430130782102), '<------>', 'F'),\n",
       "  (('纯融', 'F', 0.5285534138911746), '<------>', 'M'),\n",
       "  (('榇译', 'M', 0.5846302505197468), '<------>', 'F'),\n",
       "  (('建梅', 'M', 0.5096760450675578), '<------>', 'F'),\n",
       "  (('钭奕渝', 'F', 0.9298705240593117), '<------>', 'M'),\n",
       "  (('奚雷筠', 'F', 0.702070718579464), '<------>', 'M'),\n",
       "  (('连国萌', 'F', 0.7536643578050461), '<------>', 'M'),\n",
       "  (('云夕', 'F', 0.4833743005472063), '<------>', 'M'),\n",
       "  (('武亭', 'M', 0.5610238742348022), '<------>', 'F'),\n",
       "  (('王敏利', 'Undefined', 0.5732817087884837), '<------>', 'F')])"
      ]
     },
     "execution_count": 18,
     "metadata": {},
     "output_type": "execute_result"
    }
   ],
   "source": [
    "# corresponding full name model = 0.9387862515386246\n",
    "# corresponding full name model = 0.9452818086505438\n",
    "\n",
    "# calculating accuracy of good turing method, excluding undefined genders\n",
    "accu, mismatch = accuracy(method='gt', include_U=False)\n",
    "# display the accuracy score and some of the mismatched cases\n",
    "accu, mismatch[:20]"
   ]
  },
  {
   "cell_type": "code",
   "execution_count": null,
   "metadata": {},
   "outputs": [],
   "source": []
  }
 ],
 "metadata": {
  "kernelspec": {
   "display_name": "Python 3",
   "language": "python",
   "name": "python3"
  },
  "language_info": {
   "codemirror_mode": {
    "name": "ipython",
    "version": 3
   },
   "file_extension": ".py",
   "mimetype": "text/x-python",
   "name": "python",
   "nbconvert_exporter": "python",
   "pygments_lexer": "ipython3",
   "version": "3.8.8"
  }
 },
 "nbformat": 4,
 "nbformat_minor": 4
}
