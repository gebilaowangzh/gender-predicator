{
 "cells": [
  {
   "cell_type": "code",
   "execution_count": 2,
   "metadata": {},
   "outputs": [],
   "source": [
    "from gender import Gender"
   ]
  },
  {
   "cell_type": "code",
   "execution_count": 5,
   "metadata": {},
   "outputs": [
    {
     "data": {
      "text/plain": [
       "(2926486, 2926486)"
      ]
     },
     "execution_count": 5,
     "metadata": {},
     "output_type": "execute_result"
    }
   ],
   "source": [
    "#loading test file\n",
    "\n",
    "def test_set(file='data/train_ds.txt', full_name=True):\n",
    "    names, genders = [], []\n",
    "    f = open(file, 'r')\n",
    "    next(f)\n",
    "    for line in f:\n",
    "        line = line.split('\\t')\n",
    "        try:\n",
    "            if full_name:\n",
    "            # line[2] = full name; line[1] = first name\n",
    "                names.append(line[2])\n",
    "            else:\n",
    "                names.append(line[1])\n",
    "            genders.append(line[3].strip())\n",
    "        except:\n",
    "            pass\n",
    "    return names, genders\n",
    "\n",
    "\n",
    "names, genders = test_set()\n",
    "len(names), len(genders)"
   ]
  },
  {
   "cell_type": "code",
   "execution_count": null,
   "metadata": {},
   "outputs": [],
   "source": []
  },
  {
   "cell_type": "code",
   "execution_count": 6,
   "metadata": {},
   "outputs": [],
   "source": [
    "# calculating the prediction accuracy based on full names\n",
    "\n",
    "def accuracy(method='lap', include_U=True):\n",
    "    global names, genders\n",
    "    def comp(idx):\n",
    "        nonlocal right, mismatch\n",
    "        pred = predict(names[idx], method, False)\n",
    "        real = genders[idx]\n",
    "        if pred[1] == real: right += 1\n",
    "        else: mismatch.append((pred, '<------>', genders[idx]))\n",
    "        \n",
    "    right = 0\n",
    "    mismatch = [('prediction', '<------>', 'observation')]\n",
    "    predict = Gender().predict\n",
    "    sample_size = len(names)\n",
    "    if include_U:\n",
    "        for i in range(len(names)):\n",
    "            comp(i)\n",
    "    else:\n",
    "        for i in range(len(names)):\n",
    "            if genders[i] != 'U': comp(i)\n",
    "            else: sample_size -= 1\n",
    "    return right/sample_size, mismatch"
   ]
  },
  {
   "cell_type": "markdown",
   "metadata": {},
   "source": [
    "## Test against full names"
   ]
  },
  {
   "cell_type": "code",
   "execution_count": 7,
   "metadata": {},
   "outputs": [
    {
     "data": {
      "text/plain": [
       "(0.9215458403013034,\n",
       " [('prediction', '<------>', 'observation'),\n",
       "  (('贾晔', 'M', 0.4546601302436152), '<------>', 'U'),\n",
       "  (('秋紫俊', 'F', 0.8512756329381703), '<------>', 'M'),\n",
       "  (('龙佳故', 'M', 0.7136665386852628), '<------>', 'F'),\n",
       "  (('秋梓韦', 'F', 0.7160568037629895), '<------>', 'M'),\n",
       "  (('武美啸', 'M', 0.668072802628452), '<------>', 'F'),\n",
       "  (('林文冰', 'M', 0.5762120990118629), '<------>', 'U'),\n",
       "  (('宗政昕雨', 'M', 0.6794326575095253), '<------>', 'F'),\n",
       "  (('宋文会', 'M', 0.5150897357570818), '<------>', 'U'),\n",
       "  (('吴乐懿', 'M', 0.6433556381141554), '<------>', 'U'),\n",
       "  (('林水荣', 'M', 0.8305495448301012), '<------>', 'U'),\n",
       "  (('张彩龙', 'F', 0.860603117302683), '<------>', 'M'),\n",
       "  (('褚飘庆', 'F', 0.5514829046466325), '<------>', 'M'),\n",
       "  (('沈云华', 'Undefined', 0.42121351926657485), '<------>', 'U'),\n",
       "  (('施正漪', 'F', 0.8391228953945108), '<------>', 'M'),\n",
       "  (('柯逸', 'M', 0.6497824724304226), '<------>', 'U'),\n",
       "  (('终晨云', 'F', 0.5286090793514934), '<------>', 'M'),\n",
       "  (('张晓华', 'Undefined', 0.37755980336332434), '<------>', 'M'),\n",
       "  (('吴宝懿', 'M', 0.7260633763651548), '<------>', 'U'),\n",
       "  (('赵珣', 'M', 0.45478803181414124), '<------>', 'U')])"
      ]
     },
     "execution_count": 7,
     "metadata": {},
     "output_type": "execute_result"
    }
   ],
   "source": [
    "# used to be: 0.9376819161273965 (trained on first names)\n",
    "\n",
    "# calculating accuracy of laplace method, incuding all genders\n",
    "accu, mismatch = accuracy()\n",
    "# display the accuracy score and some of the mismatched cases\n",
    "accu, mismatch[:20]"
   ]
  },
  {
   "cell_type": "code",
   "execution_count": null,
   "metadata": {},
   "outputs": [],
   "source": []
  },
  {
   "cell_type": "code",
   "execution_count": 8,
   "metadata": {},
   "outputs": [
    {
     "data": {
      "text/plain": [
       "(0.9458474321852238,\n",
       " [('prediction', '<------>', 'observation'),\n",
       "  (('秋紫俊', 'F', 0.8512756329381703), '<------>', 'M'),\n",
       "  (('龙佳故', 'M', 0.7136665386852628), '<------>', 'F'),\n",
       "  (('秋梓韦', 'F', 0.7160568037629895), '<------>', 'M'),\n",
       "  (('武美啸', 'M', 0.668072802628452), '<------>', 'F'),\n",
       "  (('宗政昕雨', 'M', 0.6794326575095253), '<------>', 'F'),\n",
       "  (('张彩龙', 'F', 0.860603117302683), '<------>', 'M'),\n",
       "  (('褚飘庆', 'F', 0.5514829046466325), '<------>', 'M'),\n",
       "  (('施正漪', 'F', 0.8391228953945108), '<------>', 'M'),\n",
       "  (('终晨云', 'F', 0.5286090793514934), '<------>', 'M'),\n",
       "  (('张晓华', 'Undefined', 0.37755980336332434), '<------>', 'M'),\n",
       "  (('杜双牛', 'F', 0.5205007353662746), '<------>', 'M'),\n",
       "  (('管张昕', 'F', 0.5178091801115307), '<------>', 'M'),\n",
       "  (('宣梅洛', 'M', 0.4985268723767959), '<------>', 'F'),\n",
       "  (('贾渝', 'F', 0.48950912214901354), '<------>', 'M'),\n",
       "  (('段常桃', 'F', 0.9009072263127853), '<------>', 'M'),\n",
       "  (('童惠康', 'F', 0.6093925030797841), '<------>', 'M'),\n",
       "  (('吉栩缘', 'M', 0.540256160127426), '<------>', 'F'),\n",
       "  (('陶甄', 'M', 0.5585559470337412), '<------>', 'F'),\n",
       "  (('李旭彤', 'M', 0.6347591291660454), '<------>', 'F')])"
      ]
     },
     "execution_count": 8,
     "metadata": {},
     "output_type": "execute_result"
    }
   ],
   "source": [
    "# used to be: 0.9624090238263583 (trained on first names)\n",
    "\n",
    "\n",
    "# calculating accuracy of laplace method, excluding undefined genders\n",
    "accu, mismatch = accuracy(include_U=False)\n",
    "# display the accuracy score and some of the mismatched cases\n",
    "accu, mismatch[:20]"
   ]
  },
  {
   "cell_type": "code",
   "execution_count": null,
   "metadata": {},
   "outputs": [],
   "source": []
  },
  {
   "cell_type": "code",
   "execution_count": 9,
   "metadata": {},
   "outputs": [
    {
     "data": {
      "text/plain": [
       "(0.9151244871836052,\n",
       " [('prediction', '<------>', 'observation'),\n",
       "  (('贾晔', 'M', 0.47207307980209945), '<------>', 'U'),\n",
       "  (('秋紫俊', 'F', 0.8578453184585856), '<------>', 'M'),\n",
       "  (('龙佳故', 'M', 0.7140053562774935), '<------>', 'F'),\n",
       "  (('秋梓韦', 'F', 0.701974668967396), '<------>', 'M'),\n",
       "  (('武美啸', 'M', 0.7641275497378598), '<------>', 'F'),\n",
       "  (('林文冰', 'M', 0.5762120990118629), '<------>', 'U'),\n",
       "  (('宗政昕雨', 'M', 0.6795978912161872), '<------>', 'F'),\n",
       "  (('宋文会', 'M', 0.5891783319018747), '<------>', 'U'),\n",
       "  (('吴乐懿', 'M', 0.5365596372679009), '<------>', 'U'),\n",
       "  (('林水荣', 'M', 0.8785838558245513), '<------>', 'U'),\n",
       "  (('张彩龙', 'F', 0.9152253093263174), '<------>', 'M'),\n",
       "  (('沈云华', 'Undefined', 0.42121351926657485), '<------>', 'U'),\n",
       "  (('施正漪', 'F', 0.8099878875360775), '<------>', 'M'),\n",
       "  (('柯逸', 'M', 0.6497824724304226), '<------>', 'U'),\n",
       "  (('终晨云', 'F', 0.5302550721503329), '<------>', 'M'),\n",
       "  (('张晓华', 'Undefined', 0.37755980336332434), '<------>', 'M'),\n",
       "  (('吴宝懿', 'M', 0.6790541556372396), '<------>', 'U'),\n",
       "  (('赵珣', 'M', 0.8578608913421012), '<------>', 'U'),\n",
       "  (('杜双牛', 'F', 0.7890575652920022), '<------>', 'M')])"
      ]
     },
     "execution_count": 9,
     "metadata": {},
     "output_type": "execute_result"
    }
   ],
   "source": [
    "# used to be: 0.9307989171996722 (trained on first names)\n",
    "\n",
    "# calculating accuracy of good turing method, incuding all genders\n",
    "accu, mismatch = accuracy(method='gt')\n",
    "# display the accuracy score and some of the mismatched cases\n",
    "accu, mismatch[:20]"
   ]
  },
  {
   "cell_type": "code",
   "execution_count": null,
   "metadata": {},
   "outputs": [],
   "source": []
  },
  {
   "cell_type": "code",
   "execution_count": 10,
   "metadata": {},
   "outputs": [
    {
     "data": {
      "text/plain": [
       "(0.9392567450029741,\n",
       " [('prediction', '<------>', 'observation'),\n",
       "  (('秋紫俊', 'F', 0.8578453184585856), '<------>', 'M'),\n",
       "  (('龙佳故', 'M', 0.7140053562774935), '<------>', 'F'),\n",
       "  (('秋梓韦', 'F', 0.701974668967396), '<------>', 'M'),\n",
       "  (('武美啸', 'M', 0.7641275497378598), '<------>', 'F'),\n",
       "  (('宗政昕雨', 'M', 0.6795978912161872), '<------>', 'F'),\n",
       "  (('张彩龙', 'F', 0.9152253093263174), '<------>', 'M'),\n",
       "  (('施正漪', 'F', 0.8099878875360775), '<------>', 'M'),\n",
       "  (('终晨云', 'F', 0.5302550721503329), '<------>', 'M'),\n",
       "  (('张晓华', 'Undefined', 0.37755980336332434), '<------>', 'M'),\n",
       "  (('杜双牛', 'F', 0.7890575652920022), '<------>', 'M'),\n",
       "  (('艾言卓', 'F', 0.5506519371339863), '<------>', 'M'),\n",
       "  (('苏延英', 'M', 0.5724355165307365), '<------>', 'F'),\n",
       "  (('管张昕', 'F', 0.5242192867689974), '<------>', 'M'),\n",
       "  (('宣梅洛', 'M', 0.6684448412993985), '<------>', 'F'),\n",
       "  (('贾渝', 'F', 0.634068020889269), '<------>', 'M'),\n",
       "  (('刘开银', 'Undefined', 0.5158348406309246), '<------>', 'M'),\n",
       "  (('段常桃', 'F', 0.9220489618282821), '<------>', 'M'),\n",
       "  (('童惠康', 'F', 0.6093925030797841), '<------>', 'M'),\n",
       "  (('余舁', 'F', 0.5048201735041407), '<------>', 'M')])"
      ]
     },
     "execution_count": 10,
     "metadata": {},
     "output_type": "execute_result"
    }
   ],
   "source": [
    "# used to be: 0.955344517019629 (trained on first names)\n",
    "\n",
    "\n",
    "# calculating accuracy of good turing method, excluding undefined genders\n",
    "accu, mismatch = accuracy(method='gt', include_U=False)\n",
    "# display the accuracy score and some of the mismatched cases\n",
    "accu, mismatch[:20]"
   ]
  },
  {
   "cell_type": "code",
   "execution_count": null,
   "metadata": {},
   "outputs": [],
   "source": []
  },
  {
   "cell_type": "markdown",
   "metadata": {},
   "source": [
    "## Test against first names"
   ]
  },
  {
   "cell_type": "code",
   "execution_count": 11,
   "metadata": {},
   "outputs": [
    {
     "data": {
      "text/plain": [
       "(2926486, 2926486)"
      ]
     },
     "execution_count": 11,
     "metadata": {},
     "output_type": "execute_result"
    }
   ],
   "source": [
    "# load names as first names\n",
    "\n",
    "names, genders = test_set(full_name=False)\n",
    "len(names), len(genders)"
   ]
  },
  {
   "cell_type": "markdown",
   "metadata": {},
   "source": [
    "**Repeat the above procedure**"
   ]
  },
  {
   "cell_type": "code",
   "execution_count": 12,
   "metadata": {},
   "outputs": [
    {
     "data": {
      "text/plain": [
       "(0.9275732055441236,\n",
       " [('prediction', '<------>', 'observation'),\n",
       "  (('晔', 'M', 0.4950549450549451), '<------>', 'U'),\n",
       "  (('紫俊', 'F', 0.6175998693364315), '<------>', 'M'),\n",
       "  (('苗利', 'M', 0.5268162080307993), '<------>', 'F'),\n",
       "  (('美啸', 'M', 0.519869246877209), '<------>', 'F'),\n",
       "  (('文冰', 'F', 0.5685733266670566), '<------>', 'U'),\n",
       "  (('文会', 'M', 0.5771220367641605), '<------>', 'U'),\n",
       "  (('乐懿', 'M', 0.5866904905513335), '<------>', 'U'),\n",
       "  (('水荣', 'M', 0.7923328078359019), '<------>', 'U'),\n",
       "  (('彩龙', 'F', 0.9223403527728181), '<------>', 'M'),\n",
       "  (('飘庆', 'F', 0.6298894839499904), '<------>', 'M'),\n",
       "  (('云华', 'M', 0.40363836858975277), '<------>', 'U'),\n",
       "  (('正漪', 'F', 0.7966481158268162), '<------>', 'M'),\n",
       "  (('晗', 'F', 0.6603485838779957), '<------>', 'M'),\n",
       "  (('逸', 'M', 0.670886075949367), '<------>', 'U'),\n",
       "  (('晓华', 'F', 0.4251820912758842), '<------>', 'M'),\n",
       "  (('宝懿', 'M', 0.681438008815287), '<------>', 'U'),\n",
       "  (('珣', 'M', 0.46268656716417905), '<------>', 'U'),\n",
       "  (('双牛', 'F', 0.5131437435925642), '<------>', 'M'),\n",
       "  (('俊华', 'M', 0.8143772657283123), '<------>', 'U')])"
      ]
     },
     "execution_count": 12,
     "metadata": {},
     "output_type": "execute_result"
    }
   ],
   "source": [
    "# corresponding full name model = 0.9215458403013034\n",
    "\n",
    "# calculating accuracy of laplace method, incuding all genders\n",
    "accu, mismatch = accuracy()\n",
    "# display the accuracy score and some of the mismatched cases\n",
    "accu, mismatch[:20]"
   ]
  },
  {
   "cell_type": "code",
   "execution_count": null,
   "metadata": {},
   "outputs": [],
   "source": []
  },
  {
   "cell_type": "code",
   "execution_count": 13,
   "metadata": {},
   "outputs": [
    {
     "data": {
      "text/plain": [
       "(0.9520337418493204,\n",
       " [('prediction', '<------>', 'observation'),\n",
       "  (('紫俊', 'F', 0.6175998693364315), '<------>', 'M'),\n",
       "  (('苗利', 'M', 0.5268162080307993), '<------>', 'F'),\n",
       "  (('美啸', 'M', 0.519869246877209), '<------>', 'F'),\n",
       "  (('彩龙', 'F', 0.9223403527728181), '<------>', 'M'),\n",
       "  (('飘庆', 'F', 0.6298894839499904), '<------>', 'M'),\n",
       "  (('正漪', 'F', 0.7966481158268162), '<------>', 'M'),\n",
       "  (('晗', 'F', 0.6603485838779957), '<------>', 'M'),\n",
       "  (('晓华', 'F', 0.4251820912758842), '<------>', 'M'),\n",
       "  (('双牛', 'F', 0.5131437435925642), '<------>', 'M'),\n",
       "  (('郡', 'F', 0.5093457943925234), '<------>', 'M'),\n",
       "  (('常桃', 'F', 0.8813617711797624), '<------>', 'M'),\n",
       "  (('惠康', 'F', 0.5564281097428122), '<------>', 'M'),\n",
       "  (('甄', 'M', 0.5958646616541353), '<------>', 'F'),\n",
       "  (('德慧', 'F', 0.5584241201888566), '<------>', 'M'),\n",
       "  (('旭彤', 'M', 0.545674157283253), '<------>', 'F'),\n",
       "  (('海云', 'M', 0.5830677865816226), '<------>', 'F'),\n",
       "  (('越M', 'Undefined', 0.5035468306257752), '<------>', 'F'),\n",
       "  (('政芝', 'F', 0.8846174737851787), '<------>', 'M'),\n",
       "  (('贺云', 'F', 0.4822372762115324), '<------>', 'M')])"
      ]
     },
     "execution_count": 13,
     "metadata": {},
     "output_type": "execute_result"
    }
   ],
   "source": [
    "# corresponding full name model = 0.9458474321852238\n",
    "\n",
    "# calculating accuracy of laplace method, excluding undefined genders\n",
    "accu, mismatch = accuracy(include_U=False)\n",
    "# display the accuracy score and some of the mismatched cases\n",
    "accu, mismatch[:20]"
   ]
  },
  {
   "cell_type": "code",
   "execution_count": null,
   "metadata": {},
   "outputs": [],
   "source": []
  },
  {
   "cell_type": "code",
   "execution_count": 14,
   "metadata": {},
   "outputs": [
    {
     "data": {
      "text/plain": [
       "(0.9215161118146473,\n",
       " [('prediction', '<------>', 'observation'),\n",
       "  (('晔', 'M', 0.5103851963746224), '<------>', 'U'),\n",
       "  (('紫俊', 'F', 0.6211621635124988), '<------>', 'M'),\n",
       "  (('苗利', 'M', 0.5268162080307993), '<------>', 'F'),\n",
       "  (('美啸', 'M', 0.6311135367208957), '<------>', 'F'),\n",
       "  (('文冰', 'F', 0.5685733266670566), '<------>', 'U'),\n",
       "  (('文会', 'M', 0.6233459358239801), '<------>', 'U'),\n",
       "  (('乐懿', 'M', 0.5377679028058944), '<------>', 'U'),\n",
       "  (('水荣', 'M', 0.8225446435665559), '<------>', 'U'),\n",
       "  (('彩龙', 'F', 0.9546295997098532), '<------>', 'M'),\n",
       "  (('云华', 'M', 0.40363836858975277), '<------>', 'U'),\n",
       "  (('正漪', 'F', 0.7621902457721877), '<------>', 'M'),\n",
       "  (('晗', 'F', 0.6625136612021859), '<------>', 'M'),\n",
       "  (('逸', 'M', 0.670886075949367), '<------>', 'U'),\n",
       "  (('晓华', 'F', 0.4251820912758842), '<------>', 'M'),\n",
       "  (('宝懿', 'M', 0.6599468880713907), '<------>', 'U'),\n",
       "  (('珣', 'M', 0.8925449871465295), '<------>', 'U'),\n",
       "  (('双牛', 'F', 0.7765918294909528), '<------>', 'M'),\n",
       "  (('延英', 'M', 0.6548038744901545), '<------>', 'F'),\n",
       "  (('俊华', 'M', 0.8558486387330402), '<------>', 'U')])"
      ]
     },
     "execution_count": 14,
     "metadata": {},
     "output_type": "execute_result"
    }
   ],
   "source": [
    "# corresponding full name model = 0.9151244871836052\n",
    "\n",
    "\n",
    "# calculating accuracy of good turing method, incuding all genders\n",
    "accu, mismatch = accuracy(method='gt')\n",
    "# display the accuracy score and some of the mismatched cases\n",
    "accu, mismatch[:20]"
   ]
  },
  {
   "cell_type": "code",
   "execution_count": null,
   "metadata": {},
   "outputs": [],
   "source": []
  },
  {
   "cell_type": "code",
   "execution_count": 15,
   "metadata": {},
   "outputs": [
    {
     "data": {
      "text/plain": [
       "(0.9458169197445653,\n",
       " [('prediction', '<------>', 'observation'),\n",
       "  (('紫俊', 'F', 0.6211621635124988), '<------>', 'M'),\n",
       "  (('苗利', 'M', 0.5268162080307993), '<------>', 'F'),\n",
       "  (('美啸', 'M', 0.6311135367208957), '<------>', 'F'),\n",
       "  (('彩龙', 'F', 0.9546295997098532), '<------>', 'M'),\n",
       "  (('正漪', 'F', 0.7621902457721877), '<------>', 'M'),\n",
       "  (('晗', 'F', 0.6625136612021859), '<------>', 'M'),\n",
       "  (('晓华', 'F', 0.4251820912758842), '<------>', 'M'),\n",
       "  (('双牛', 'F', 0.7765918294909528), '<------>', 'M'),\n",
       "  (('延英', 'M', 0.6548038744901545), '<------>', 'F'),\n",
       "  (('梅洛', 'M', 0.5057444111321117), '<------>', 'F'),\n",
       "  (('渝', 'F', 0.6148485660680784), '<------>', 'M'),\n",
       "  (('郡', 'F', 0.5170777988614802), '<------>', 'M'),\n",
       "  (('常桃', 'F', 0.9060803357957307), '<------>', 'M'),\n",
       "  (('惠康', 'F', 0.5564281097428122), '<------>', 'M'),\n",
       "  (('舁', 'F', 0.5317332881999894), '<------>', 'M'),\n",
       "  (('甄', 'M', 0.5995053826011055), '<------>', 'F'),\n",
       "  (('德慧', 'F', 0.5584241201888566), '<------>', 'M'),\n",
       "  (('旭彤', 'M', 0.546298123076852), '<------>', 'F'),\n",
       "  (('海云', 'M', 0.5830677865816226), '<------>', 'F')])"
      ]
     },
     "execution_count": 15,
     "metadata": {},
     "output_type": "execute_result"
    }
   ],
   "source": [
    "# corresponding full name model = 0.9392567450029741\n",
    "\n",
    "# calculating accuracy of good turing method, excluding undefined genders\n",
    "accu, mismatch = accuracy(method='gt', include_U=False)\n",
    "# display the accuracy score and some of the mismatched cases\n",
    "accu, mismatch[:20]"
   ]
  },
  {
   "cell_type": "code",
   "execution_count": null,
   "metadata": {},
   "outputs": [],
   "source": []
  },
  {
   "cell_type": "markdown",
   "metadata": {},
   "source": [
    "## Test again first/full names (randomly)"
   ]
  },
  {
   "cell_type": "code",
   "execution_count": 26,
   "metadata": {},
   "outputs": [
    {
     "data": {
      "text/plain": [
       "(2926486, 2926486)"
      ]
     },
     "execution_count": 26,
     "metadata": {},
     "output_type": "execute_result"
    }
   ],
   "source": [
    "#loading test file\n",
    "from random import random, seed\n",
    "\n",
    "\n",
    "def test_set(file='data/train_ds.txt', seed_=0):\n",
    "    names, genders = [], []\n",
    "    f = open(file, 'r')\n",
    "    next(f)\n",
    "    seed(seed_)\n",
    "    for line in f:\n",
    "        line = line.split('\\t')\n",
    "        try:\n",
    "            # line[2] = full name; line[1] = first name\n",
    "            name = line[2] if random() >= 0.5 else line[1]\n",
    "            names.append(name)\n",
    "            genders.append(line[3].strip())\n",
    "        except:\n",
    "            pass\n",
    "    return names, genders\n",
    "\n",
    "\n",
    "names, genders = test_set()\n",
    "len(names), len(genders)"
   ]
  },
  {
   "cell_type": "code",
   "execution_count": 27,
   "metadata": {},
   "outputs": [
    {
     "data": {
      "text/plain": [
       "['阎莹暂',\n",
       " '吕荣辉',\n",
       " '泽彬',\n",
       " '二庄',\n",
       " '华治权',\n",
       " '哧天',\n",
       " '荣彦成',\n",
       " '其荷',\n",
       " '志峰',\n",
       " '王治诚',\n",
       " '贾晔',\n",
       " '秋紫俊',\n",
       " '絮雨',\n",
       " '黄洪君',\n",
       " '戴世荣',\n",
       " '佳讯',\n",
       " '翟谨德',\n",
       " '蒋会川',\n",
       " '阮彦嘉',\n",
       " '耿艺贤']"
      ]
     },
     "execution_count": 27,
     "metadata": {},
     "output_type": "execute_result"
    }
   ],
   "source": [
    "# check the names\n",
    "names[:20]"
   ]
  },
  {
   "cell_type": "markdown",
   "metadata": {},
   "source": [
    "**Repeat the above procedure**"
   ]
  },
  {
   "cell_type": "code",
   "execution_count": 28,
   "metadata": {},
   "outputs": [
    {
     "data": {
      "text/plain": [
       "(0.9245603771895714,\n",
       " [('prediction', '<------>', 'observation'),\n",
       "  (('贾晔', 'M', 0.4546601302436152), '<------>', 'U'),\n",
       "  (('秋紫俊', 'F', 0.8512756329381703), '<------>', 'M'),\n",
       "  (('龙佳故', 'M', 0.7136665386852628), '<------>', 'F'),\n",
       "  (('秋梓韦', 'F', 0.7160568037629895), '<------>', 'M'),\n",
       "  (('美啸', 'M', 0.519869246877209), '<------>', 'F'),\n",
       "  (('林文冰', 'M', 0.5762120990118629), '<------>', 'U'),\n",
       "  (('宗政昕雨', 'M', 0.6794326575095253), '<------>', 'F'),\n",
       "  (('宋文会', 'M', 0.5150897357570818), '<------>', 'U'),\n",
       "  (('乐懿', 'M', 0.5866904905513335), '<------>', 'U'),\n",
       "  (('林水荣', 'M', 0.8305495448301012), '<------>', 'U'),\n",
       "  (('张彩龙', 'F', 0.860603117302683), '<------>', 'M'),\n",
       "  (('飘庆', 'F', 0.6298894839499904), '<------>', 'M'),\n",
       "  (('云华', 'M', 0.40363836858975277), '<------>', 'U'),\n",
       "  (('正漪', 'F', 0.7966481158268162), '<------>', 'M'),\n",
       "  (('逸', 'M', 0.670886075949367), '<------>', 'U'),\n",
       "  (('终晨云', 'F', 0.5286090793514934), '<------>', 'M'),\n",
       "  (('晓华', 'F', 0.4251820912758842), '<------>', 'M'),\n",
       "  (('吴宝懿', 'M', 0.7260633763651548), '<------>', 'U'),\n",
       "  (('珣', 'M', 0.46268656716417905), '<------>', 'U')])"
      ]
     },
     "execution_count": 28,
     "metadata": {},
     "output_type": "execute_result"
    }
   ],
   "source": [
    "# corresponding full name model = 0.9215458403013034\n",
    "# corresponding first name model = 0.9275732055441236\n",
    "\n",
    "# calculating accuracy of laplace method, incuding all genders\n",
    "accu, mismatch = accuracy()\n",
    "# display the accuracy score and some of the mismatched cases\n",
    "accu, mismatch[:20]"
   ]
  },
  {
   "cell_type": "code",
   "execution_count": null,
   "metadata": {},
   "outputs": [],
   "source": []
  },
  {
   "cell_type": "code",
   "execution_count": 29,
   "metadata": {},
   "outputs": [
    {
     "data": {
      "text/plain": [
       "(0.948941463811544,\n",
       " [('prediction', '<------>', 'observation'),\n",
       "  (('秋紫俊', 'F', 0.8512756329381703), '<------>', 'M'),\n",
       "  (('龙佳故', 'M', 0.7136665386852628), '<------>', 'F'),\n",
       "  (('秋梓韦', 'F', 0.7160568037629895), '<------>', 'M'),\n",
       "  (('美啸', 'M', 0.519869246877209), '<------>', 'F'),\n",
       "  (('宗政昕雨', 'M', 0.6794326575095253), '<------>', 'F'),\n",
       "  (('张彩龙', 'F', 0.860603117302683), '<------>', 'M'),\n",
       "  (('飘庆', 'F', 0.6298894839499904), '<------>', 'M'),\n",
       "  (('正漪', 'F', 0.7966481158268162), '<------>', 'M'),\n",
       "  (('终晨云', 'F', 0.5286090793514934), '<------>', 'M'),\n",
       "  (('晓华', 'F', 0.4251820912758842), '<------>', 'M'),\n",
       "  (('杜双牛', 'F', 0.5205007353662746), '<------>', 'M'),\n",
       "  (('管张昕', 'F', 0.5178091801115307), '<------>', 'M'),\n",
       "  (('宣梅洛', 'M', 0.4985268723767959), '<------>', 'F'),\n",
       "  (('贾渝', 'F', 0.48950912214901354), '<------>', 'M'),\n",
       "  (('段常桃', 'F', 0.9009072263127853), '<------>', 'M'),\n",
       "  (('惠康', 'F', 0.5564281097428122), '<------>', 'M'),\n",
       "  (('吉栩缘', 'M', 0.540256160127426), '<------>', 'F'),\n",
       "  (('陶甄', 'M', 0.5585559470337412), '<------>', 'F'),\n",
       "  (('德慧', 'F', 0.5584241201888566), '<------>', 'M')])"
      ]
     },
     "execution_count": 29,
     "metadata": {},
     "output_type": "execute_result"
    }
   ],
   "source": [
    "# corresponding full name model = 0.9151244871836052\n",
    "# corresponding first name model = 0.9215161118146473\n",
    "\n",
    "# calculating accuracy of laplace method, excluding undefined genders\n",
    "accu, mismatch = accuracy(include_U=False)\n",
    "# display the accuracy score and some of the mismatched cases\n",
    "accu, mismatch[:20]"
   ]
  },
  {
   "cell_type": "code",
   "execution_count": null,
   "metadata": {},
   "outputs": [],
   "source": []
  },
  {
   "cell_type": "code",
   "execution_count": 30,
   "metadata": {},
   "outputs": [
    {
     "data": {
      "text/plain": [
       "(0.918318761818782,\n",
       " [('prediction', '<------>', 'observation'),\n",
       "  (('贾晔', 'M', 0.47207307980209945), '<------>', 'U'),\n",
       "  (('秋紫俊', 'F', 0.8578453184585856), '<------>', 'M'),\n",
       "  (('龙佳故', 'M', 0.7140053562774935), '<------>', 'F'),\n",
       "  (('秋梓韦', 'F', 0.701974668967396), '<------>', 'M'),\n",
       "  (('美啸', 'M', 0.6311135367208957), '<------>', 'F'),\n",
       "  (('林文冰', 'M', 0.5762120990118629), '<------>', 'U'),\n",
       "  (('宗政昕雨', 'M', 0.6795978912161872), '<------>', 'F'),\n",
       "  (('宋文会', 'M', 0.5891783319018747), '<------>', 'U'),\n",
       "  (('乐懿', 'M', 0.5377679028058944), '<------>', 'U'),\n",
       "  (('林水荣', 'M', 0.8785838558245513), '<------>', 'U'),\n",
       "  (('张彩龙', 'F', 0.9152253093263174), '<------>', 'M'),\n",
       "  (('云华', 'M', 0.40363836858975277), '<------>', 'U'),\n",
       "  (('正漪', 'F', 0.7621902457721877), '<------>', 'M'),\n",
       "  (('逸', 'M', 0.670886075949367), '<------>', 'U'),\n",
       "  (('终晨云', 'F', 0.5302550721503329), '<------>', 'M'),\n",
       "  (('晓华', 'F', 0.4251820912758842), '<------>', 'M'),\n",
       "  (('吴宝懿', 'M', 0.6790541556372396), '<------>', 'U'),\n",
       "  (('珣', 'M', 0.8925449871465295), '<------>', 'U'),\n",
       "  (('杜双牛', 'F', 0.7890575652920022), '<------>', 'M')])"
      ]
     },
     "execution_count": 30,
     "metadata": {},
     "output_type": "execute_result"
    }
   ],
   "source": [
    "# corresponding full name model = 0.9151244871836052\n",
    "# corresponding first name model = 0.9215161118146473\n",
    "\n",
    "# calculating accuracy of good turing method, incuding all genders\n",
    "accu, mismatch = accuracy(method='gt')\n",
    "# display the accuracy score and some of the mismatched cases\n",
    "accu, mismatch[:20]"
   ]
  },
  {
   "cell_type": "code",
   "execution_count": null,
   "metadata": {},
   "outputs": [],
   "source": []
  },
  {
   "cell_type": "code",
   "execution_count": 31,
   "metadata": {},
   "outputs": [
    {
     "data": {
      "text/plain": [
       "(0.9425352541440805,\n",
       " [('prediction', '<------>', 'observation'),\n",
       "  (('秋紫俊', 'F', 0.8578453184585856), '<------>', 'M'),\n",
       "  (('龙佳故', 'M', 0.7140053562774935), '<------>', 'F'),\n",
       "  (('秋梓韦', 'F', 0.701974668967396), '<------>', 'M'),\n",
       "  (('美啸', 'M', 0.6311135367208957), '<------>', 'F'),\n",
       "  (('宗政昕雨', 'M', 0.6795978912161872), '<------>', 'F'),\n",
       "  (('张彩龙', 'F', 0.9152253093263174), '<------>', 'M'),\n",
       "  (('正漪', 'F', 0.7621902457721877), '<------>', 'M'),\n",
       "  (('终晨云', 'F', 0.5302550721503329), '<------>', 'M'),\n",
       "  (('晓华', 'F', 0.4251820912758842), '<------>', 'M'),\n",
       "  (('杜双牛', 'F', 0.7890575652920022), '<------>', 'M'),\n",
       "  (('艾言卓', 'F', 0.5506519371339863), '<------>', 'M'),\n",
       "  (('延英', 'M', 0.6548038744901545), '<------>', 'F'),\n",
       "  (('管张昕', 'F', 0.5242192867689974), '<------>', 'M'),\n",
       "  (('宣梅洛', 'M', 0.6684448412993985), '<------>', 'F'),\n",
       "  (('贾渝', 'F', 0.634068020889269), '<------>', 'M'),\n",
       "  (('刘开银', 'Undefined', 0.5158348406309246), '<------>', 'M'),\n",
       "  (('段常桃', 'F', 0.9220489618282821), '<------>', 'M'),\n",
       "  (('惠康', 'F', 0.5564281097428122), '<------>', 'M'),\n",
       "  (('舁', 'F', 0.5317332881999894), '<------>', 'M')])"
      ]
     },
     "execution_count": 31,
     "metadata": {},
     "output_type": "execute_result"
    }
   ],
   "source": [
    "# corresponding full name model = 0.9392567450029741\n",
    "# corresponding full name model = 0.9458169197445653\n",
    "\n",
    "# calculating accuracy of good turing method, excluding undefined genders\n",
    "accu, mismatch = accuracy(method='gt', include_U=False)\n",
    "# display the accuracy score and some of the mismatched cases\n",
    "accu, mismatch[:20]"
   ]
  },
  {
   "cell_type": "code",
   "execution_count": null,
   "metadata": {},
   "outputs": [],
   "source": []
  }
 ],
 "metadata": {
  "kernelspec": {
   "display_name": "Python 3",
   "language": "python",
   "name": "python3"
  },
  "language_info": {
   "codemirror_mode": {
    "name": "ipython",
    "version": 3
   },
   "file_extension": ".py",
   "mimetype": "text/x-python",
   "name": "python",
   "nbconvert_exporter": "python",
   "pygments_lexer": "ipython3",
   "version": "3.8.8"
  }
 },
 "nbformat": 4,
 "nbformat_minor": 4
}
