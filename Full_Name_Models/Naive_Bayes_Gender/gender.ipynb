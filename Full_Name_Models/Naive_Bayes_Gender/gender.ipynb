{
 "cells": [
  {
   "cell_type": "code",
   "execution_count": 1,
   "metadata": {},
   "outputs": [],
   "source": [
    "import json\n",
    "from collections import defaultdict, Counter"
   ]
  },
  {
   "cell_type": "code",
   "execution_count": 2,
   "metadata": {},
   "outputs": [],
   "source": [
    "class Gender:\n",
    "    '''Predict the gender(s) of (a) given name(s) in Chinese.\n",
    "    \n",
    "    Basic usage:\n",
    "    =================================\n",
    "    name = a name or a list of names\n",
    "    gender = Gender()\n",
    "    gender.predict(name)\n",
    "    =================================\n",
    "    \n",
    "    Gender().predict()\n",
    "    =================================\n",
    "    Paras:\n",
    "        name: str or list\n",
    "        method: \"lap\" or \"gt\", defaults to \"lap\"\n",
    "            lap --> adjusts the training set by laplace smoothing\n",
    "            gt --> adjusts the training set by Good Turing smoothing\n",
    "        show_all: bool, defaults to True\n",
    "            True --> Returns the probablities for all genders (M, F, U)\n",
    "            False --> Returns the predicted gender with optimal probablity\n",
    "    =================================\n",
    "    \n",
    "    Notes:\n",
    "    =================================\n",
    "    The two smoothing methods assume unseen characters to add. The training set contains \n",
    "    about 5000 unique characters for M and F and the default number of unseen characters\n",
    "    is set to be 5000, although it turns out to be very insignificant. \n",
    "    \n",
    "    To reset this number, when calling the Gender class, make gender=Gender(your_num).\n",
    "    '''\n",
    "    def __init__(self, num_unseen_chars=5000):\n",
    "        # num of unseen chars for Chinese names\n",
    "        self._unseen = num_unseen_chars\n",
    "        self.name = 'You have not entered a name yet'\n",
    "        # loading the unsmoothed training set\n",
    "        self.genderDict = self._loadDict()\n",
    "        # laplace-adjusted genderDict\n",
    "        self._lapDict = self._laplace()\n",
    "        # frequency-based good-turing dict\n",
    "        self._gtDict = self._goodTuring()\n",
    "        \n",
    "    def _loadDict(self):\n",
    "        genderDict = json.load(open('data/dict4Gender.json', 'r'))\n",
    "        genderDict = {k: Counter(v) for k, v in genderDict.items()}\n",
    "        return defaultdict(Counter, genderDict)\n",
    "        \n",
    "    \n",
    "    def _laplace(self):\n",
    "        '''Converts the dict into one suitable for laplace smoothing.\n",
    "        '''\n",
    "        lapDict = self.genderDict.copy()\n",
    "        total = lapDict.pop('total')\n",
    "        # number of unique chars used for each gender\n",
    "        distinct = Counter([gender for v in lapDict.values() for gender in v.keys()])\n",
    "        for g in ['M', 'F', 'U']:\n",
    "            # add the estimated unseen chars (suppose 5000) to each \n",
    "            # gender category both in terms of distinct chars and total chars\n",
    "            distinct[g] += self._unseen\n",
    "            total[g] += distinct[g]\n",
    "        lapDict['total'] = total\n",
    "        return lapDict\n",
    "        \n",
    "    def _goodTuring(self):\n",
    "        '''Rerturns a dict that contains the occurences info for each freq category\n",
    "        '''\n",
    "        genDict = self.genderDict.copy()\n",
    "        total = genDict.pop('total')\n",
    "        gtDict = defaultdict(Counter, {0: {'M': self._unseen, 'F': self._unseen, 'U': self._unseen}})\n",
    "        for V in genDict.values():\n",
    "            for k, v in V.items():\n",
    "                gtDict[v][k] += 1\n",
    "        return gtDict\n",
    "        \n",
    "    \n",
    "    def _naiveBayesP(self, name, gender, method='lap'):\n",
    "        '''Returns the naive bayes probablity of a given gender for a given name.\n",
    "        '''\n",
    "        def getNr(r):\n",
    "            idx = 0\n",
    "            Nr = self._gtDict[r][gender]\n",
    "            while not Nr:\n",
    "                Nr = self._gtDict[r-idx][gender]\n",
    "                idx += 1\n",
    "            \n",
    "            return Nr\n",
    "        \n",
    "        if method == 'lap':\n",
    "            total_char = sum(self._lapDict['total'].values())\n",
    "            gender_char = self._lapDict['total'][gender]\n",
    "            p_gender =  gender_char / total_char\n",
    "            for char in name:\n",
    "                char_dict = self._lapDict[char]\n",
    "                p_char_g = (char_dict[gender] + 1) / gender_char\n",
    "                p_gender *= p_char_g\n",
    "            return p_gender\n",
    "        \n",
    "        elif method == 'gt':\n",
    "            total_char = sum(self.genderDict['total'].values())\n",
    "            gender_char = self.genderDict['total'][gender]\n",
    "            p_gender =  gender_char / total_char\n",
    "            for char in name:\n",
    "                char_dict = self.genderDict[char]\n",
    "                r = char_dict[gender]\n",
    "                Nr, NrPlus1 = getNr(r), getNr(r+1)\n",
    "                r_adj = (r + 1) * NrPlus1 / Nr\n",
    "                p_char_g = r_adj / gender_char\n",
    "                p_gender *= p_char_g\n",
    "            return p_gender\n",
    "        else:\n",
    "            raise ValueError(f'{method} not available. Please use\\n'\n",
    "            '\"lap\" --> for laplace-adjust prediction (default).\\n'\n",
    "            '\"gt\" --> for good-turing-adjusted prediction.')\n",
    "                \n",
    "    def predict(self, name, method='lap', show_all=True):\n",
    "        '''Returns the probablities of genders for (a) given name(s).\n",
    "        '''\n",
    "        def run(name, show_all):\n",
    "            pM = self._naiveBayesP(name, 'M', method=method)\n",
    "            pF = self._naiveBayesP(name, 'F', method=method)\n",
    "            pU = self._naiveBayesP(name, 'U', method=method)\n",
    "            totalP = pM + pF + pU\n",
    "            pM, pF, pU = pM/totalP, pF/totalP, pU/totalP\n",
    "            if show_all:\n",
    "                res.append((self.name, {'M': pM, 'F': pF, 'U': pU}))\n",
    "            else:\n",
    "                if pM==pF and pM==pU: res.append((self.name, 'M=F=Undefined', pM))\n",
    "                elif pM == max(pM, pF, pU): res.append((self.name, 'M', pM))\n",
    "                elif pF > pU: res.append((self.name, 'F', pF))\n",
    "                else: res.append((self.name, 'Undefined', pU))\n",
    "        \n",
    "        res = []\n",
    "        if isinstance(name, str):\n",
    "            self.name = name\n",
    "            run(name, show_all)\n",
    "            return res[0]\n",
    "        elif isinstance(name, list):\n",
    "            for n in name:\n",
    "                self.name = n\n",
    "                run(n, show_all)\n",
    "            return res\n",
    "        else:\n",
    "            raise TypeError('name must be either a str or a list')"
   ]
  },
  {
   "cell_type": "code",
   "execution_count": 3,
   "metadata": {},
   "outputs": [
    {
     "data": {
      "text/plain": [
       "('周小窗',\n",
       " {'M': 0.5134549218517384,\n",
       "  'F': 0.48629620251707606,\n",
       "  'U': 0.0002488756311856005})"
      ]
     },
     "execution_count": 3,
     "metadata": {},
     "output_type": "execute_result"
    }
   ],
   "source": [
    "gender = Gender()\n",
    "# predict a single name, a made-up name\n",
    "gender.predict('周小窗')"
   ]
  },
  {
   "cell_type": "code",
   "execution_count": 4,
   "metadata": {},
   "outputs": [
    {
     "data": {
      "text/plain": [
       "('周小窗',\n",
       " {'M': 0.5725960069358972,\n",
       "  'F': 0.4274036151236663,\n",
       "  'U': 3.779404365030616e-07})"
      ]
     },
     "execution_count": 4,
     "metadata": {},
     "output_type": "execute_result"
    }
   ],
   "source": [
    "# use Good Turing smoothing \n",
    "gender.predict('周小窗', method='gt')"
   ]
  },
  {
   "cell_type": "code",
   "execution_count": 5,
   "metadata": {},
   "outputs": [
    {
     "data": {
      "text/plain": [
       "('周小窗', 'M', 0.5134549218517384)"
      ]
     },
     "execution_count": 5,
     "metadata": {},
     "output_type": "execute_result"
    }
   ],
   "source": [
    "# only show the best prediction\n",
    "gender.predict('周小窗', show_all=False)"
   ]
  },
  {
   "cell_type": "code",
   "execution_count": 6,
   "metadata": {},
   "outputs": [
    {
     "data": {
      "text/plain": [
       "[('李柔落', 'F', 0.9154164938954279),\n",
       " ('许健康', 'M', 0.9487591934055662),\n",
       " ('黄恺之', 'M', 0.9017827813632431),\n",
       " ('周牧', 'M', 0.6261793332801057),\n",
       " ('梦娜', 'F', 0.9999271094116119),\n",
       " ('爱富', 'M', 0.6187335357492203),\n",
       " ('小Z', 'F', 0.6872313345854029),\n",
       " ('大A', 'M', 0.7459970436287272),\n",
       " ('小K', 'F', 0.6872313345854029),\n",
       " ('大F', 'F', 0.6708450668193247),\n",
       " ('小K', 'F', 0.6872313345854029),\n",
       " ('大K', 'M', 0.7459970436287272)]"
      ]
     },
     "execution_count": 6,
     "metadata": {},
     "output_type": "execute_result"
    }
   ],
   "source": [
    "# predict a list of made-up names with/without last names\n",
    "names = ['李柔落', '许健康', '黄恺之', '周牧', '梦娜', '爱富', '小Z', '大A', '小K', '大F', '小K', '大K']\n",
    "gender.predict(names, show_all=False)"
   ]
  },
  {
   "cell_type": "code",
   "execution_count": 7,
   "metadata": {},
   "outputs": [
    {
     "data": {
      "text/plain": [
       "[('李柔落', 'F', 0.982632730726264),\n",
       " ('许健康', 'M', 0.9487591934055662),\n",
       " ('黄恺之', 'M', 0.9815359418724886),\n",
       " ('周牧', 'M', 0.6312848637245286),\n",
       " ('梦娜', 'F', 0.9999625480189015),\n",
       " ('爱富', 'M', 0.6212732944684757),\n",
       " ('小Z', 'F', 0.7185658522728057),\n",
       " ('大A', 'M', 0.8534814342201533),\n",
       " ('小K', 'F', 0.7185658522728057),\n",
       " ('大F', 'F', 0.6749260695994721),\n",
       " ('小K', 'F', 0.7185658522728057),\n",
       " ('大K', 'M', 0.8534814342201533)]"
      ]
     },
     "execution_count": 7,
     "metadata": {},
     "output_type": "execute_result"
    }
   ],
   "source": [
    "# using Good Turing smoothing method \n",
    "gender.predict(names, method='gt', show_all=False)"
   ]
  }
 ],
 "metadata": {
  "kernelspec": {
   "display_name": "Python 3",
   "language": "python",
   "name": "python3"
  },
  "language_info": {
   "codemirror_mode": {
    "name": "ipython",
    "version": 3
   },
   "file_extension": ".py",
   "mimetype": "text/x-python",
   "name": "python",
   "nbconvert_exporter": "python",
   "pygments_lexer": "ipython3",
   "version": "3.8.8"
  }
 },
 "nbformat": 4,
 "nbformat_minor": 4
}
