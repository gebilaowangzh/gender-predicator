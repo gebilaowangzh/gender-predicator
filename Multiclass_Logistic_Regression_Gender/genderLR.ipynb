{
 "cells": [
  {
   "cell_type": "code",
   "execution_count": 31,
   "id": "a07f6b6a",
   "metadata": {},
   "outputs": [
    {
     "name": "stdout",
     "output_type": "stream",
     "text": [
      "Writing genderLR.py\n"
     ]
    }
   ],
   "source": [
    "%%writefile genderLR.py\n",
    "'''\n",
    "Author: Zhengxiang (Jack) Wang \n",
    "Date: 2021-07-04\n",
    "GitHub: https://github.com/jaaack-wang \n",
    "About: Multi-class logistic regression classifier that predicts gender of Chinese names.\n",
    "'''\n",
    "\n",
    "\n",
    "from utils import *\n",
    "import numpy as np\n",
    "\n",
    "\n",
    "class GenderLR:\n",
    "    \n",
    "    def __init__(self):\n",
    "        self._theta = np.load('data/params.npy')\n",
    "        self._dic = load_char_dic()\n",
    "        self.mismatch = 'You should run accuracy() first.'\n",
    "        \n",
    "    def _sigmoid(self, z):\n",
    "        return 1/(1+np.exp(-z))\n",
    "    \n",
    "    def predict(self, name, show_all=True, full_name=False):\n",
    "        def run(name):            \n",
    "            if not full_name:\n",
    "                X = name2vec(name, self._dic)\n",
    "            else:\n",
    "                fname = getFirstName(name)\n",
    "                X = name2vec(fname, self._dic)\n",
    "            prob = self._sigmoid(np.squeeze(X @ self._theta))\n",
    "            prob = prob/np.sum(prob)\n",
    "            if show_all:\n",
    "                res.append((name, {'M': prob[0], 'F': prob[1], 'U': prob[2]}))\n",
    "            else:\n",
    "                M, F, U = prob\n",
    "                if M==F and F==U: res.append((name, 'M=F=U', M))\n",
    "                elif M == np.max(prob): res.append((name, 'M', M))\n",
    "                elif F>U: res.append((name, 'F', F))\n",
    "                else: res.append((name, 'U', U))\n",
    "        \n",
    "        res = []\n",
    "        if isinstance(name, str):\n",
    "            run(name)\n",
    "            return res[0]\n",
    "        elif isinstance(name, list):\n",
    "            for n in name:\n",
    "                run(n)\n",
    "            return res\n",
    "        \n",
    "    def accuracy(self, examples, exclude_U=False, full_name=False):\n",
    "        right = 0\n",
    "        mismatch = [['name', 'gender', 'pred', 'prob']]\n",
    "        smp_sz = len(examples)\n",
    "        if not exclude_U:\n",
    "            for example in examples:\n",
    "                name, gender = example\n",
    "                _, pred, prob = self.predict(name, show_all=False, full_name=full_name)\n",
    "                if gender == pred: right += 1\n",
    "                else: mismatch.append([name, gender, pred, prob])\n",
    "        else:\n",
    "            for example in examples:\n",
    "                name, gender = example\n",
    "            if gender != 'U':\n",
    "                _, pred, prob = self.predict(name, show_all=False, full_name=full_name)\n",
    "                if gender == pred: \n",
    "                    right += 1\n",
    "                else: mismatch.append([name, gender, pred, prob])\n",
    "            else:\n",
    "                smp_sz -= 1\n",
    "        \n",
    "        self.mismatch = mismatch\n",
    "        return right/smp_sz"
   ]
  },
  {
   "cell_type": "code",
   "execution_count": 32,
   "id": "64f8a04f",
   "metadata": {},
   "outputs": [],
   "source": [
    "from genderLR import GenderLR"
   ]
  },
  {
   "cell_type": "code",
   "execution_count": 33,
   "id": "fd38c311",
   "metadata": {},
   "outputs": [],
   "source": [
    "gender = GenderLR()"
   ]
  },
  {
   "cell_type": "code",
   "execution_count": 34,
   "id": "7063396a",
   "metadata": {},
   "outputs": [
    {
     "data": {
      "text/plain": [
       "['李柔落', '许健康', '黄恺之', '周牧', '梦娜', '爱富']"
      ]
     },
     "execution_count": 34,
     "metadata": {},
     "output_type": "execute_result"
    }
   ],
   "source": [
    "names"
   ]
  },
  {
   "cell_type": "code",
   "execution_count": 36,
   "id": "d1f478aa",
   "metadata": {},
   "outputs": [
    {
     "data": {
      "text/plain": [
       "[('李柔落', 'F', 0.7406189716495426),\n",
       " ('许健康', 'M', 0.9999990047182503),\n",
       " ('黄恺之', 'M', 0.9985069564065047),\n",
       " ('周牧', 'M', 0.9939343959114006),\n",
       " ('梦娜', 'F', 0.9999985293819316),\n",
       " ('爱富', 'M', 0.9655679649000578)]"
      ]
     },
     "execution_count": 36,
     "metadata": {},
     "output_type": "execute_result"
    }
   ],
   "source": [
    "gender.predict(names, show_all=False)"
   ]
  },
  {
   "cell_type": "code",
   "execution_count": null,
   "id": "8c692daa",
   "metadata": {},
   "outputs": [],
   "source": []
  }
 ],
 "metadata": {
  "kernelspec": {
   "display_name": "Python 3",
   "language": "python",
   "name": "python3"
  },
  "language_info": {
   "codemirror_mode": {
    "name": "ipython",
    "version": 3
   },
   "file_extension": ".py",
   "mimetype": "text/x-python",
   "name": "python",
   "nbconvert_exporter": "python",
   "pygments_lexer": "ipython3",
   "version": "3.8.8"
  }
 },
 "nbformat": 4,
 "nbformat_minor": 5
}
